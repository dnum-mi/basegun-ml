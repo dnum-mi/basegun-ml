{
 "cells": [
  {
   "cell_type": "markdown",
   "id": "3bb078f5-8b8b-422c-ae41-82bf5a5adb8c",
   "metadata": {},
   "source": [
    "# Création d'un dataset d'évaluation pour la detection de marque, modèle et calibre.\n",
    "Le dataset sera constitué de texte brut issu de photos d'armes avec comme label la marque/modèle calibres associés ainsi que la référence RGA\n",
    "\n",
    "## Données sources\n",
    "Nous nous baserons sur un extract de la base de données naturabuy car celle-ci contient des photos des armes ainsi que la référence RGA associé ce qui permettra de remonter au calibre et modèle\n",
    "\n",
    "## Création du dataset\n",
    "Pour chaque image du dataset naturabuy, nous allons lancer un modèle d'OCR (Paddle) afin de recupérer le texte brut\n",
    "Ensuite il sera réalisé un matching entre le RGA et les données naturabuy pour recuperer marque modelèe et calibre\n",
    "\n",
    "## nettoyage du dataset\n",
    "Un nettoyage sera necessaire pour vérifier qu'il n'y a pas de pollution des données. exemples:\n",
    "- filigrane (naturabuy)\n",
    "- autre texte que l'arme (feuilles papier)\n",
    "- photos sans armes\n",
    "- armes sans marquages\n",
    "\n",
    "Cette tâche de nettoyage sera assez chronophage car réalisée à la main\n",
    "Le nettoyage pourrait être réalisé en amont pour economiser du temps de calcul et conserver uniquement les images contenant des armes avec marquages\n",
    "\n",
    "Piste -> création d'un script d'affichage des images puis suppression de l'image si pas de texte de façon manuelle"
   ]
  },
  {
   "cell_type": "code",
   "execution_count": null,
   "id": "18594a1a-1259-4bfe-8d84-bef2f4d225b4",
   "metadata": {},
   "outputs": [],
   "source": []
  },
  {
   "cell_type": "code",
   "execution_count": 3,
   "id": "7e45ad6e-400c-4170-afd4-10ee08b56464",
   "metadata": {},
   "outputs": [],
   "source": [
    "from paddleocr import PaddleOCR,draw_ocr\n",
    "import os\n",
    "from PIL import Image\n",
    "import pandas as pd\n",
    "import numpy as np\n",
    "#import pyiqa\n",
    "\n",
    "os.environ[\"KMP_DUPLICATE_LIB_OK\"]=\"TRUE\"\n",
    "# Paddleocr supports Chinese, English, French, German, Korean and Japanese.\n",
    "# You can set the parameter `lang` as `ch`, `en`, `french`, `german`, `korean`, `japan`\n",
    "# to switch the language model in order.\n",
    "OCR=PaddleOCR(det_model_dir='C:/Users/aurelien.martinez/Documents/Basegun/3.OCR/PaddleModels/detection', rec_model_dir='C:/Users/aurelien.martinez/Documents/Basegun/3.OCR/PaddleModels/recognition', cls_model_dir='C:/Users/aurelien.martinez/Documents/Basegun/3.OCR/PaddleModels/classification', use_angle_cls=True,show_log = False) # need to run only once to download and load model into memory"
   ]
  },
  {
   "cell_type": "markdown",
   "id": "f68036ca-28e4-4bfc-b248-476604fb1836",
   "metadata": {},
   "source": [
    "# inference on images"
   ]
  },
  {
   "cell_type": "code",
   "execution_count": 2,
   "id": "62c7a252-1d00-4129-97fe-e48a6c8c832d",
   "metadata": {},
   "outputs": [],
   "source": [
    "def get_text(results):\n",
    "    \"\"\"extracts raw text from PaddleOCR output\n",
    "    Args:\n",
    "        results: raw result from PaddleOCR\n",
    "\n",
    "    Returns:\n",
    "        text: A string with the text extracted from the image\n",
    "    \"\"\"\n",
    "    text=\" \"\n",
    "    for result in results:\n",
    "        text=text+result[1][0]+\" \"\n",
    "    return text.lower()\n",
    "    \n",
    "def imageprocessing(imglink):\n",
    "    results = OCR.ocr(imglink, cls=True)\n",
    "    if results!=[None]:#The results with recongition and detection confidence below 0.5 are filtered by paddle, the thresholds values can be changed\n",
    "        res=get_text(results[0])\n",
    "        return res.replace('naturabuy','')\n",
    "    else:\n",
    "        return ''"
   ]
  },
  {
   "cell_type": "code",
   "execution_count": 4,
   "id": "dd09e012-89fb-48aa-a636-0ee298f37bab",
   "metadata": {},
   "outputs": [],
   "source": [
    "#Initialize dataframe\n",
    "data = pd.read_csv('NBdata.csv',on_bad_lines='skip')\n",
    "data=data.drop([\"auction_id\",\"cat_name\",\"title\",\"label\"],axis=1)\n",
    "data.replace(np.nan, '', inplace=True)\n",
    "data=data.set_index('rga_ref')\n",
    "for key in data:\n",
    "    data[key+'text'] = ''"
   ]
  },
  {
   "cell_type": "code",
   "execution_count": 4,
   "id": "34f06957-7840-4685-9017-f016ecd4c999",
   "metadata": {},
   "outputs": [],
   "source": [
    "def processRow(data,i):\n",
    "    for key in data:\n",
    "        if data[key][i] != '' and not('text' in key):\n",
    "            res=imageprocessing(data[key][i])\n",
    "            data[key+'text'][i] = res\n",
    "            os.remove(\"tmp.jpg\")"
   ]
  },
  {
   "cell_type": "code",
   "execution_count": 9,
   "id": "54defc74-f057-4af2-870a-138ff0259701",
   "metadata": {},
   "outputs": [
    {
     "name": "stderr",
     "output_type": "stream",
     "text": [
      "  0%|          | 0/500 [00:00<?, ?it/s]\n",
      "61.7kiB [00:00, 1.40MiB/s]                 \u001b[A\n",
      "\n",
      "62.1kiB [00:00, 1.83MiB/s]                 \u001b[A\n",
      "\n",
      "71.3kiB [00:00, 1.82MiB/s]                 \u001b[A\n",
      "\n",
      "58.1kiB [00:00, 2.21MiB/s]                 \u001b[A\n",
      "\n",
      "39.2kiB [00:00, 1.94MiB/s]                 \u001b[A\n",
      "\n",
      "38.4kiB [00:00, 4.68MiB/s]                 \u001b[A\n",
      "\n",
      "40.6kiB [00:00, 13.6MiB/s]                 \u001b[A\n",
      "\n",
      "40.2kiB [00:00, 3.73MiB/s]                 \u001b[A\n",
      "\n",
      "43.7kiB [00:00, 1.99MiB/s]                 \u001b[A\n",
      "\n",
      "40.1kiB [00:00, 1.90MiB/s]                 \u001b[A\n",
      "\n",
      "45.3kiB [00:00, 2.03MiB/s]                 \u001b[A\n",
      "  0%|          | 1/500 [00:09<1:23:05,  9.99s/it]\n",
      "  0%|          | 0.00/1.00 [00:00<?, ?iB/s]\u001b[A\n",
      "243kiB [00:00, 1.80MiB/s]                  \u001b[A\n",
      "\n",
      "  0%|          | 0.00/1.00 [00:00<?, ?iB/s]\u001b[A\n",
      "284kiB [00:00, 1.69MiB/s]                  \u001b[A\n",
      "\n",
      "  0%|          | 0.00/1.00 [00:00<?, ?iB/s]\u001b[A\n",
      "317kiB [00:00, 1.76MiB/s]                  \u001b[A\n",
      "\n",
      "  0%|          | 0.00/1.00 [00:00<?, ?iB/s]\u001b[A\n",
      "274kiB [00:00, 2.20MiB/s]                  \u001b[A\n",
      "\n",
      "191kiB [00:00, 2.14MiB/s]                  \u001b[A\n",
      "\n",
      "  0%|          | 0.00/1.00 [00:00<?, ?iB/s]\u001b[A\n",
      "279kiB [00:00, 1.62MiB/s]                  \u001b[A\n",
      "\n",
      "  0%|          | 0.00/1.00 [00:00<?, ?iB/s]\u001b[A\n",
      "266kiB [00:00, 1.67MiB/s]                  \u001b[A\n",
      "\n",
      "150kiB [00:00, 2.01MiB/s]                  \u001b[A\n",
      "\n",
      "  0%|          | 0.00/1.00 [00:00<?, ?iB/s]\u001b[A\n",
      "277kiB [00:00, 1.86MiB/s]                  \u001b[A\n",
      "  0%|          | 2/500 [00:19<1:22:20,  9.92s/it]\n",
      "  0%|          | 0.00/1.00 [00:00<?, ?iB/s]\u001b[A\n",
      "243kiB [00:00, 1.76MiB/s]                  \u001b[A\n",
      "\n",
      "  0%|          | 0.00/1.00 [00:00<?, ?iB/s]\u001b[A\n",
      "282kiB [00:00, 1.87MiB/s]                  \u001b[A\n",
      "\n",
      "  0%|          | 0.00/1.00 [00:00<?, ?iB/s]\u001b[A\n",
      "277kiB [00:00, 2.04MiB/s]                  \u001b[A\n",
      "\n",
      "  0%|          | 0.00/1.00 [00:00<?, ?iB/s]\u001b[A\n",
      "276kiB [00:00, 2.08MiB/s]                  \u001b[A\n",
      "\n",
      "  0%|          | 0.00/1.00 [00:00<?, ?iB/s]\u001b[A\n",
      "210kiB [00:00, 1.75MiB/s]                  \u001b[A\n",
      "\n",
      "  0%|          | 0.00/1.00 [00:00<?, ?iB/s]\u001b[A\n",
      "293kiB [00:00, 2.00MiB/s]                  \u001b[A\n",
      "\n",
      "28.3kiB [00:00, 3.84MiB/s]                 \u001b[A\n",
      "\n",
      "  0%|          | 0.00/1.00 [00:00<?, ?iB/s]\u001b[A\n",
      "229kiB [00:00, 2.16MiB/s]                  \u001b[A\n",
      "576kiB [00:00, 2.39MiB/s]\u001b[A\n",
      "\n",
      "  0%|          | 0.00/1.00 [00:00<?, ?iB/s]\u001b[A\n",
      "628kiB [00:00, 3.27MiB/s]                  \u001b[A\n",
      "\n",
      "  0%|          | 0.00/1.00 [00:00<?, ?iB/s]\u001b[A\n",
      "616kiB [00:00, 3.52MiB/s]                  \u001b[A\n",
      "\n",
      "  0%|          | 0.00/1.00 [00:00<?, ?iB/s]\u001b[A\n",
      "646kiB [00:00, 3.81MiB/s]                  \u001b[A\n",
      "\n",
      "  0%|          | 0.00/1.00 [00:00<?, ?iB/s]\u001b[A\n",
      "311kiB [00:00, 3.02MiB/s]                  \u001b[A\n",
      "628kiB [00:00, 3.09MiB/s]\u001b[A\n",
      "  1%|          | 3/500 [01:54<6:42:33, 48.60s/it]\n",
      "23.0kiB [00:00, 23.2MiB/s]                 \u001b[A\n",
      "  1%|          | 4/500 [01:58<4:16:34, 31.04s/it]\n",
      "35.3kiB [00:00, 6.82MiB/s]                 \u001b[A\n",
      "\n",
      "25.5kiB [00:00, 1.45MiB/s]                 \u001b[A\n",
      "\n",
      "33.4kiB [00:00, 4.43MiB/s]                 \u001b[A\n",
      "\n",
      "86.1kiB [00:00, 5.16MiB/s]                 \u001b[A\n",
      "\n",
      "24.8kiB [00:00, 6.22MiB/s]                 \u001b[A\n",
      "\n",
      "62.6kiB [00:00, 5.25MiB/s]                 \u001b[A\n",
      "  1%|          | 5/500 [02:10<3:18:53, 24.11s/it]\n",
      "31.2kiB [00:00, 31.3MiB/s]                 \u001b[A\n",
      "\n",
      "31.9kiB [00:00, 7.96MiB/s]                 \u001b[A\n",
      "\n",
      "34.0kiB [00:00, 11.4MiB/s]                 \u001b[A\n",
      "\n",
      "31.4kiB [00:00, 15.4MiB/s]                 \u001b[A\n",
      "\n",
      "28.2kiB [00:00, 4.87MiB/s]                 \u001b[A\n",
      "\n",
      "33.8kiB [00:00, 34.0MiB/s]                 \u001b[A\n",
      "\n",
      "32.6kiB [00:00, 2.26MiB/s]                 \u001b[A\n",
      "  1%|          | 6/500 [02:16<2:28:39, 18.06s/it]\n",
      "37.6kiB [00:00, 18.9MiB/s]                 \u001b[A\n",
      "\n",
      "58.2kiB [00:00, 3.68MiB/s]                 \u001b[A\n",
      "\n",
      "33.7kiB [00:00, 3.89MiB/s]                 \u001b[A\n",
      "\n",
      "44.8kiB [00:00, 7.57MiB/s]                 \u001b[A\n",
      "\n",
      "32.0kiB [00:00, 62.1MiB/s]                 \u001b[A\n",
      "\n",
      "46.3kiB [00:00, 23.3MiB/s]                 \u001b[A\n",
      "\n",
      "71.8kiB [00:00, 4.64MiB/s]                 \u001b[A\n",
      "\n",
      "36.4kiB [00:00, 9.13MiB/s]                 \u001b[A\n",
      "\n",
      "44.5kiB [00:00, 13.5MiB/s]                 \u001b[A\n",
      "  1%|▏         | 7/500 [02:28<2:11:03, 15.95s/it]\n",
      "69.6kiB [00:00, 5.70MiB/s]                 \u001b[A\n",
      "\n",
      "87.3kiB [00:00, 3.08MiB/s]                 \u001b[A\n",
      "\n",
      "87.0kiB [00:00, 3.07MiB/s]                 \u001b[A\n",
      "\n",
      "66.6kiB [00:00, 5.91MiB/s]                 \u001b[A\n",
      "\n",
      "77.6kiB [00:00, 8.61MiB/s]                 \u001b[A\n",
      "\n",
      "42.8kiB [00:00, 14.4MiB/s]                 \u001b[A\n",
      "\n",
      "46.0kiB [00:00, 6.43MiB/s]                 \u001b[A\n",
      "\n",
      "123kiB [00:00, 5.56MiB/s]                  \u001b[A\n",
      "\n",
      "108kiB [00:00, 9.13MiB/s]                  \u001b[A\n",
      "\n",
      "48.3kiB [00:00, 20.7MiB/s]                 \u001b[A\n",
      "  2%|▏         | 8/500 [02:36<1:50:48, 13.51s/it]\n",
      "69.6kiB [00:00, 4.02MiB/s]                 \u001b[A\n",
      "\n",
      "57.6kiB [00:00, 4.98MiB/s]                 \u001b[A\n",
      "\n",
      "80.6kiB [00:00, 9.51MiB/s]                 \u001b[A\n",
      "\n",
      "86.1kiB [00:00, 3.20MiB/s]                 \u001b[A\n",
      "\n",
      "107kiB [00:00, 8.18MiB/s]                  \u001b[A\n",
      "\n",
      "109kiB [00:00, 9.51MiB/s]                  \u001b[A\n",
      "\n",
      "97.0kiB [00:00, 3.27MiB/s]                 \u001b[A\n",
      "\n",
      "48.4kiB [00:00, 44.1MiB/s]                 \u001b[A\n",
      "\n",
      "107kiB [00:00, 6.84MiB/s]                  \u001b[A\n",
      "\n",
      "104kiB [00:00, 9.83MiB/s]                  \u001b[A\n",
      "\n",
      "73.7kiB [00:00, 5.26MiB/s]                 \u001b[A\n",
      "\n",
      "67.8kiB [00:00, 6.69MiB/s]                 \u001b[A\n",
      "  2%|▏         | 9/500 [02:54<2:01:18, 14.82s/it]\n",
      "62.2kiB [00:00, 6.37MiB/s]                 \u001b[A\n",
      "\n",
      "66.1kiB [00:00, 3.95MiB/s]                 \u001b[A\n",
      "\n",
      "64.8kiB [00:00, 7.31MiB/s]                 \u001b[A\n",
      "\n",
      "61.8kiB [00:00, 3.08MiB/s]                 \u001b[A\n",
      "\n",
      "26.4kiB [00:00, 6.63MiB/s]                 \u001b[A\n",
      "\n",
      "31.2kiB [00:00, 7.82MiB/s]                 \u001b[A\n",
      "\n",
      "95.6kiB [00:00, 3.00MiB/s]                 \u001b[A\n",
      "\n",
      "63.2kiB [00:00, 21.1MiB/s]                 \u001b[A\n",
      "\n",
      "61.1kiB [00:00, 8.10MiB/s]                 \u001b[A\n",
      "  2%|▏         | 10/500 [03:09<2:02:47, 15.04s/it]\n",
      "75.9kiB [00:00, 1.82MiB/s]                 \u001b[A\n",
      "\n",
      "85.0kiB [00:00, 9.35MiB/s]                 \u001b[A\n",
      "\n",
      "87.2kiB [00:00, 4.61MiB/s]                 \u001b[A\n",
      "\n",
      "87.3kiB [00:00, 5.90MiB/s]                 \u001b[A\n",
      "  2%|▏         | 11/500 [03:15<1:39:34, 12.22s/it]\n",
      "78.5kiB [00:00, 4.31MiB/s]                 \u001b[A\n",
      "\n",
      "51.9kiB [00:00, 10.2MiB/s]                 \u001b[A\n",
      "\n",
      "36.1kiB [00:00, 17.8MiB/s]                 \u001b[A\n",
      "\n",
      "58.1kiB [00:00, 8.02MiB/s]                 \u001b[A\n",
      "\n",
      "81.2kiB [00:00, 8.80MiB/s]                 \u001b[A\n",
      "\n",
      "83.5kiB [00:00, 4.28MiB/s]                 \u001b[A\n",
      "\n",
      "34.6kiB [00:00, 6.91MiB/s]                 \u001b[A\n",
      "\n",
      "20.6kiB [00:00, 3.43MiB/s]                 \u001b[A\n",
      "  2%|▏         | 12/500 [03:23<1:29:23, 10.99s/it]\n",
      "17.6kiB [00:00, ?iB/s]                     \u001b[A\n",
      "\n",
      "42.9kiB [00:00, 10.8MiB/s]                 \u001b[A\n",
      "\n",
      "48.8kiB [00:00, 7.60MiB/s]                 \u001b[A\n",
      "\n",
      "33.5kiB [00:00, 2.32MiB/s]                 \u001b[A\n",
      "\n",
      "53.4kiB [00:00, 4.77MiB/s]                 \u001b[A\n",
      "\n",
      "18.2kiB [00:00, 6.64MiB/s]                 \u001b[A\n",
      "\n",
      "53.4kiB [00:00, 8.07MiB/s]                 \u001b[A\n",
      "\n",
      "55.4kiB [00:00, 4.37MiB/s]                 \u001b[A\n",
      "\n",
      "30.6kiB [00:00, 6.49MiB/s]                 \u001b[A\n",
      "\n",
      "41.2kiB [00:00, 2.68MiB/s]                 \u001b[A\n",
      "\n",
      "43.5kiB [00:00, 7.05MiB/s]                 \u001b[A\n",
      "\n",
      "39.7kiB [00:00, 2.23MiB/s]                 \u001b[A\n",
      "  3%|▎         | 13/500 [03:45<1:54:25, 14.10s/it]\n",
      "31.8kiB [00:00, 1.93MiB/s]                 \u001b[A\n",
      "\n",
      "44.3kiB [00:00, ?iB/s]                     \u001b[A\n",
      "\n",
      "47.5kiB [00:00, 15.7MiB/s]                 \u001b[A\n",
      "\n",
      "48.7kiB [00:00, 4.53MiB/s]                 \u001b[A\n",
      "\n",
      "37.6kiB [00:00, 24.9MiB/s]                 \u001b[A\n",
      "\n",
      "48.0kiB [00:00, 24.1MiB/s]                 \u001b[A\n",
      "\n",
      "42.6kiB [00:00, ?iB/s]                     \u001b[A\n",
      "\n",
      "41.2kiB [00:00, 41.2MiB/s]                 \u001b[A\n",
      "\n",
      "29.7kiB [00:00, 14.9MiB/s]                 \u001b[A\n",
      "\n",
      "38.5kiB [00:00, 11.7MiB/s]                 \u001b[A\n",
      "  3%|▎         | 14/500 [03:55<1:46:07, 13.10s/it]\n",
      "27.8kiB [00:00, 1.86MiB/s]                 \u001b[A\n",
      "\n",
      "22.3kiB [00:00, 11.2MiB/s]                 \u001b[A\n",
      "\n",
      "25.6kiB [00:00, 1.98MiB/s]                 \u001b[A\n",
      "\n",
      "28.3kiB [00:00, 1.70MiB/s]                 \u001b[A\n",
      "\n",
      "23.8kiB [00:00, ?iB/s]                     \u001b[A\n",
      "\n",
      "28.3kiB [00:00, 2.64MiB/s]                 \u001b[A\n",
      "\n",
      "23.7kiB [00:00, ?iB/s]                     \u001b[A\n",
      "  3%|▎         | 15/500 [04:02<1:31:01, 11.26s/it]\n",
      "37.8kiB [00:00, 37.8MiB/s]                 \u001b[A\n",
      "\n",
      "60.5kiB [00:00, 8.27MiB/s]                 \u001b[A\n",
      "\n",
      "37.3kiB [00:00, 18.7MiB/s]                 \u001b[A\n",
      "\n",
      "45.6kiB [00:00, 6.24MiB/s]                 \u001b[A\n",
      "\n",
      "45.5kiB [00:00, 22.8MiB/s]                 \u001b[A\n",
      "\n",
      "46.8kiB [00:00, 23.5MiB/s]                 \u001b[A\n",
      "\n",
      "50.1kiB [00:00, 25.1MiB/s]                 \u001b[A\n",
      "\n",
      "34.3kiB [00:00, 4.44MiB/s]                 \u001b[A\n",
      "\n",
      "31.0kiB [00:00, 31.2MiB/s]                 \u001b[A\n",
      "\n",
      "62.8kiB [00:00, 9.91MiB/s]                 \u001b[A\n",
      "\n",
      "73.2kiB [00:00, 4.18MiB/s]                 \u001b[A\n",
      "\n",
      "48.6kiB [00:00, 2.48MiB/s]                 \u001b[A\n",
      "  3%|▎         | 16/500 [04:16<1:36:21, 11.95s/it]\n",
      "32.2kiB [00:00, 10.7MiB/s]                 \u001b[A\n",
      "\n",
      "34.1kiB [00:00, 6.74MiB/s]                 \u001b[A\n",
      "\n",
      "49.8kiB [00:00, 12.5MiB/s]                 \u001b[A\n",
      "\n",
      "53.8kiB [00:00, 2.59MiB/s]                 \u001b[A\n",
      "\n",
      "48.0kiB [00:00, 4.77MiB/s]                 \u001b[A\n",
      "\n",
      "65.0kiB [00:00, 6.19MiB/s]                 \u001b[A\n",
      "\n",
      "30.5kiB [00:00, 2.06MiB/s]                 \u001b[A\n",
      "\n",
      "34.0kiB [00:00, 11.5MiB/s]                 \u001b[A\n",
      "\n",
      "50.3kiB [00:00, 7.82MiB/s]                 \u001b[A\n",
      "\n",
      "83.2kiB [00:00, 4.10MiB/s]                 \u001b[A\n",
      "  3%|▎         | 17/500 [04:38<1:59:45, 14.88s/it]\n",
      "25.5kiB [00:00, 25.6MiB/s]                 \u001b[A\n",
      "\n",
      "70.3kiB [00:00, 5.12MiB/s]                 \u001b[A\n",
      "\n",
      "50.4kiB [00:00, 4.08MiB/s]                 \u001b[A\n",
      "\n",
      "101kiB [00:00, 3.80MiB/s]                  \u001b[A\n",
      "\n",
      "61.7kiB [00:00, 5.80MiB/s]                 \u001b[A\n",
      "\n",
      "94.9kiB [00:00, 3.66MiB/s]                 \u001b[A\n",
      "\n",
      "45.6kiB [00:00, 9.15MiB/s]                 \u001b[A\n",
      "  4%|▎         | 18/500 [04:50<1:52:55, 14.06s/it]\n",
      "51.3kiB [00:00, 6.69MiB/s]                 \u001b[A\n",
      "\n",
      "60.1kiB [00:00, 4.88MiB/s]                 \u001b[A\n",
      "\n",
      "56.7kiB [00:00, 4.76MiB/s]                 \u001b[A\n",
      "\n",
      "47.0kiB [00:00, 11.4MiB/s]                 \u001b[A\n",
      "\n",
      "41.7kiB [00:00, 6.92MiB/s]                 \u001b[A\n",
      "\n",
      "46.5kiB [00:00, 23.3MiB/s]                 \u001b[A\n",
      "\n",
      "53.1kiB [00:00, 2.83MiB/s]                 \u001b[A\n",
      "\n",
      "55.3kiB [00:00, 4.50MiB/s]                 \u001b[A\n",
      "\n",
      "21.7kiB [00:00, 1.72MiB/s]                 \u001b[A\n",
      "\n",
      "51.0kiB [00:00, 2.50MiB/s]                 \u001b[A\n",
      "\n",
      "58.4kiB [00:00, 2.76MiB/s]                 \u001b[A\n",
      "  4%|▍         | 19/500 [04:59<1:41:10, 12.62s/it]\n",
      "33.7kiB [00:00, 11.2MiB/s]                 \u001b[A\n",
      "\n",
      "43.4kiB [00:00, ?iB/s]                     \u001b[A\n",
      "\n",
      "27.1kiB [00:00, ?iB/s]                     \u001b[A\n",
      "\n",
      "34.5kiB [00:00, ?iB/s]                     \u001b[A\n",
      "\n",
      "22.4kiB [00:00, ?iB/s]                     \u001b[A\n",
      "\n",
      "24.3kiB [00:00, 1.56MiB/s]                 \u001b[A\n",
      "\n",
      "37.4kiB [00:00, ?iB/s]                     \u001b[A\n",
      "\n",
      "40.6kiB [00:00, ?iB/s]                     \u001b[A\n",
      "  4%|▍         | 20/500 [05:07<1:30:28, 11.31s/it]\n",
      "72.4kiB [00:00, 7.20MiB/s]                 \u001b[A\n",
      "\n",
      "55.2kiB [00:00, 3.05MiB/s]                 \u001b[A\n",
      "\n",
      "56.1kiB [00:00, 5.58MiB/s]                 \u001b[A\n",
      "\n",
      "46.8kiB [00:00, 23.1MiB/s]                 \u001b[A\n",
      "\n",
      "59.7kiB [00:00, 2.93MiB/s]                 \u001b[A\n",
      "\n",
      "58.3kiB [00:00, 3.04MiB/s]                 \u001b[A\n",
      "\n",
      "43.9kiB [00:00, 2.81MiB/s]                 \u001b[A\n",
      "\n",
      "48.5kiB [00:00, 6.00MiB/s]                 \u001b[A\n",
      "\n",
      "50.1kiB [00:00, ?iB/s]                     \u001b[A\n",
      "\n",
      "50.4kiB [00:00, 2.50MiB/s]                 \u001b[A\n",
      "  4%|▍         | 21/500 [05:15<1:20:57, 10.14s/it]\n",
      "46.3kiB [00:00, 2.97MiB/s]                 \u001b[A\n",
      "\n",
      "49.4kiB [00:00, ?iB/s]                     \u001b[A\n",
      "\n",
      "36.7kiB [00:00, ?iB/s]                     \u001b[A\n",
      "\n",
      "49.3kiB [00:00, 6.13MiB/s]                 \u001b[A\n",
      "\n",
      "43.3kiB [00:00, 6.65MiB/s]                 \u001b[A\n",
      "\n",
      "10.4kiB [00:00, ?iB/s]                     \u001b[A\n",
      "  4%|▍         | 22/500 [05:22<1:14:18,  9.33s/it]\n",
      "35.0kiB [00:00, 11.7MiB/s]                 \u001b[A\n",
      "\n",
      "45.8kiB [00:00, 15.3MiB/s]                 \u001b[A\n",
      "\n",
      "46.4kiB [00:00, 23.2MiB/s]                 \u001b[A\n",
      "\n",
      "41.3kiB [00:00, 13.8MiB/s]                 \u001b[A\n",
      "\n",
      "40.4kiB [00:00, 10.1MiB/s]                 \u001b[A\n",
      "  5%|▍         | 23/500 [05:28<1:06:07,  8.32s/it]\n",
      "49.2kiB [00:00, 2.99MiB/s]                 \u001b[A\n",
      "\n",
      "34.3kiB [00:00, 6.86MiB/s]                 \u001b[A\n",
      "\n",
      "40.8kiB [00:00, 4.29MiB/s]                 \u001b[A\n",
      "\n",
      "46.1kiB [00:00, 13.9MiB/s]                 \u001b[A\n",
      "\n",
      "70.0kiB [00:00, 4.98MiB/s]                 \u001b[A\n",
      "\n",
      "23.9kiB [00:00, 12.0MiB/s]                 \u001b[A\n",
      "  5%|▍         | 24/500 [05:35<1:03:43,  8.03s/it]\n",
      "102kiB [00:00, 6.75MiB/s]                  \u001b[A\n",
      "\n",
      "89.2kiB [00:00, 2.51MiB/s]                 \u001b[A\n",
      "\n",
      "55.3kiB [00:00, 3.49MiB/s]                 \u001b[A\n",
      "\n",
      "96.4kiB [00:00, 3.34MiB/s]                 \u001b[A\n",
      "  5%|▌         | 25/500 [05:48<1:14:40,  9.43s/it]\n",
      "23.4kiB [00:00, 11.9MiB/s]                 \u001b[A\n",
      "\n",
      "28.6kiB [00:00, 3.52MiB/s]                 \u001b[A\n",
      "\n",
      "30.0kiB [00:00, 10.0MiB/s]                 \u001b[A\n",
      "\n",
      "28.2kiB [00:00, 2.40MiB/s]                 \u001b[A\n",
      "\n",
      "26.8kiB [00:00, 2.54MiB/s]                 \u001b[A\n",
      "\n",
      "24.5kiB [00:00, 1.88MiB/s]                 \u001b[A\n",
      "\n",
      "69.1kiB [00:00, 2.44MiB/s]                 \u001b[A\n",
      "\n",
      "27.8kiB [00:00, 4.89MiB/s]                 \u001b[A\n",
      "\n",
      "30.1kiB [00:00, 4.97MiB/s]                 \u001b[A\n",
      "\n",
      "22.1kiB [00:00, 2.75MiB/s]                 \u001b[A\n",
      "\n",
      "26.9kiB [00:00, 4.52MiB/s]                 \u001b[A\n",
      "\n",
      "24.4kiB [00:00, 13.0MiB/s]                 \u001b[A\n",
      "  5%|▌         | 26/500 [05:58<1:16:34,  9.69s/it]\n",
      "46.3kiB [00:00, 23.2MiB/s]                 \u001b[A\n",
      "\n",
      "61.7kiB [00:00, 2.75MiB/s]                 \u001b[A\n",
      "\n",
      "62.6kiB [00:00, 4.91MiB/s]                 \u001b[A\n",
      "\n",
      "51.4kiB [00:00, 3.94MiB/s]                 \u001b[A\n",
      "\n",
      "60.4kiB [00:00, 6.25MiB/s]                 \u001b[A\n",
      "\n",
      "39.4kiB [00:00, 3.35MiB/s]                 \u001b[A\n",
      "\n",
      "42.2kiB [00:00, 5.87MiB/s]                 \u001b[A\n",
      "\n",
      "29.5kiB [00:00, 3.61MiB/s]                 \u001b[A\n",
      "\n",
      "52.5kiB [00:00, 6.54MiB/s]                 \u001b[A\n",
      "\n",
      "61.9kiB [00:00, 3.70MiB/s]                 \u001b[A\n",
      "\n",
      "39.5kiB [00:00, 19.8MiB/s]                 \u001b[A\n",
      "\n",
      "27.8kiB [00:00, 6.96MiB/s]                 \u001b[A\n",
      "  5%|▌         | 27/500 [06:09<1:17:22,  9.81s/it]\n",
      "38.4kiB [00:00, ?iB/s]                     \u001b[A\n",
      "\n",
      "39.2kiB [00:00, 5.36MiB/s]                 \u001b[A\n",
      "  6%|▌         | 28/500 [06:10<56:24,  7.17s/it]  \n",
      "63.4kiB [00:00, 3.26MiB/s]                 \u001b[A\n",
      "\n",
      "137kiB [00:00, 4.46MiB/s]                  \u001b[A\n",
      "\n",
      "119kiB [00:00, 2.73MiB/s]                  \u001b[A\n",
      "\n",
      "103kiB [00:00, 6.39MiB/s]                  \u001b[A\n",
      "  6%|▌         | 29/500 [06:12<45:51,  5.84s/it]\n",
      "57.4kiB [00:00, 5.68MiB/s]                 \u001b[A\n",
      "\n",
      "48.6kiB [00:00, 24.3MiB/s]                 \u001b[A\n",
      "\n",
      "88.0kiB [00:00, 2.24MiB/s]                 \u001b[A\n",
      "\n",
      "84.8kiB [00:00, 2.78MiB/s]                 \u001b[A\n",
      "\n",
      "88.0kiB [00:00, 4.90MiB/s]                 \u001b[A\n",
      "\n",
      "77.2kiB [00:00, 5.36MiB/s]                 \u001b[A\n",
      "\n",
      "76.8kiB [00:00, 3.32MiB/s]                 \u001b[A\n",
      "\n",
      "88.6kiB [00:00, 2.17MiB/s]                 \u001b[A\n",
      "\n",
      "88.8kiB [00:00, 2.18MiB/s]                 \u001b[A\n",
      "\n",
      "103kiB [00:00, 5.79MiB/s]                  \u001b[A\n",
      "\n",
      "89.5kiB [00:00, 3.09MiB/s]                 \u001b[A\n",
      "  6%|▌         | 30/500 [06:23<57:57,  7.40s/it]\n",
      "21.6kiB [00:00, 1.56MiB/s]                 \u001b[A\n",
      "\n",
      "23.8kiB [00:00, 11.9MiB/s]                 \u001b[A\n",
      "\n",
      "21.8kiB [00:00, 1.21MiB/s]                 \u001b[A\n",
      "\n",
      "22.4kiB [00:00, ?iB/s]                     \u001b[A\n",
      "  6%|▌         | 31/500 [06:26<47:26,  6.07s/it]\n",
      "51.4kiB [00:00, 17.2MiB/s]                 \u001b[A\n",
      "\n",
      "58.2kiB [00:00, 4.52MiB/s]                 \u001b[A\n",
      "\n",
      "23.5kiB [00:00, 11.8MiB/s]                 \u001b[A\n",
      "\n",
      "37.2kiB [00:00, 2.32MiB/s]                 \u001b[A\n",
      "\n",
      "52.1kiB [00:00, 3.77MiB/s]                 \u001b[A\n",
      "\n",
      "78.7kiB [00:00, 3.90MiB/s]                 \u001b[A\n",
      "\n",
      "49.9kiB [00:00, 16.7MiB/s]                 \u001b[A\n",
      "\n",
      "41.7kiB [00:00, 14.0MiB/s]                 \u001b[A\n",
      "\n",
      "31.1kiB [00:00, 15.6MiB/s]                 \u001b[A\n",
      "\n",
      "27.1kiB [00:00, 13.6MiB/s]                 \u001b[A\n",
      "\n",
      "30.6kiB [00:00, 3.05MiB/s]                 \u001b[A\n",
      "  6%|▋         | 32/500 [06:50<1:27:46, 11.25s/it]\n",
      "40.2kiB [00:00, 4.70MiB/s]                 \u001b[A\n",
      "\n",
      "51.2kiB [00:00, 12.8MiB/s]                 \u001b[A\n",
      "  7%|▋         | 33/500 [06:52<1:07:12,  8.63s/it]\n",
      "45.2kiB [00:00, 15.1MiB/s]                 \u001b[A\n",
      "\n",
      "55.4kiB [00:00, 18.5MiB/s]                 \u001b[A\n",
      "\n",
      "59.0kiB [00:00, 2.58MiB/s]                 \u001b[A\n",
      "\n",
      "50.5kiB [00:00, 5.63MiB/s]                 \u001b[A\n",
      "\n",
      "49.3kiB [00:00, 2.97MiB/s]                 \u001b[A\n",
      "\n",
      "65.2kiB [00:00, 9.64MiB/s]                 \u001b[A\n",
      "\n",
      "44.9kiB [00:00, 11.3MiB/s]                 \u001b[A\n",
      "\n",
      "46.7kiB [00:00, 12.1MiB/s]                 \u001b[A\n",
      "  7%|▋         | 34/500 [07:00<1:04:15,  8.27s/it]\n",
      "79.0kiB [00:00, 4.13MiB/s]                 \u001b[A\n",
      "\n",
      "43.3kiB [00:00, 10.8MiB/s]                 \u001b[A\n",
      "\n",
      "52.1kiB [00:00, 26.1MiB/s]                 \u001b[A\n",
      "\n",
      "49.6kiB [00:00, 3.46MiB/s]                 \u001b[A\n",
      "\n",
      "73.2kiB [00:00, 6.21MiB/s]                 \u001b[A\n",
      "\n",
      "38.9kiB [00:00, 5.97MiB/s]                 \u001b[A\n",
      "\n",
      "49.5kiB [00:00, 16.4MiB/s]                 \u001b[A\n",
      "\n",
      "50.1kiB [00:00, 21.2MiB/s]                 \u001b[A\n",
      "\n",
      "42.4kiB [00:00, 4.25MiB/s]                 \u001b[A\n",
      "\n",
      "44.6kiB [00:00, 7.42MiB/s]                 \u001b[A\n",
      "\n",
      "18.4kiB [00:00, 9.05MiB/s]                 \u001b[A\n",
      "\n",
      "49.6kiB [00:00, 24.5MiB/s]                 \u001b[A\n",
      "  7%|▋         | 35/500 [07:14<1:17:37, 10.02s/it]\n",
      "27.1kiB [00:00, 6.79MiB/s]                 \u001b[A\n",
      "\n",
      "29.6kiB [00:00, 29.5MiB/s]                 \u001b[A\n",
      "\n",
      "19.6kiB [00:00, 2.22MiB/s]                 \u001b[A\n",
      "\n",
      "25.7kiB [00:00, 3.20MiB/s]                 \u001b[A\n",
      "\n",
      "24.6kiB [00:00, 24.7MiB/s]                 \u001b[A\n",
      "\n",
      "21.4kiB [00:00, 3.46MiB/s]                 \u001b[A\n",
      "\n",
      "27.1kiB [00:00, 1.80MiB/s]                 \u001b[A\n",
      "  7%|▋         | 36/500 [07:22<1:13:43,  9.53s/it]\n",
      "35.7kiB [00:00, 2.52MiB/s]                 \u001b[A\n",
      "\n",
      "40.6kiB [00:00, 9.32MiB/s]                 \u001b[A\n",
      "\n",
      "37.7kiB [00:00, 7.68MiB/s]                 \u001b[A\n",
      "\n",
      "35.5kiB [00:00, 1.59MiB/s]                 \u001b[A\n",
      "\n",
      "30.8kiB [00:00, 5.55MiB/s]                 \u001b[A\n",
      "\n",
      "8.82kiB [00:00, 9.12MiB/s]                 \u001b[A\n",
      "\n",
      "9.19kiB [00:00, ?iB/s]                     \u001b[A\n",
      "  7%|▋         | 37/500 [07:30<1:09:04,  8.95s/it]\n",
      "40.8kiB [00:00, 2.17MiB/s]                 \u001b[A\n",
      "\n",
      "37.4kiB [00:00, 37.5MiB/s]                 \u001b[A\n",
      "\n",
      "37.4kiB [00:00, 5.36MiB/s]                 \u001b[A\n",
      "\n",
      "35.6kiB [00:00, 2.92MiB/s]                 \u001b[A\n",
      "  8%|▊         | 38/500 [07:37<1:05:19,  8.48s/it]\n",
      "68.4kiB [00:00, 4.51MiB/s]                 \u001b[A\n",
      "\n",
      "60.3kiB [00:00, 3.93MiB/s]                 \u001b[A\n",
      "\n",
      "47.2kiB [00:00, 11.4MiB/s]                 \u001b[A\n",
      "\n",
      "55.3kiB [00:00, 10.9MiB/s]                 \u001b[A\n",
      "\n",
      "34.4kiB [00:00, 17.2MiB/s]                 \u001b[A\n",
      "\n",
      "51.9kiB [00:00, 16.5MiB/s]                 \u001b[A\n",
      "\n",
      "43.7kiB [00:00, 14.6MiB/s]                 \u001b[A\n",
      "\n",
      "68.4kiB [00:00, 4.91MiB/s]                 \u001b[A\n",
      "\n",
      "40.7kiB [00:00, 13.6MiB/s]                 \u001b[A\n",
      "  8%|▊         | 39/500 [07:46<1:05:28,  8.52s/it]\n",
      "45.1kiB [00:00, 7.11MiB/s]                 \u001b[A\n",
      "\n",
      "52.0kiB [00:00, 13.0MiB/s]                 \u001b[A\n",
      "\n",
      "58.7kiB [00:00, 3.07MiB/s]                 \u001b[A\n",
      "\n",
      "41.7kiB [00:00, 10.2MiB/s]                 \u001b[A\n",
      "\n",
      "48.7kiB [00:00, 5.88MiB/s]                 \u001b[A\n",
      "\n",
      "36.5kiB [00:00, 17.7MiB/s]                 \u001b[A\n",
      "\n",
      "51.3kiB [00:00, 17.1MiB/s]                 \u001b[A\n",
      "\n",
      "44.6kiB [00:00, 22.8MiB/s]                 \u001b[A\n",
      "\n",
      "54.6kiB [00:00, 27.6MiB/s]                 \u001b[A\n",
      "\n",
      "56.6kiB [00:00, 720kiB/s]                  \u001b[A\n",
      "\n",
      "47.7kiB [00:00, 948kiB/s]                  \u001b[A\n",
      "\n",
      "56.9kiB [00:00, 1.12MiB/s]                 \u001b[A\n",
      "  8%|▊         | 40/500 [08:01<1:21:52, 10.68s/it]\n",
      "42.8kiB [00:00, 1.97MiB/s]                 \u001b[A\n",
      "\n",
      "36.0kiB [00:00, 967kiB/s]                  \u001b[A\n",
      "\n",
      "52.6kiB [00:00, 1.68MiB/s]                 \u001b[A\n",
      "\n",
      "47.7kiB [00:00, 785kiB/s]                  \u001b[A\n",
      "\n",
      "  0%|          | 0.00/1.00 [00:00<?, ?iB/s]\u001b[A\n",
      "95.8kiB [00:00, 849kiB/s]                  \u001b[A\n",
      "\n",
      "81.2kiB [00:00, 886kiB/s]                  \u001b[A\n",
      "\n",
      "  0%|          | 0.00/1.00 [00:00<?, ?iB/s]\u001b[A\n",
      "137kiB [00:00, 1.10MiB/s]                  \u001b[A\n",
      "\n",
      "71.0kiB [00:00, 1.21MiB/s]                 \u001b[A\n",
      "\n",
      "47.4kiB [00:00, 1.49MiB/s]                 \u001b[A\n",
      "  8%|▊         | 41/500 [08:11<1:19:48, 10.43s/it]\n",
      "42.6kiB [00:00, 2.51MiB/s]                 \u001b[A\n",
      "\n",
      "45.9kiB [00:00, 2.27MiB/s]                 \u001b[A\n",
      "\n",
      "50.6kiB [00:00, 1.56MiB/s]                 \u001b[A\n",
      "\n",
      "53.2kiB [00:00, 1.84MiB/s]                 \u001b[A\n",
      "\n",
      "57.5kiB [00:00, 1.22MiB/s]                 \u001b[A\n",
      "\n",
      "42.8kiB [00:00, 3.21MiB/s]                 \u001b[A\n",
      "\n",
      "27.9kiB [00:00, 1.73MiB/s]                 \u001b[A\n",
      "\n",
      "29.6kiB [00:00, 1.05MiB/s]                 \u001b[A\n",
      "\n",
      "28.9kiB [00:00, 979kiB/s]                  \u001b[A\n",
      "\n",
      "33.3kiB [00:00, 861kiB/s]                  \u001b[A\n",
      "\n",
      "26.8kiB [00:00, 2.07MiB/s]                 \u001b[A\n",
      "\n",
      "40.9kiB [00:00, 3.61MiB/s]                 \u001b[A\n",
      "  8%|▊         | 42/500 [08:24<1:24:25, 11.06s/it]\n",
      "34.4kiB [00:00, 1.19MiB/s]                 \u001b[A\n",
      "\n",
      "33.3kiB [00:00, 2.77MiB/s]                 \u001b[A\n",
      "\n",
      "39.0kiB [00:00, 1.28MiB/s]                 \u001b[A\n",
      "  9%|▊         | 43/500 [08:29<1:11:03,  9.33s/it]\n",
      "84.9kiB [00:00, 1.02MiB/s]                 \u001b[A\n",
      "\n",
      "91.8kiB [00:00, 947kiB/s]                  \u001b[A\n",
      "\n",
      "81.5kiB [00:00, 902kiB/s]                  \u001b[A\n",
      "\n",
      "64.2kiB [00:00, 1.09MiB/s]                 \u001b[A\n",
      "\n",
      "82.8kiB [00:00, 1.10MiB/s]                 \u001b[A\n",
      "\n",
      "80.4kiB [00:00, 1.02MiB/s]                 \u001b[A\n",
      "\n",
      "53.4kiB [00:00, 1.30MiB/s]                 \u001b[A\n",
      "  9%|▉         | 44/500 [08:37<1:07:13,  8.85s/it]\n",
      "22.4kiB [00:00, 22.5MiB/s]                 \u001b[A\n",
      "\n",
      "22.5kiB [00:00, 3.76MiB/s]                 \u001b[A\n",
      "\n",
      "34.2kiB [00:00, 1.53MiB/s]                 \u001b[A\n",
      "\n",
      "45.9kiB [00:00, 1.05MiB/s]                 \u001b[A\n",
      "\n",
      "34.1kiB [00:00, 4.63MiB/s]                 \u001b[A\n",
      "\n",
      "45.7kiB [00:00, 1.21MiB/s]                 \u001b[A\n",
      "\n",
      "47.1kiB [00:00, 1.37MiB/s]                 \u001b[A\n",
      "\n",
      "49.6kiB [00:00, 829kiB/s]                  \u001b[A\n",
      "\n",
      "19.9kiB [00:00, 1.59MiB/s]                 \u001b[A\n",
      "\n",
      "26.3kiB [00:00, 5.58MiB/s]                 \u001b[A\n",
      "  9%|▉         | 45/500 [08:44<1:03:11,  8.33s/it]\n",
      "53.5kiB [00:00, 845kiB/s]                  \u001b[A\n",
      "\n",
      "40.6kiB [00:00, 1.69MiB/s]                 \u001b[A\n",
      "\n",
      "44.7kiB [00:00, 578kiB/s]                  \u001b[A\n",
      "\n",
      "56.1kiB [00:00, 1.12MiB/s]                 \u001b[A\n",
      "\n",
      "47.8kiB [00:00, 1.15MiB/s]                 \u001b[A\n",
      "\n",
      "  0%|          | 0.00/1.00 [00:00<?, ?iB/s]\u001b[A\n",
      "103kiB [00:00, 898kiB/s]                   \u001b[A\n",
      "\n",
      "70.9kiB [00:00, 881kiB/s]                  \u001b[A\n",
      "\n",
      "66.4kiB [00:00, 1.01MiB/s]                 \u001b[A\n",
      "\n",
      "78.6kiB [00:00, 1.01MiB/s]                 \u001b[A\n",
      "  9%|▉         | 46/500 [08:52<1:01:54,  8.18s/it]\n",
      "48.3kiB [00:00, 897kiB/s]                  \u001b[A\n",
      "\n",
      "56.9kiB [00:00, 1.33MiB/s]                 \u001b[A\n",
      "\n",
      "51.6kiB [00:00, 1.43MiB/s]                 \u001b[A\n",
      "\n",
      "60.1kiB [00:00, 1.43MiB/s]                 \u001b[A\n",
      "\n",
      "57.2kiB [00:00, 1.15MiB/s]                 \u001b[A\n",
      "\n",
      "35.7kiB [00:00, 1.36MiB/s]                 \u001b[A\n",
      "\n",
      "50.8kiB [00:00, 1.33MiB/s]                 \u001b[A\n",
      "\n",
      "57.3kiB [00:00, 768kiB/s]                  \u001b[A\n",
      "\n",
      "53.4kiB [00:00, 1.29MiB/s]                 \u001b[A\n",
      "\n",
      "77.6kiB [00:00, 802kiB/s]                  \u001b[A\n",
      "\n",
      "  0%|          | 0.00/1.00 [00:00<?, ?iB/s]\u001b[A\n",
      "96.1kiB [00:00, 906kiB/s]                  \u001b[A\n",
      "\n",
      "  0%|          | 0.00/1.00 [00:00<?, ?iB/s]\u001b[A\n",
      "118kiB [00:00, 953kiB/s]                   \u001b[A\n",
      "  9%|▉         | 47/500 [09:06<1:16:20, 10.11s/it]\n",
      "57.5kiB [00:00, 970kiB/s]                  \u001b[A\n",
      "\n",
      "52.0kiB [00:00, 1.11MiB/s]                 \u001b[A\n",
      "\n",
      "72.4kiB [00:00, 1.18MiB/s]                 \u001b[A\n",
      "\n",
      "45.0kiB [00:00, 1.24MiB/s]                 \u001b[A\n",
      "\n",
      "48.7kiB [00:00, 1.13MiB/s]                 \u001b[A\n",
      "\n",
      "66.6kiB [00:00, 1.35MiB/s]                 \u001b[A\n",
      "\n",
      "57.6kiB [00:00, 1.20MiB/s]                 \u001b[A\n",
      "\n",
      "69.1kiB [00:00, 1.54MiB/s]                 \u001b[A\n",
      "\n",
      "62.9kiB [00:00, 1.42MiB/s]                 \u001b[A\n",
      "\n",
      "77.4kiB [00:00, 895kiB/s]                  \u001b[A\n",
      "\n",
      "60.3kiB [00:00, 996kiB/s]                  \u001b[A\n",
      " 10%|▉         | 48/500 [09:20<1:23:38, 11.10s/it]\n",
      "37.5kiB [00:00, 2.31MiB/s]                 \u001b[A\n",
      "\n",
      "57.3kiB [00:00, 967kiB/s]                  \u001b[A\n",
      "\n",
      "55.7kiB [00:00, 1.37MiB/s]                 \u001b[A\n",
      "\n",
      "55.2kiB [00:00, 1.01MiB/s]                 \u001b[A\n",
      "\n",
      "25.6kiB [00:00, 8.46MiB/s]                 \u001b[A\n",
      "\n",
      "44.7kiB [00:00, 1.35MiB/s]                 \u001b[A\n",
      "\n",
      "48.5kiB [00:00, 1.38MiB/s]                 \u001b[A\n",
      "\n",
      "37.3kiB [00:00, 876kiB/s]                  \u001b[A\n",
      "\n",
      "40.0kiB [00:00, 1.36MiB/s]                 \u001b[A\n",
      "\n",
      "48.8kiB [00:00, 881kiB/s]                  \u001b[A\n",
      "\n",
      "52.0kiB [00:00, 1.66MiB/s]                 \u001b[A\n",
      "\n",
      "37.3kiB [00:00, 564kiB/s]                  \u001b[A\n",
      " 10%|▉         | 49/500 [09:35<1:33:20, 12.42s/it]\n",
      "71.6kiB [00:00, 893kiB/s]                  \u001b[A\n",
      "\n",
      "48.3kiB [00:00, 1.53MiB/s]                 \u001b[A\n",
      "\n",
      "66.0kiB [00:00, 1.15MiB/s]                 \u001b[A\n",
      "\n",
      "  0%|          | 0.00/1.00 [00:00<?, ?iB/s]\u001b[A\n",
      "118kiB [00:00, 919kiB/s]                   \u001b[A\n",
      "\n",
      "49.9kiB [00:00, 1.03MiB/s]                 \u001b[A\n",
      "\n",
      "  0%|          | 0.00/1.00 [00:00<?, ?iB/s]\u001b[A\n",
      "88.7kiB [00:00, 669kiB/s]                  \u001b[A\n",
      "\n",
      "68.2kiB [00:00, 1.00MiB/s]                 \u001b[A\n",
      "\n",
      "77.4kiB [00:00, 953kiB/s]                  \u001b[A\n",
      " 10%|█         | 50/500 [09:44<1:25:00, 11.33s/it]\n",
      "50.0kiB [00:00, 1.14MiB/s]                 \u001b[A\n",
      "\n",
      "99.3kiB [00:00, 1.02MiB/s]                 \u001b[A\n",
      "\n",
      "  0%|          | 0.00/1.00 [00:00<?, ?iB/s]\u001b[A\n",
      "102kiB [00:00, 876kiB/s]                   \u001b[A\n",
      "\n",
      "  0%|          | 0.00/1.00 [00:00<?, ?iB/s]\u001b[A\n",
      "102kiB [00:00, 762kiB/s]                   \u001b[A\n",
      "\n",
      "78.5kiB [00:00, 831kiB/s]                  \u001b[A\n",
      "\n",
      "  0%|          | 0.00/1.00 [00:00<?, ?iB/s]\u001b[A\n",
      "116kiB [00:00, 1.00MiB/s]                  \u001b[A\n",
      "\n",
      "55.6kiB [00:00, 2.40MiB/s]                 \u001b[A\n",
      "\n",
      "46.3kiB [00:00, 922kiB/s]                  \u001b[A\n",
      "\n",
      "51.2kiB [00:00, 1.46MiB/s]                 \u001b[A\n",
      " 10%|█         | 51/500 [09:52<1:17:10, 10.31s/it]\n",
      "26.4kiB [00:00, 3.64MiB/s]                 \u001b[A\n",
      "\n",
      "31.8kiB [00:00, 10.6MiB/s]                 \u001b[A\n",
      "\n",
      "57.0kiB [00:00, 1.22MiB/s]                 \u001b[A\n",
      "\n",
      "50.9kiB [00:00, 865kiB/s]                  \u001b[A\n",
      "\n",
      "64.0kiB [00:00, 1.08MiB/s]                 \u001b[A\n",
      "\n",
      "50.7kiB [00:00, 1.20MiB/s]                 \u001b[A\n",
      "\n",
      "54.2kiB [00:00, 967kiB/s]                  \u001b[A\n",
      "\n",
      "35.4kiB [00:00, 1.07MiB/s]                 \u001b[A\n",
      "\n",
      "47.1kiB [00:00, 1.18MiB/s]                 \u001b[A\n",
      "\n",
      "26.0kiB [00:00, 4.34MiB/s]                 \u001b[A\n",
      "\n",
      "43.1kiB [00:00, 999kiB/s]                  \u001b[A\n",
      " 10%|█         | 52/500 [10:06<1:24:46, 11.35s/it]\n",
      "  0%|          | 0.00/1.00 [00:00<?, ?iB/s]\u001b[A\n",
      "113kiB [00:00, 1.03MiB/s]                  \u001b[A\n",
      "\n",
      "54.3kiB [00:00, 1.20MiB/s]                 \u001b[A\n",
      "\n",
      "  0%|          | 0.00/1.00 [00:00<?, ?iB/s]\u001b[A\n",
      "90.6kiB [00:00, 816kiB/s]                  \u001b[A\n",
      "\n",
      "  0%|          | 0.00/1.00 [00:00<?, ?iB/s]\u001b[A\n",
      "99.1kiB [00:00, 853kiB/s]                  \u001b[A\n",
      "\n",
      "  0%|          | 0.00/1.00 [00:00<?, ?iB/s]\u001b[A\n",
      "106kiB [00:00, 952kiB/s]                   \u001b[A\n",
      "\n",
      "90.1kiB [00:00, 956kiB/s]                  \u001b[A\n",
      "\n",
      "55.9kiB [00:00, 1.06MiB/s]                 \u001b[A\n",
      "\n",
      "72.6kiB [00:00, 1.19MiB/s]                 \u001b[A\n",
      "\n",
      "68.6kiB [00:00, 1.20MiB/s]                 \u001b[A\n",
      " 11%|█         | 53/500 [10:18<1:26:02, 11.55s/it]\n",
      "25.0kiB [00:00, 3.45MiB/s]                 \u001b[A\n",
      "\n",
      "24.0kiB [00:00, 1.22MiB/s]                 \u001b[A\n",
      "\n",
      "19.0kiB [00:00, 9.55MiB/s]                 \u001b[A\n",
      "\n",
      "22.6kiB [00:00, 5.26MiB/s]                 \u001b[A\n",
      "\n",
      "34.5kiB [00:00, 1.42MiB/s]                 \u001b[A\n",
      "\n",
      "22.2kiB [00:00, 2.78MiB/s]                 \u001b[A\n",
      " 11%|█         | 54/500 [10:22<1:08:41,  9.24s/it]\n",
      "5.40kiB [00:00, 1.34MiB/s]                 \u001b[A\n",
      "\n",
      "17.5kiB [00:00, 8.80MiB/s]                 \u001b[A\n",
      "\n",
      "19.6kiB [00:00, 9.84MiB/s]                 \u001b[A\n",
      "\n",
      "38.9kiB [00:00, 1.85MiB/s]                 \u001b[A\n",
      " 11%|█         | 55/500 [10:26<57:28,  7.75s/it]  \n",
      "70.2kiB [00:00, 1.03MiB/s]                 \u001b[A\n",
      "\n",
      "70.3kiB [00:00, 858kiB/s]                  \u001b[A\n",
      "\n",
      "69.5kiB [00:00, 1.05MiB/s]                 \u001b[A\n",
      "\n",
      "64.6kiB [00:00, 971kiB/s]                  \u001b[A\n",
      "\n",
      "49.2kiB [00:00, 1.07MiB/s]                 \u001b[A\n",
      "\n",
      "69.2kiB [00:00, 995kiB/s]                  \u001b[A\n",
      "\n",
      "63.9kiB [00:00, 1.17MiB/s]                 \u001b[A\n",
      "\n",
      "  0%|          | 0.00/1.00 [00:00<?, ?iB/s]\u001b[A\n",
      "89.5kiB [00:00, 725kiB/s]                  \u001b[A\n",
      "\n",
      "  0%|          | 0.00/1.00 [00:00<?, ?iB/s]\u001b[A\n",
      "114kiB [00:00, 970kiB/s]                   \u001b[A\n",
      "\n",
      "104kiB [00:00, 1.07MiB/s]                  \u001b[A\n",
      "\n",
      "97.7kiB [00:00, 1.25MiB/s]                 \u001b[A\n",
      " 11%|█         | 56/500 [10:37<1:05:10,  8.81s/it]\n",
      "26.6kiB [00:00, 1.66MiB/s]                 \u001b[A\n",
      "\n",
      "27.9kiB [00:00, 2.26MiB/s]                 \u001b[A\n",
      "\n",
      "36.7kiB [00:00, 2.12MiB/s]                 \u001b[A\n",
      "\n",
      "26.6kiB [00:00, 4.33MiB/s]                 \u001b[A\n",
      "\n",
      "26.7kiB [00:00, ?iB/s]                     \u001b[A\n",
      "\n",
      "22.2kiB [00:00, 1.68MiB/s]                 \u001b[A\n",
      "\n",
      "33.3kiB [00:00, 1.94MiB/s]                 \u001b[A\n",
      "\n",
      "23.4kiB [00:00, 2.60MiB/s]                 \u001b[A\n",
      "\n",
      "30.4kiB [00:00, 1.38MiB/s]                 \u001b[A\n",
      "\n",
      "30.3kiB [00:00, 2.25MiB/s]                 \u001b[A\n",
      "\n",
      "30.4kiB [00:00, 5.07MiB/s]                 \u001b[A\n",
      " 11%|█▏        | 57/500 [10:49<1:12:02,  9.76s/it]\n",
      "42.0kiB [00:00, 1.10MiB/s]                 \u001b[A\n",
      "\n",
      "50.9kiB [00:00, 1.22MiB/s]                 \u001b[A\n",
      "\n",
      "44.8kiB [00:00, 898kiB/s]                  \u001b[A\n",
      "\n",
      "54.2kiB [00:00, 1.89MiB/s]                 \u001b[A\n",
      "\n",
      "44.4kiB [00:00, 1.04MiB/s]                 \u001b[A\n",
      "\n",
      "56.6kiB [00:00, 1.17MiB/s]                 \u001b[A\n",
      "\n",
      "49.4kiB [00:00, 814kiB/s]                  \u001b[A\n",
      "\n",
      "32.8kiB [00:00, 2.34MiB/s]                 \u001b[A\n",
      "\n",
      "52.9kiB [00:00, 1.02MiB/s]                 \u001b[A\n",
      "\n",
      "45.1kiB [00:00, 1.28MiB/s]                 \u001b[A\n",
      "\n",
      "41.8kiB [00:00, 1.33MiB/s]                 \u001b[A\n",
      "\n",
      "11.9kiB [00:00, 4.04MiB/s]                 \u001b[A\n",
      " 12%|█▏        | 58/500 [11:12<1:39:37, 13.52s/it]\n",
      "55.5kiB [00:00, 1.47MiB/s]                 \u001b[A\n",
      "\n",
      "52.6kiB [00:00, 1.42MiB/s]                 \u001b[A\n",
      " 12%|█▏        | 59/500 [11:14<1:14:10, 10.09s/it]\n",
      "83.3kiB [00:00, 1.01MiB/s]                 \u001b[A\n",
      "\n",
      "45.2kiB [00:00, 886kiB/s]                  \u001b[A\n",
      "\n",
      "47.3kiB [00:00, 1.44MiB/s]                 \u001b[A\n",
      "\n",
      "43.0kiB [00:00, 903kiB/s]                  \u001b[A\n",
      " 12%|█▏        | 60/500 [11:18<1:01:43,  8.42s/it]\n",
      "33.7kiB [00:00, 2.05MiB/s]                 \u001b[A\n",
      "\n",
      "32.4kiB [00:00, 1.15MiB/s]                 \u001b[A\n",
      "\n",
      "34.9kiB [00:00, 1.17MiB/s]                 \u001b[A\n",
      "\n",
      "32.0kiB [00:00, 1.21MiB/s]                 \u001b[A\n",
      "\n",
      "38.2kiB [00:00, 729kiB/s]                  \u001b[A\n",
      "\n",
      "36.9kiB [00:00, 700kiB/s]                  \u001b[A\n",
      "\n",
      "36.2kiB [00:00, 1.28MiB/s]                 \u001b[A\n",
      " 12%|█▏        | 61/500 [11:23<54:26,  7.44s/it]  \n",
      "  0%|          | 0.00/1.00 [00:00<?, ?iB/s]\u001b[A\n",
      "98.4kiB [00:00, 833kiB/s]                  \u001b[A\n",
      "\n",
      "98.5kiB [00:00, 1.16MiB/s]                 \u001b[A\n",
      "\n",
      "99.5kiB [00:00, 1.10MiB/s]                 \u001b[A\n",
      "\n",
      "  0%|          | 0.00/1.00 [00:00<?, ?iB/s]\u001b[A\n",
      "103kiB [00:00, 816kiB/s]                   \u001b[A\n",
      "\n",
      "107kiB [00:00, 1.07MiB/s]                  \u001b[A\n",
      "\n",
      "96.8kiB [00:00, 1.01MiB/s]                 \u001b[A\n",
      "\n",
      "  0%|          | 0.00/1.00 [00:00<?, ?iB/s]\u001b[A\n",
      "92.5kiB [00:00, 835kiB/s]                  \u001b[A\n",
      "\n",
      "  0%|          | 0.00/1.00 [00:00<?, ?iB/s]\u001b[A\n",
      "93.3kiB [00:00, 886kiB/s]                  \u001b[A\n",
      "\n",
      "93.7kiB [00:00, 989kiB/s]                  \u001b[A\n",
      "\n",
      "  0%|          | 0.00/1.00 [00:00<?, ?iB/s]\u001b[A\n",
      "84.5kiB [00:00, 788kiB/s]                  \u001b[A\n",
      " 12%|█▏        | 62/500 [11:38<1:10:21,  9.64s/it]\n",
      "42.0kiB [00:00, 746kiB/s]                  \u001b[A\n",
      "\n",
      "53.6kiB [00:00, 1.00MiB/s]                 \u001b[A\n",
      "\n",
      "48.2kiB [00:00, 1.16MiB/s]                 \u001b[A\n",
      "\n",
      "57.3kiB [00:00, 830kiB/s]                  \u001b[A\n",
      "\n",
      "86.4kiB [00:00, 1.01MiB/s]                 \u001b[A\n",
      "\n",
      "44.2kiB [00:00, 830kiB/s]                  \u001b[A\n",
      "\n",
      "57.6kiB [00:00, 990kiB/s]                  \u001b[A\n",
      "\n",
      "54.1kiB [00:00, 1.26MiB/s]                 \u001b[A\n",
      "\n",
      "39.5kiB [00:00, 1.80MiB/s]                 \u001b[A\n",
      "\n",
      "50.5kiB [00:00, 1.62MiB/s]                 \u001b[A\n",
      "\n",
      "48.7kiB [00:00, 1.21MiB/s]                 \u001b[A\n",
      " 13%|█▎        | 63/500 [11:49<1:13:37, 10.11s/it]\n",
      "41.6kiB [00:00, 1.37MiB/s]                 \u001b[A\n",
      "\n",
      "39.6kiB [00:00, ?iB/s]                     \u001b[A\n",
      "\n",
      "40.4kiB [00:00, 1.29MiB/s]                 \u001b[A\n",
      "\n",
      "  0%|          | 0.00/1.00 [00:00<?, ?iB/s]\u001b[A\n",
      "46.9kiB [00:00, 466kiB/s]                  \u001b[A\n",
      "\n",
      "23.9kiB [00:00, 1.53MiB/s]                 \u001b[A\n",
      "\n",
      "23.5kiB [00:00, 1.50MiB/s]                 \u001b[A\n",
      "\n",
      "34.8kiB [00:00, 3.44MiB/s]                 \u001b[A\n",
      "\n",
      "52.1kiB [00:00, 1.67MiB/s]                 \u001b[A\n",
      "\n",
      "33.7kiB [00:00, 2.07MiB/s]                 \u001b[A\n",
      "\n",
      "31.8kiB [00:00, ?iB/s]                     \u001b[A\n",
      "\n",
      "64.7kiB [00:00, 952kiB/s]                  \u001b[A\n",
      "\n",
      "66.2kiB [00:00, 1.06MiB/s]                 \u001b[A\n",
      " 13%|█▎        | 64/500 [12:03<1:21:03, 11.15s/it]\n",
      "22.8kiB [00:00, 804kiB/s]                  \u001b[A\n",
      "\n",
      "40.0kiB [00:00, 1.32MiB/s]                 \u001b[A\n",
      "\n",
      "38.1kiB [00:00, 1.19MiB/s]                 \u001b[A\n",
      "\n",
      "35.4kiB [00:00, 877kiB/s]                  \u001b[A\n",
      "\n",
      "42.7kiB [00:00, 996kiB/s]                  \u001b[A\n",
      "\n",
      "40.0kiB [00:00, 657kiB/s]                  \u001b[A\n",
      "\n",
      "24.2kiB [00:00, 1.55MiB/s]                 \u001b[A\n",
      "\n",
      "23.0kiB [00:00, 1.47MiB/s]                 \u001b[A\n",
      "\n",
      "26.1kiB [00:00, ?iB/s]                     \u001b[A\n",
      " 13%|█▎        | 65/500 [12:09<1:10:18,  9.70s/it]\n",
      "38.5kiB [00:00, 2.47MiB/s]                 \u001b[A\n",
      " 13%|█▎        | 66/500 [12:11<53:07,  7.34s/it]  \n",
      "63.5kiB [00:00, 1.19MiB/s]                 \u001b[A\n",
      "\n",
      "63.3kiB [00:00, 1.35MiB/s]                 \u001b[A\n",
      "\n",
      "69.6kiB [00:00, 1.11MiB/s]                 \u001b[A\n",
      "\n",
      "80.7kiB [00:00, 1.03MiB/s]                 \u001b[A\n",
      "\n",
      "48.2kiB [00:00, 1.04MiB/s]                 \u001b[A\n",
      "\n",
      "83.0kiB [00:00, 849kiB/s]                  \u001b[A\n",
      "\n",
      "62.1kiB [00:00, 785kiB/s]                  \u001b[A\n",
      "\n",
      "63.2kiB [00:00, 1.04MiB/s]                 \u001b[A\n",
      "\n",
      "66.6kiB [00:00, 944kiB/s]                  \u001b[A\n",
      "\n",
      "69.4kiB [00:00, 1.10MiB/s]                 \u001b[A\n",
      "\n",
      "46.5kiB [00:00, 2.10MiB/s]                 \u001b[A\n",
      "\n",
      "46.8kiB [00:00, 1.49MiB/s]                 \u001b[A\n",
      " 13%|█▎        | 67/500 [12:25<1:07:45,  9.39s/it]\n",
      "60.4kiB [00:00, 966kiB/s]                  \u001b[A\n",
      "\n",
      "64.1kiB [00:00, 1.03MiB/s]                 \u001b[A\n",
      "\n",
      "68.3kiB [00:00, 1.09MiB/s]                 \u001b[A\n",
      "\n",
      "53.1kiB [00:00, 1.32MiB/s]                 \u001b[A\n",
      "\n",
      "41.5kiB [00:00, 1.10MiB/s]                 \u001b[A\n",
      "\n",
      "43.1kiB [00:00, 1.43MiB/s]                 \u001b[A\n",
      "\n",
      "37.3kiB [00:00, 1.24MiB/s]                 \u001b[A\n",
      "\n",
      "32.4kiB [00:00, 1.04MiB/s]                 \u001b[A\n",
      "\n",
      "40.6kiB [00:00, 452kiB/s]                  \u001b[A\n",
      "\n",
      "42.2kiB [00:00, 1.05MiB/s]                 \u001b[A\n",
      "\n",
      "65.0kiB [00:00, 1.04MiB/s]                 \u001b[A\n",
      "\n",
      "34.4kiB [00:00, 1.91MiB/s]                 \u001b[A\n",
      " 14%|█▎        | 68/500 [12:35<1:09:15,  9.62s/it]\n",
      "  0%|          | 0.00/1.00 [00:00<?, ?iB/s]\u001b[A\n",
      "159kiB [00:00, 821kiB/s]                   \u001b[A\n",
      "\n",
      "  0%|          | 0.00/1.00 [00:00<?, ?iB/s]\u001b[A\n",
      "163kiB [00:00, 1.24MiB/s]                  \u001b[A\n",
      " 14%|█▍        | 69/500 [12:38<53:09,  7.40s/it]  "
     ]
    },
    {
     "name": "stdout",
     "output_type": "stream",
     "text": [
      "error\n"
     ]
    },
    {
     "name": "stderr",
     "output_type": "stream",
     "text": [
      "\n",
      "37.3kiB [00:00, 1.85MiB/s]                 \u001b[A\n",
      " 14%|█▍        | 70/500 [12:38<38:27,  5.37s/it]"
     ]
    },
    {
     "name": "stdout",
     "output_type": "stream",
     "text": [
      "error\n"
     ]
    },
    {
     "name": "stderr",
     "output_type": "stream",
     "text": [
      "\n",
      "52.1kiB [00:00, 1.28MiB/s]                 \u001b[A\n",
      "\n",
      "65.3kiB [00:00, 1.19MiB/s]                 \u001b[A\n",
      "\n",
      "65.8kiB [00:00, 1.48MiB/s]                 \u001b[A\n",
      "\n",
      "  0%|          | 0.00/1.00 [00:00<?, ?iB/s]\u001b[A\n",
      "86.3kiB [00:00, 466kiB/s]                  \u001b[A\n",
      "\n",
      "104kiB [00:00, 1.24MiB/s]                  \u001b[A\n",
      "\n",
      "62.3kiB [00:00, 2.88MiB/s]                 \u001b[A\n",
      "\n",
      "58.2kiB [00:00, 2.74MiB/s]                 \u001b[A\n",
      "\n",
      "58.2kiB [00:00, 2.57MiB/s]                 \u001b[A\n",
      "\n",
      "81.4kiB [00:00, 1.28MiB/s]                 \u001b[A\n",
      " 14%|█▍        | 71/500 [12:47<46:14,  6.47s/it]\n",
      "81.6kiB [00:00, 1.29MiB/s]                 \u001b[A\n",
      "\n",
      "31.9kiB [00:00, 2.05MiB/s]                 \u001b[A\n",
      "\n",
      "61.6kiB [00:00, 1.51MiB/s]                 \u001b[A\n",
      " 14%|█▍        | 72/500 [12:52<41:45,  5.86s/it]"
     ]
    },
    {
     "name": "stdout",
     "output_type": "stream",
     "text": [
      "error\n"
     ]
    },
    {
     "name": "stderr",
     "output_type": "stream",
     "text": [
      "\n",
      "105kiB [00:00, 1.15MiB/s]                  \u001b[A\n",
      " 15%|█▍        | 73/500 [12:53<32:43,  4.60s/it]"
     ]
    },
    {
     "name": "stdout",
     "output_type": "stream",
     "text": [
      "error\n"
     ]
    },
    {
     "name": "stderr",
     "output_type": "stream",
     "text": [
      "\n",
      "88.8kiB [00:00, 1.45MiB/s]                 \u001b[A\n",
      " 15%|█▍        | 74/500 [12:54<24:05,  3.39s/it]"
     ]
    },
    {
     "name": "stdout",
     "output_type": "stream",
     "text": [
      "error\n"
     ]
    },
    {
     "name": "stderr",
     "output_type": "stream",
     "text": [
      "\n",
      "55.2kiB [00:00, 1.36MiB/s]                 \u001b[A\n",
      " 15%|█▌        | 75/500 [12:54<18:06,  2.56s/it]"
     ]
    },
    {
     "name": "stdout",
     "output_type": "stream",
     "text": [
      "error\n"
     ]
    },
    {
     "name": "stderr",
     "output_type": "stream",
     "text": [
      "\n",
      "43.9kiB [00:00, 1.16MiB/s]                 \u001b[A\n",
      "\n",
      "24.4kiB [00:00, ?iB/s]                     \u001b[A\n",
      "\n",
      "34.2kiB [00:00, 4.27MiB/s]                 \u001b[A\n",
      " 15%|█▌        | 76/500 [12:57<17:18,  2.45s/it]"
     ]
    },
    {
     "name": "stdout",
     "output_type": "stream",
     "text": [
      "error\n"
     ]
    },
    {
     "name": "stderr",
     "output_type": "stream",
     "text": [
      "\n",
      "62.6kiB [00:00, 1.98MiB/s]                 \u001b[A\n",
      " 15%|█▌        | 77/500 [12:57<13:21,  1.90s/it]"
     ]
    },
    {
     "name": "stdout",
     "output_type": "stream",
     "text": [
      "error\n"
     ]
    },
    {
     "name": "stderr",
     "output_type": "stream",
     "text": [
      "\n",
      "33.3kiB [00:00, 1.64MiB/s]                 \u001b[A\n",
      "\n",
      "61.2kiB [00:00, 1.47MiB/s]                 \u001b[A\n",
      "\n",
      "29.1kiB [00:00, ?iB/s]                     \u001b[A\n",
      "\n",
      "46.0kiB [00:00, 2.23MiB/s]                 \u001b[A\n",
      "\n",
      "40.5kiB [00:00, 2.59MiB/s]                 \u001b[A\n",
      "\n",
      "115kiB [00:00, 1.47MiB/s]                  \u001b[A\n",
      " 16%|█▌        | 78/500 [13:05<24:38,  3.50s/it]"
     ]
    },
    {
     "name": "stdout",
     "output_type": "stream",
     "text": [
      "error\n"
     ]
    },
    {
     "name": "stderr",
     "output_type": "stream",
     "text": [
      "\n",
      "24.8kiB [00:00, ?iB/s]                     \u001b[A\n",
      "\n",
      "25.2kiB [00:00, 1.76MiB/s]                 \u001b[A\n",
      "\n",
      "33.7kiB [00:00, 1.86MiB/s]                 \u001b[A\n",
      "\n",
      "45.0kiB [00:00, 1.44MiB/s]                 \u001b[A\n",
      "\n",
      "82.3kiB [00:00, 1.19MiB/s]                 \u001b[A\n",
      " 16%|█▌        | 79/500 [13:10<29:44,  4.24s/it]"
     ]
    },
    {
     "name": "stdout",
     "output_type": "stream",
     "text": [
      "error\n"
     ]
    },
    {
     "name": "stderr",
     "output_type": "stream",
     "text": [
      "\n",
      "47.1kiB [00:00, 1.65MiB/s]                 \u001b[A\n",
      " 16%|█▌        | 80/500 [13:12<23:50,  3.41s/it]"
     ]
    },
    {
     "name": "stdout",
     "output_type": "stream",
     "text": [
      "error\n"
     ]
    },
    {
     "name": "stderr",
     "output_type": "stream",
     "text": [
      "\n",
      "66.8kiB [00:00, 1.06MiB/s]                 \u001b[A\n",
      "\n",
      "59.8kiB [00:00, 950kiB/s]                  \u001b[A\n",
      " 16%|█▌        | 81/500 [13:15<22:04,  3.16s/it]"
     ]
    },
    {
     "name": "stdout",
     "output_type": "stream",
     "text": [
      "error\n"
     ]
    },
    {
     "name": "stderr",
     "output_type": "stream",
     "text": [
      "\n",
      "  0%|          | 0.00/1.00 [00:00<?, ?iB/s]\u001b[A\n",
      "74.9kiB [00:00, 386kiB/s]                  \u001b[A\n",
      " 16%|█▋        | 82/500 [13:16<18:10,  2.61s/it]"
     ]
    },
    {
     "name": "stdout",
     "output_type": "stream",
     "text": [
      "error\n"
     ]
    },
    {
     "name": "stderr",
     "output_type": "stream",
     "text": [
      "\n",
      "7.64kiB [00:00, ?iB/s]                     \u001b[A\n",
      "\n",
      "42.2kiB [00:00, 5.18MiB/s]                 \u001b[A\n",
      "\n",
      "41.2kiB [00:00, 6.27MiB/s]                 \u001b[A\n",
      "\n",
      "64.3kiB [00:00, 2.06MiB/s]                 \u001b[A\n",
      " 17%|█▋        | 83/500 [13:20<22:14,  3.20s/it]\n",
      "64.8kiB [00:00, 2.08MiB/s]                 \u001b[A\n",
      "\n",
      "35.8kiB [00:00, ?iB/s]                     \u001b[A\n",
      "\n",
      "36.4kiB [00:00, 677kiB/s]                  \u001b[A\n",
      "\n",
      "71.3kiB [00:00, 1.66MiB/s]                 \u001b[A\n",
      "\n",
      "69.9kiB [00:00, 1.61MiB/s]                 \u001b[A\n",
      "\n",
      "60.2kiB [00:00, 1.55MiB/s]                 \u001b[A\n",
      "\n",
      "84.4kiB [00:00, 1.38MiB/s]                 \u001b[A\n",
      " 17%|█▋        | 84/500 [13:25<25:59,  3.75s/it]"
     ]
    },
    {
     "name": "stdout",
     "output_type": "stream",
     "text": [
      "error\n"
     ]
    },
    {
     "name": "stderr",
     "output_type": "stream",
     "text": [
      "\n",
      "  0%|          | 0.00/1.00 [00:00<?, ?iB/s]\u001b[A\n",
      "172kiB [00:00, 1.15MiB/s]                  \u001b[A\n",
      " 17%|█▋        | 85/500 [13:26<19:31,  2.82s/it]"
     ]
    },
    {
     "name": "stdout",
     "output_type": "stream",
     "text": [
      "error\n"
     ]
    },
    {
     "name": "stderr",
     "output_type": "stream",
     "text": [
      "\n",
      "52.8kiB [00:00, 2.37MiB/s]                 \u001b[A\n",
      "\n",
      "40.3kiB [00:00, 1.95MiB/s]                 \u001b[A\n",
      "\n",
      "57.6kiB [00:00, 1.87MiB/s]                 \u001b[A\n",
      "\n",
      "66.6kiB [00:00, 2.11MiB/s]                 \u001b[A\n",
      " 17%|█▋        | 86/500 [13:33<28:34,  4.14s/it]\n",
      "22.6kiB [00:00, ?iB/s]                     \u001b[A\n",
      " 17%|█▋        | 87/500 [13:34<21:40,  3.15s/it]"
     ]
    },
    {
     "name": "stdout",
     "output_type": "stream",
     "text": [
      "error\n"
     ]
    },
    {
     "name": "stderr",
     "output_type": "stream",
     "text": [
      "\n",
      "29.2kiB [00:00, ?iB/s]                     \u001b[A\n",
      "\n",
      "29.5kiB [00:00, ?iB/s]                     \u001b[A\n",
      "\n",
      "29.1kiB [00:00, ?iB/s]                     \u001b[A\n",
      "\n",
      "24.8kiB [00:00, ?iB/s]                     \u001b[A\n",
      " 18%|█▊        | 88/500 [13:39<24:24,  3.55s/it]"
     ]
    },
    {
     "name": "stdout",
     "output_type": "stream",
     "text": [
      "error\n"
     ]
    },
    {
     "name": "stderr",
     "output_type": "stream",
     "text": [
      "\n",
      "34.6kiB [00:00, 3.43MiB/s]                 \u001b[A\n",
      " 18%|█▊        | 89/500 [13:39<17:58,  2.62s/it]"
     ]
    },
    {
     "name": "stdout",
     "output_type": "stream",
     "text": [
      "error\n"
     ]
    },
    {
     "name": "stderr",
     "output_type": "stream",
     "text": [
      "\n",
      "58.6kiB [00:00, 2.07MiB/s]                 \u001b[A\n",
      " 18%|█▊        | 90/500 [13:39<13:10,  1.93s/it]"
     ]
    },
    {
     "name": "stdout",
     "output_type": "stream",
     "text": [
      "error\n"
     ]
    },
    {
     "name": "stderr",
     "output_type": "stream",
     "text": [
      "\n",
      "48.1kiB [00:00, 2.15MiB/s]                 \u001b[A\n",
      " 18%|█▊        | 91/500 [13:40<09:46,  1.44s/it]"
     ]
    },
    {
     "name": "stdout",
     "output_type": "stream",
     "text": [
      "error\n"
     ]
    },
    {
     "name": "stderr",
     "output_type": "stream",
     "text": [
      "\n",
      "70.9kiB [00:00, 1.51MiB/s]                 \u001b[A\n",
      " 18%|█▊        | 92/500 [13:40<07:38,  1.12s/it]"
     ]
    },
    {
     "name": "stdout",
     "output_type": "stream",
     "text": [
      "error\n"
     ]
    },
    {
     "name": "stderr",
     "output_type": "stream",
     "text": [
      "\n",
      "73.3kiB [00:00, 1.56MiB/s]                 \u001b[A\n",
      " 19%|█▊        | 93/500 [13:40<05:53,  1.15it/s]"
     ]
    },
    {
     "name": "stdout",
     "output_type": "stream",
     "text": [
      "error\n"
     ]
    },
    {
     "name": "stderr",
     "output_type": "stream",
     "text": [
      "\n",
      "36.6kiB [00:00, ?iB/s]                     \u001b[A\n",
      " 19%|█▉        | 94/500 [13:42<07:03,  1.04s/it]"
     ]
    },
    {
     "name": "stdout",
     "output_type": "stream",
     "text": [
      "error\n"
     ]
    },
    {
     "name": "stderr",
     "output_type": "stream",
     "text": [
      "\n",
      "77.3kiB [00:00, 1.44MiB/s]                 \u001b[A\n",
      " 19%|█▉        | 95/500 [13:42<06:15,  1.08it/s]"
     ]
    },
    {
     "name": "stdout",
     "output_type": "stream",
     "text": [
      "error\n"
     ]
    },
    {
     "name": "stderr",
     "output_type": "stream",
     "text": [
      "\n",
      "72.4kiB [00:00, 2.01MiB/s]                 \u001b[A\n",
      " 19%|█▉        | 96/500 [13:43<05:19,  1.26it/s]"
     ]
    },
    {
     "name": "stdout",
     "output_type": "stream",
     "text": [
      "error\n"
     ]
    },
    {
     "name": "stderr",
     "output_type": "stream",
     "text": [
      "\n",
      "40.0kiB [00:00, 1.86MiB/s]                 \u001b[A\n",
      " 19%|█▉        | 97/500 [13:43<04:47,  1.40it/s]"
     ]
    },
    {
     "name": "stdout",
     "output_type": "stream",
     "text": [
      "error\n"
     ]
    },
    {
     "name": "stderr",
     "output_type": "stream",
     "text": [
      "\n",
      "41.2kiB [00:00, 2.64MiB/s]                 \u001b[A\n",
      " 20%|█▉        | 98/500 [13:44<04:06,  1.63it/s]"
     ]
    },
    {
     "name": "stdout",
     "output_type": "stream",
     "text": [
      "error\n"
     ]
    },
    {
     "name": "stderr",
     "output_type": "stream",
     "text": [
      "\n",
      "82.3kiB [00:00, 1.19MiB/s]                 \u001b[A\n",
      " 20%|█▉        | 99/500 [13:46<06:09,  1.09it/s]"
     ]
    },
    {
     "name": "stdout",
     "output_type": "stream",
     "text": [
      "error\n"
     ]
    },
    {
     "name": "stderr",
     "output_type": "stream",
     "text": [
      "\n",
      "73.5kiB [00:00, 1.97MiB/s]                 \u001b[A\n",
      " 20%|██        | 100/500 [13:46<05:21,  1.24it/s]"
     ]
    },
    {
     "name": "stdout",
     "output_type": "stream",
     "text": [
      "error\n"
     ]
    },
    {
     "name": "stderr",
     "output_type": "stream",
     "text": [
      "\n",
      "96.4kiB [00:00, 1.53MiB/s]                 \u001b[A\n",
      " 20%|██        | 101/500 [13:48<07:02,  1.06s/it]"
     ]
    },
    {
     "name": "stdout",
     "output_type": "stream",
     "text": [
      "error\n"
     ]
    },
    {
     "name": "stderr",
     "output_type": "stream",
     "text": [
      "\n",
      "48.0kiB [00:00, ?iB/s]                     \u001b[A\n",
      " 20%|██        | 102/500 [13:49<07:22,  1.11s/it]"
     ]
    },
    {
     "name": "stdout",
     "output_type": "stream",
     "text": [
      "error\n"
     ]
    },
    {
     "name": "stderr",
     "output_type": "stream",
     "text": [
      "\n",
      "  0%|          | 0.00/1.00 [00:00<?, ?iB/s]\u001b[A\n",
      "207kiB [00:00, 1.28MiB/s]                  \u001b[A\n",
      " 21%|██        | 103/500 [13:50<06:26,  1.03it/s]"
     ]
    },
    {
     "name": "stdout",
     "output_type": "stream",
     "text": [
      "error\n"
     ]
    },
    {
     "name": "stderr",
     "output_type": "stream",
     "text": [
      "\n",
      "  0%|          | 0.00/1.00 [00:00<?, ?iB/s]\u001b[A\n",
      "232kiB [00:00, 1.41MiB/s]                  \u001b[A\n",
      " 21%|██        | 104/500 [13:50<05:44,  1.15it/s]"
     ]
    },
    {
     "name": "stdout",
     "output_type": "stream",
     "text": [
      "error\n"
     ]
    },
    {
     "name": "stderr",
     "output_type": "stream",
     "text": [
      "\n",
      "  0%|          | 0.00/1.00 [00:00<?, ?iB/s]\u001b[A\n",
      "218kiB [00:00, 1.65MiB/s]                  \u001b[A\n",
      " 21%|██        | 105/500 [13:52<07:09,  1.09s/it]"
     ]
    },
    {
     "name": "stdout",
     "output_type": "stream",
     "text": [
      "error\n"
     ]
    },
    {
     "name": "stderr",
     "output_type": "stream",
     "text": [
      "\n",
      "42.7kiB [00:00, ?iB/s]                     \u001b[A\n",
      " 21%|██        | 106/500 [13:52<05:47,  1.13it/s]"
     ]
    },
    {
     "name": "stdout",
     "output_type": "stream",
     "text": [
      "error\n"
     ]
    },
    {
     "name": "stderr",
     "output_type": "stream",
     "text": [
      "\n",
      "38.7kiB [00:00, 2.47MiB/s]                 \u001b[A\n",
      " 21%|██▏       | 107/500 [13:53<04:53,  1.34it/s]"
     ]
    },
    {
     "name": "stdout",
     "output_type": "stream",
     "text": [
      "error\n"
     ]
    },
    {
     "name": "stderr",
     "output_type": "stream",
     "text": [
      "\n",
      "117kiB [00:00, 1.86MiB/s]                  \u001b[A\n",
      " 22%|██▏       | 108/500 [13:53<04:31,  1.44it/s]"
     ]
    },
    {
     "name": "stdout",
     "output_type": "stream",
     "text": [
      "error\n"
     ]
    },
    {
     "name": "stderr",
     "output_type": "stream",
     "text": [
      "\n",
      "91.3kiB [00:00, 1.70MiB/s]                 \u001b[A\n",
      " 22%|██▏       | 109/500 [13:54<04:10,  1.56it/s]"
     ]
    },
    {
     "name": "stdout",
     "output_type": "stream",
     "text": [
      "error\n"
     ]
    },
    {
     "name": "stderr",
     "output_type": "stream",
     "text": [
      "\n",
      "25.9kiB [00:00, ?iB/s]                     \u001b[A\n",
      " 22%|██▏       | 110/500 [13:54<03:42,  1.75it/s]"
     ]
    },
    {
     "name": "stdout",
     "output_type": "stream",
     "text": [
      "error\n"
     ]
    },
    {
     "name": "stderr",
     "output_type": "stream",
     "text": [
      "\n",
      "77.4kiB [00:00, 1.44MiB/s]                 \u001b[A\n",
      " 22%|██▏       | 111/500 [13:55<03:40,  1.77it/s]"
     ]
    },
    {
     "name": "stdout",
     "output_type": "stream",
     "text": [
      "error\n"
     ]
    },
    {
     "name": "stderr",
     "output_type": "stream",
     "text": [
      "\n",
      "55.4kiB [00:00, 1.97MiB/s]                 \u001b[A\n",
      " 22%|██▏       | 112/500 [13:55<03:20,  1.93it/s]"
     ]
    },
    {
     "name": "stdout",
     "output_type": "stream",
     "text": [
      "error\n"
     ]
    },
    {
     "name": "stderr",
     "output_type": "stream",
     "text": [
      "\n",
      "55.2kiB [00:00, 1.76MiB/s]                 \u001b[A\n",
      " 23%|██▎       | 113/500 [13:56<03:43,  1.73it/s]"
     ]
    },
    {
     "name": "stdout",
     "output_type": "stream",
     "text": [
      "error\n"
     ]
    },
    {
     "name": "stderr",
     "output_type": "stream",
     "text": [
      "\n",
      "63.6kiB [00:00, 2.03MiB/s]                 \u001b[A\n",
      " 23%|██▎       | 114/500 [13:56<03:04,  2.09it/s]"
     ]
    },
    {
     "name": "stdout",
     "output_type": "stream",
     "text": [
      "(447, 920, 3) 928 448\n",
      "error\n"
     ]
    },
    {
     "name": "stderr",
     "output_type": "stream",
     "text": [
      "\n",
      "44.6kiB [00:00, 1.43MiB/s]                 \u001b[A\n",
      " 23%|██▎       | 115/500 [13:56<02:37,  2.44it/s]"
     ]
    },
    {
     "name": "stdout",
     "output_type": "stream",
     "text": [
      "error\n"
     ]
    },
    {
     "name": "stderr",
     "output_type": "stream",
     "text": [
      "\n",
      "  0%|          | 0.00/1.00 [00:00<?, ?iB/s]\u001b[A\n",
      "145kiB [00:00, 1.25MiB/s]                  \u001b[A\n",
      " 23%|██▎       | 116/500 [13:57<02:34,  2.49it/s]"
     ]
    },
    {
     "name": "stdout",
     "output_type": "stream",
     "text": [
      "error\n"
     ]
    },
    {
     "name": "stderr",
     "output_type": "stream",
     "text": [
      "\n",
      "67.7kiB [00:00, 2.16MiB/s]                 \u001b[A\n",
      " 23%|██▎       | 117/500 [13:57<02:24,  2.66it/s]"
     ]
    },
    {
     "name": "stdout",
     "output_type": "stream",
     "text": [
      "error\n"
     ]
    },
    {
     "name": "stderr",
     "output_type": "stream",
     "text": [
      "\n",
      "26.2kiB [00:00, ?iB/s]                     \u001b[A\n",
      " 24%|██▎       | 118/500 [13:57<02:21,  2.70it/s]"
     ]
    },
    {
     "name": "stdout",
     "output_type": "stream",
     "text": [
      "error\n"
     ]
    },
    {
     "name": "stderr",
     "output_type": "stream",
     "text": [
      "\n",
      "34.3kiB [00:00, ?iB/s]                     \u001b[A\n",
      " 24%|██▍       | 119/500 [13:58<02:17,  2.77it/s]"
     ]
    },
    {
     "name": "stdout",
     "output_type": "stream",
     "text": [
      "error\n"
     ]
    },
    {
     "name": "stderr",
     "output_type": "stream",
     "text": [
      "\n",
      "25.9kiB [00:00, 1.66MiB/s]                 \u001b[A\n",
      " 24%|██▍       | 120/500 [13:58<02:02,  3.11it/s]"
     ]
    },
    {
     "name": "stdout",
     "output_type": "stream",
     "text": [
      "error\n"
     ]
    },
    {
     "name": "stderr",
     "output_type": "stream",
     "text": [
      "\n",
      "45.3kiB [00:00, 2.91MiB/s]                 \u001b[A\n",
      " 24%|██▍       | 121/500 [13:58<01:55,  3.27it/s]"
     ]
    },
    {
     "name": "stdout",
     "output_type": "stream",
     "text": [
      "error\n"
     ]
    },
    {
     "name": "stderr",
     "output_type": "stream",
     "text": [
      "\n",
      "40.6kiB [00:00, 2.53MiB/s]                 \u001b[A\n",
      " 24%|██▍       | 122/500 [13:58<01:51,  3.39it/s]"
     ]
    },
    {
     "name": "stdout",
     "output_type": "stream",
     "text": [
      "error\n"
     ]
    },
    {
     "name": "stderr",
     "output_type": "stream",
     "text": [
      "\n",
      "30.7kiB [00:00, 1.96MiB/s]                 \u001b[A\n",
      " 25%|██▍       | 123/500 [13:59<01:51,  3.38it/s]"
     ]
    },
    {
     "name": "stdout",
     "output_type": "stream",
     "text": [
      "error\n"
     ]
    },
    {
     "name": "stderr",
     "output_type": "stream",
     "text": [
      "\n",
      "45.1kiB [00:00, 1.42MiB/s]                 \u001b[A\n",
      " 25%|██▍       | 124/500 [13:59<01:42,  3.66it/s]"
     ]
    },
    {
     "name": "stdout",
     "output_type": "stream",
     "text": [
      "error\n"
     ]
    },
    {
     "name": "stderr",
     "output_type": "stream",
     "text": [
      "\n",
      "58.7kiB [00:00, 1.88MiB/s]                 \u001b[A\n",
      " 25%|██▌       | 125/500 [13:59<01:43,  3.62it/s]"
     ]
    },
    {
     "name": "stdout",
     "output_type": "stream",
     "text": [
      "error\n"
     ]
    },
    {
     "name": "stderr",
     "output_type": "stream",
     "text": [
      "\n",
      "64.3kiB [00:00, 4.13MiB/s]                 \u001b[A\n",
      " 25%|██▌       | 126/500 [14:00<01:53,  3.28it/s]"
     ]
    },
    {
     "name": "stdout",
     "output_type": "stream",
     "text": [
      "error\n"
     ]
    },
    {
     "name": "stderr",
     "output_type": "stream",
     "text": [
      "\n",
      "54.8kiB [00:00, 3.52MiB/s]                 \u001b[A\n",
      " 25%|██▌       | 127/500 [14:00<02:30,  2.48it/s]"
     ]
    },
    {
     "name": "stdout",
     "output_type": "stream",
     "text": [
      "error\n"
     ]
    },
    {
     "name": "stderr",
     "output_type": "stream",
     "text": [
      "\n",
      "60.4kiB [00:00, 3.76MiB/s]                 \u001b[A\n",
      " 26%|██▌       | 128/500 [14:01<02:29,  2.48it/s]"
     ]
    },
    {
     "name": "stdout",
     "output_type": "stream",
     "text": [
      "error\n"
     ]
    },
    {
     "name": "stderr",
     "output_type": "stream",
     "text": [
      "\n",
      "71.5kiB [00:00, 1.53MiB/s]                 \u001b[A\n",
      " 26%|██▌       | 129/500 [14:01<02:29,  2.48it/s]"
     ]
    },
    {
     "name": "stdout",
     "output_type": "stream",
     "text": [
      "error\n"
     ]
    },
    {
     "name": "stderr",
     "output_type": "stream",
     "text": [
      "\n",
      "68.2kiB [00:00, 1.28MiB/s]                 \u001b[A\n",
      " 26%|██▌       | 130/500 [14:01<01:59,  3.09it/s]"
     ]
    },
    {
     "name": "stdout",
     "output_type": "stream",
     "text": [
      "error\n"
     ]
    },
    {
     "name": "stderr",
     "output_type": "stream",
     "text": [
      "\n",
      "27.4kiB [00:00, ?iB/s]                     \u001b[A\n",
      " 26%|██▌       | 131/500 [14:01<01:54,  3.23it/s]"
     ]
    },
    {
     "name": "stdout",
     "output_type": "stream",
     "text": [
      "error\n"
     ]
    },
    {
     "name": "stderr",
     "output_type": "stream",
     "text": [
      "\n",
      "  0%|          | 0.00/1.00 [00:00<?, ?iB/s]\u001b[A\n",
      "161kiB [00:00, 1.61MiB/s]                  \u001b[A\n",
      " 26%|██▋       | 132/500 [14:02<02:44,  2.23it/s]"
     ]
    },
    {
     "name": "stdout",
     "output_type": "stream",
     "text": [
      "error\n"
     ]
    },
    {
     "name": "stderr",
     "output_type": "stream",
     "text": [
      "\n",
      "56.1kiB [00:00, 1.80MiB/s]                 \u001b[A\n",
      " 27%|██▋       | 133/500 [14:03<03:21,  1.82it/s]"
     ]
    },
    {
     "name": "stdout",
     "output_type": "stream",
     "text": [
      "error\n"
     ]
    },
    {
     "name": "stderr",
     "output_type": "stream",
     "text": [
      "\n",
      "36.1kiB [00:00, 2.31MiB/s]                 \u001b[A\n",
      " 27%|██▋       | 134/500 [14:03<03:03,  2.00it/s]"
     ]
    },
    {
     "name": "stdout",
     "output_type": "stream",
     "text": [
      "error\n"
     ]
    },
    {
     "name": "stderr",
     "output_type": "stream",
     "text": [
      "\n",
      "42.4kiB [00:00, 2.72MiB/s]                 \u001b[A\n",
      " 27%|██▋       | 135/500 [14:04<02:58,  2.05it/s]"
     ]
    },
    {
     "name": "stdout",
     "output_type": "stream",
     "text": [
      "error\n"
     ]
    },
    {
     "name": "stderr",
     "output_type": "stream",
     "text": [
      "\n",
      "81.1kiB [00:00, 1.52MiB/s]                 \u001b[A\n",
      " 27%|██▋       | 136/500 [14:04<02:43,  2.23it/s]"
     ]
    },
    {
     "name": "stdout",
     "output_type": "stream",
     "text": [
      "error\n"
     ]
    },
    {
     "name": "stderr",
     "output_type": "stream",
     "text": [
      "\n",
      "1.90kiB [00:00, ?iB/s]                     \u001b[A\n"
     ]
    },
    {
     "name": "stdout",
     "output_type": "stream",
     "text": [
      "error\n"
     ]
    },
    {
     "name": "stderr",
     "output_type": "stream",
     "text": [
      " 27%|██▋       | 137/500 [14:04<02:14,  2.71it/s]\n",
      "62.9kiB [00:00, 2.01MiB/s]                 \u001b[A\n",
      " 28%|██▊       | 138/500 [14:05<01:58,  3.05it/s]"
     ]
    },
    {
     "name": "stdout",
     "output_type": "stream",
     "text": [
      "error\n"
     ]
    },
    {
     "name": "stderr",
     "output_type": "stream",
     "text": [
      "\n",
      "24.7kiB [00:00, 1.59MiB/s]                 \u001b[A\n",
      " 28%|██▊       | 139/500 [14:05<01:55,  3.13it/s]"
     ]
    },
    {
     "name": "stdout",
     "output_type": "stream",
     "text": [
      "error\n"
     ]
    },
    {
     "name": "stderr",
     "output_type": "stream",
     "text": [
      "\n",
      "45.9kiB [00:00, 2.26MiB/s]                 \u001b[A\n",
      " 28%|██▊       | 140/500 [14:05<02:03,  2.91it/s]"
     ]
    },
    {
     "name": "stdout",
     "output_type": "stream",
     "text": [
      "error\n"
     ]
    },
    {
     "name": "stderr",
     "output_type": "stream",
     "text": [
      "\n",
      "56.4kiB [00:00, 1.81MiB/s]                 \u001b[A\n",
      " 28%|██▊       | 141/500 [14:06<01:52,  3.19it/s]"
     ]
    },
    {
     "name": "stdout",
     "output_type": "stream",
     "text": [
      "error\n"
     ]
    },
    {
     "name": "stderr",
     "output_type": "stream",
     "text": [
      "\n",
      "83.7kiB [00:00, 2.21MiB/s]                 \u001b[A\n",
      " 28%|██▊       | 142/500 [14:06<01:53,  3.16it/s]"
     ]
    },
    {
     "name": "stdout",
     "output_type": "stream",
     "text": [
      "error\n"
     ]
    },
    {
     "name": "stderr",
     "output_type": "stream",
     "text": [
      "\n",
      "86.0kiB [00:00, 1.92MiB/s]                 \u001b[A\n",
      " 29%|██▊       | 143/500 [14:06<01:54,  3.12it/s]"
     ]
    },
    {
     "name": "stdout",
     "output_type": "stream",
     "text": [
      "error\n"
     ]
    },
    {
     "name": "stderr",
     "output_type": "stream",
     "text": [
      "\n",
      "50.2kiB [00:00, 1.61MiB/s]                 \u001b[A\n",
      " 29%|██▉       | 144/500 [14:07<02:18,  2.58it/s]"
     ]
    },
    {
     "name": "stdout",
     "output_type": "stream",
     "text": [
      "error\n"
     ]
    },
    {
     "name": "stderr",
     "output_type": "stream",
     "text": [
      "\n",
      "52.3kiB [00:00, 1.05MiB/s]                 \u001b[A\n",
      " 29%|██▉       | 145/500 [14:07<02:12,  2.67it/s]"
     ]
    },
    {
     "name": "stdout",
     "output_type": "stream",
     "text": [
      "error\n"
     ]
    },
    {
     "name": "stderr",
     "output_type": "stream",
     "text": [
      "\n",
      "52.9kiB [00:00, 1.69MiB/s]                 \u001b[A\n",
      " 29%|██▉       | 146/500 [14:08<02:23,  2.47it/s]"
     ]
    },
    {
     "name": "stdout",
     "output_type": "stream",
     "text": [
      "error\n"
     ]
    },
    {
     "name": "stderr",
     "output_type": "stream",
     "text": [
      "\n",
      "34.6kiB [00:00, 2.21MiB/s]                 \u001b[A\n",
      " 29%|██▉       | 147/500 [14:08<02:30,  2.35it/s]"
     ]
    },
    {
     "name": "stdout",
     "output_type": "stream",
     "text": [
      "error\n"
     ]
    },
    {
     "name": "stderr",
     "output_type": "stream",
     "text": [
      "\n",
      "21.7kiB [00:00, 3.34MiB/s]                 \u001b[A\n",
      " 30%|██▉       | 148/500 [14:09<02:27,  2.38it/s]"
     ]
    },
    {
     "name": "stdout",
     "output_type": "stream",
     "text": [
      "error\n"
     ]
    },
    {
     "name": "stderr",
     "output_type": "stream",
     "text": [
      "\n",
      "32.1kiB [00:00, ?iB/s]                     \u001b[A\n",
      " 30%|██▉       | 149/500 [14:09<02:44,  2.13it/s]"
     ]
    },
    {
     "name": "stdout",
     "output_type": "stream",
     "text": [
      "error\n"
     ]
    },
    {
     "name": "stderr",
     "output_type": "stream",
     "text": [
      "\n",
      "102kiB [00:00, 1.62MiB/s]                  \u001b[A\n",
      " 30%|███       | 150/500 [14:10<02:51,  2.05it/s]"
     ]
    },
    {
     "name": "stdout",
     "output_type": "stream",
     "text": [
      "error\n"
     ]
    },
    {
     "name": "stderr",
     "output_type": "stream",
     "text": [
      "\n",
      "45.2kiB [00:00, ?iB/s]                     \u001b[A\n",
      " 30%|███       | 151/500 [14:10<02:42,  2.14it/s]"
     ]
    },
    {
     "name": "stdout",
     "output_type": "stream",
     "text": [
      "error\n"
     ]
    },
    {
     "name": "stderr",
     "output_type": "stream",
     "text": [
      "\n",
      "25.7kiB [00:00, 2.56MiB/s]                 \u001b[A\n",
      " 30%|███       | 152/500 [14:10<02:23,  2.43it/s]"
     ]
    },
    {
     "name": "stdout",
     "output_type": "stream",
     "text": [
      "error\n"
     ]
    },
    {
     "name": "stderr",
     "output_type": "stream",
     "text": [
      "\n",
      "32.1kiB [00:00, 3.21MiB/s]                 \u001b[A\n",
      " 31%|███       | 153/500 [14:11<02:08,  2.70it/s]"
     ]
    },
    {
     "name": "stdout",
     "output_type": "stream",
     "text": [
      "error\n"
     ]
    },
    {
     "name": "stderr",
     "output_type": "stream",
     "text": [
      "\n",
      "43.4kiB [00:00, 2.78MiB/s]                 \u001b[A\n",
      " 31%|███       | 154/500 [14:11<02:29,  2.31it/s]"
     ]
    },
    {
     "name": "stdout",
     "output_type": "stream",
     "text": [
      "error\n"
     ]
    },
    {
     "name": "stderr",
     "output_type": "stream",
     "text": [
      "\n",
      "80.5kiB [00:00, 2.48MiB/s]                 \u001b[A\n",
      " 31%|███       | 155/500 [14:12<02:28,  2.32it/s]"
     ]
    },
    {
     "name": "stdout",
     "output_type": "stream",
     "text": [
      "error\n"
     ]
    },
    {
     "name": "stderr",
     "output_type": "stream",
     "text": [
      "\n",
      "20.8kiB [00:00, ?iB/s]                     \u001b[A\n",
      " 31%|███       | 156/500 [14:12<02:12,  2.60it/s]"
     ]
    },
    {
     "name": "stdout",
     "output_type": "stream",
     "text": [
      "error\n"
     ]
    },
    {
     "name": "stderr",
     "output_type": "stream",
     "text": [
      "\n",
      "51.5kiB [00:00, 3.31MiB/s]                 \u001b[A\n",
      " 31%|███▏      | 157/500 [14:13<02:52,  1.99it/s]"
     ]
    },
    {
     "name": "stdout",
     "output_type": "stream",
     "text": [
      "error\n"
     ]
    },
    {
     "name": "stderr",
     "output_type": "stream",
     "text": [
      "\n",
      "59.2kiB [00:00, 1.89MiB/s]                 \u001b[A\n",
      " 32%|███▏      | 158/500 [14:13<02:51,  1.99it/s]"
     ]
    },
    {
     "name": "stdout",
     "output_type": "stream",
     "text": [
      "error\n"
     ]
    },
    {
     "name": "stderr",
     "output_type": "stream",
     "text": [
      "\n",
      "66.6kiB [00:00, 2.13MiB/s]                 \u001b[A\n",
      " 32%|███▏      | 159/500 [14:14<03:11,  1.78it/s]"
     ]
    },
    {
     "name": "stdout",
     "output_type": "stream",
     "text": [
      "error\n"
     ]
    },
    {
     "name": "stderr",
     "output_type": "stream",
     "text": [
      "\n",
      "75.8kiB [00:00, 2.39MiB/s]                 \u001b[A\n",
      " 32%|███▏      | 160/500 [14:14<03:05,  1.83it/s]"
     ]
    },
    {
     "name": "stdout",
     "output_type": "stream",
     "text": [
      "error\n"
     ]
    },
    {
     "name": "stderr",
     "output_type": "stream",
     "text": [
      "\n",
      "39.3kiB [00:00, 1.80MiB/s]                 \u001b[A\n",
      " 32%|███▏      | 161/500 [14:15<02:56,  1.92it/s]"
     ]
    },
    {
     "name": "stdout",
     "output_type": "stream",
     "text": [
      "error\n"
     ]
    },
    {
     "name": "stderr",
     "output_type": "stream",
     "text": [
      "\n",
      "66.3kiB [00:00, 2.12MiB/s]                 \u001b[A\n",
      " 32%|███▏      | 162/500 [14:15<02:58,  1.89it/s]"
     ]
    },
    {
     "name": "stdout",
     "output_type": "stream",
     "text": [
      "error\n"
     ]
    },
    {
     "name": "stderr",
     "output_type": "stream",
     "text": [
      "\n",
      "5.69kiB [00:00, ?iB/s]                     \u001b[A"
     ]
    },
    {
     "name": "stdout",
     "output_type": "stream",
     "text": [
      "error\n"
     ]
    },
    {
     "name": "stderr",
     "output_type": "stream",
     "text": [
      "\n",
      " 33%|███▎      | 163/500 [14:16<02:28,  2.27it/s]\n",
      "46.4kiB [00:00, 1.48MiB/s]                 \u001b[A\n",
      " 33%|███▎      | 164/500 [14:16<02:22,  2.36it/s]"
     ]
    },
    {
     "name": "stdout",
     "output_type": "stream",
     "text": [
      "error\n"
     ]
    },
    {
     "name": "stderr",
     "output_type": "stream",
     "text": [
      "\n",
      "37.8kiB [00:00, 2.42MiB/s]                 \u001b[A\n",
      " 33%|███▎      | 165/500 [14:16<02:23,  2.33it/s]"
     ]
    },
    {
     "name": "stdout",
     "output_type": "stream",
     "text": [
      "error\n"
     ]
    },
    {
     "name": "stderr",
     "output_type": "stream",
     "text": [
      "\n",
      "52.9kiB [00:00, 1.69MiB/s]                 \u001b[A\n",
      " 33%|███▎      | 166/500 [14:17<02:43,  2.04it/s]"
     ]
    },
    {
     "name": "stdout",
     "output_type": "stream",
     "text": [
      "error\n"
     ]
    },
    {
     "name": "stderr",
     "output_type": "stream",
     "text": [
      "\n",
      "52.6kiB [00:00, 1.85MiB/s]                 \u001b[A\n",
      " 33%|███▎      | 167/500 [14:17<02:26,  2.27it/s]"
     ]
    },
    {
     "name": "stdout",
     "output_type": "stream",
     "text": [
      "error\n"
     ]
    },
    {
     "name": "stderr",
     "output_type": "stream",
     "text": [
      "\n",
      "89.6kiB [00:00, 1.80MiB/s]                 \u001b[A\n",
      " 34%|███▎      | 168/500 [14:18<02:46,  1.99it/s]"
     ]
    },
    {
     "name": "stdout",
     "output_type": "stream",
     "text": [
      "error\n"
     ]
    },
    {
     "name": "stderr",
     "output_type": "stream",
     "text": [
      "\n",
      "50.4kiB [00:00, 1.25MiB/s]                 \u001b[A\n",
      " 34%|███▍      | 169/500 [14:19<02:43,  2.03it/s]"
     ]
    },
    {
     "name": "stdout",
     "output_type": "stream",
     "text": [
      "error\n"
     ]
    },
    {
     "name": "stderr",
     "output_type": "stream",
     "text": [
      "\n",
      "60.7kiB [00:00, 2.94MiB/s]                 \u001b[A\n",
      " 34%|███▍      | 170/500 [14:19<02:47,  1.97it/s]"
     ]
    },
    {
     "name": "stdout",
     "output_type": "stream",
     "text": [
      "error\n"
     ]
    },
    {
     "name": "stderr",
     "output_type": "stream",
     "text": [
      "\n",
      "48.3kiB [00:00, 1.55MiB/s]                 \u001b[A\n",
      " 34%|███▍      | 171/500 [14:20<02:57,  1.85it/s]"
     ]
    },
    {
     "name": "stdout",
     "output_type": "stream",
     "text": [
      "error\n"
     ]
    },
    {
     "name": "stderr",
     "output_type": "stream",
     "text": [
      "\n",
      "49.4kiB [00:00, 2.43MiB/s]                 \u001b[A\n",
      " 34%|███▍      | 172/500 [14:20<02:47,  1.96it/s]"
     ]
    },
    {
     "name": "stdout",
     "output_type": "stream",
     "text": [
      "error\n"
     ]
    },
    {
     "name": "stderr",
     "output_type": "stream",
     "text": [
      "\n",
      "52.9kiB [00:00, ?iB/s]                     \u001b[A\n",
      " 35%|███▍      | 173/500 [14:20<02:33,  2.13it/s]"
     ]
    },
    {
     "name": "stdout",
     "output_type": "stream",
     "text": [
      "error\n"
     ]
    },
    {
     "name": "stderr",
     "output_type": "stream",
     "text": [
      "\n",
      "85.9kiB [00:00, 1.61MiB/s]                 \u001b[A\n",
      " 35%|███▍      | 174/500 [14:21<02:43,  1.99it/s]"
     ]
    },
    {
     "name": "stdout",
     "output_type": "stream",
     "text": [
      "error\n"
     ]
    },
    {
     "name": "stderr",
     "output_type": "stream",
     "text": [
      "\n",
      "92.3kiB [00:00, 1.95MiB/s]                 \u001b[A\n",
      " 35%|███▌      | 175/500 [14:21<02:27,  2.20it/s]"
     ]
    },
    {
     "name": "stdout",
     "output_type": "stream",
     "text": [
      "error\n"
     ]
    },
    {
     "name": "stderr",
     "output_type": "stream",
     "text": [
      "\n",
      "65.2kiB [00:00, 2.06MiB/s]                 \u001b[A\n",
      " 35%|███▌      | 176/500 [14:22<02:20,  2.31it/s]"
     ]
    },
    {
     "name": "stdout",
     "output_type": "stream",
     "text": [
      "error\n"
     ]
    },
    {
     "name": "stderr",
     "output_type": "stream",
     "text": [
      "\n",
      "17.1kiB [00:00, 2.12MiB/s]                 \u001b[A\n",
      " 35%|███▌      | 177/500 [14:22<02:02,  2.64it/s]"
     ]
    },
    {
     "name": "stdout",
     "output_type": "stream",
     "text": [
      "error\n"
     ]
    },
    {
     "name": "stderr",
     "output_type": "stream",
     "text": [
      "\n",
      "76.7kiB [00:00, 1.61MiB/s]                 \u001b[A\n",
      " 36%|███▌      | 178/500 [14:23<02:19,  2.31it/s]"
     ]
    },
    {
     "name": "stdout",
     "output_type": "stream",
     "text": [
      "error\n"
     ]
    },
    {
     "name": "stderr",
     "output_type": "stream",
     "text": [
      "\n",
      "77.0kiB [00:00, 2.02MiB/s]                 \u001b[A\n",
      " 36%|███▌      | 179/500 [14:23<02:29,  2.14it/s]"
     ]
    },
    {
     "name": "stdout",
     "output_type": "stream",
     "text": [
      "error\n"
     ]
    },
    {
     "name": "stderr",
     "output_type": "stream",
     "text": [
      "\n",
      "72.5kiB [00:00, 3.28MiB/s]                 \u001b[A\n",
      " 36%|███▌      | 180/500 [14:24<02:29,  2.14it/s]"
     ]
    },
    {
     "name": "stdout",
     "output_type": "stream",
     "text": [
      "error\n"
     ]
    },
    {
     "name": "stderr",
     "output_type": "stream",
     "text": [
      "\n",
      "96.2kiB [00:00, 1.53MiB/s]                 \u001b[A\n",
      " 36%|███▌      | 181/500 [14:24<02:19,  2.29it/s]"
     ]
    },
    {
     "name": "stdout",
     "output_type": "stream",
     "text": [
      "error\n"
     ]
    },
    {
     "name": "stderr",
     "output_type": "stream",
     "text": [
      "\n",
      "65.4kiB [00:00, 2.09MiB/s]                 \u001b[A\n",
      " 36%|███▋      | 182/500 [14:24<02:14,  2.36it/s]"
     ]
    },
    {
     "name": "stdout",
     "output_type": "stream",
     "text": [
      "error\n"
     ]
    },
    {
     "name": "stderr",
     "output_type": "stream",
     "text": [
      "\n",
      "73.8kiB [00:00, 2.34MiB/s]                 \u001b[A\n",
      " 37%|███▋      | 183/500 [14:25<02:32,  2.07it/s]"
     ]
    },
    {
     "name": "stdout",
     "output_type": "stream",
     "text": [
      "error\n"
     ]
    },
    {
     "name": "stderr",
     "output_type": "stream",
     "text": [
      "\n",
      "86.9kiB [00:00, 1.44MiB/s]                 \u001b[A\n",
      " 37%|███▋      | 184/500 [14:26<02:39,  1.98it/s]"
     ]
    },
    {
     "name": "stdout",
     "output_type": "stream",
     "text": [
      "error\n"
     ]
    },
    {
     "name": "stderr",
     "output_type": "stream",
     "text": [
      "\n",
      "46.0kiB [00:00, 2.08MiB/s]                 \u001b[A\n",
      " 37%|███▋      | 185/500 [14:26<02:37,  2.00it/s]"
     ]
    },
    {
     "name": "stdout",
     "output_type": "stream",
     "text": [
      "error\n"
     ]
    },
    {
     "name": "stderr",
     "output_type": "stream",
     "text": [
      "\n",
      "23.7kiB [00:00, ?iB/s]                     \u001b[A\n",
      " 37%|███▋      | 186/500 [14:26<02:18,  2.27it/s]"
     ]
    },
    {
     "name": "stdout",
     "output_type": "stream",
     "text": [
      "error\n"
     ]
    },
    {
     "name": "stderr",
     "output_type": "stream",
     "text": [
      "\n",
      "24.9kiB [00:00, ?iB/s]                     \u001b[A\n",
      " 37%|███▋      | 187/500 [14:27<02:17,  2.28it/s]"
     ]
    },
    {
     "name": "stdout",
     "output_type": "stream",
     "text": [
      "error\n"
     ]
    },
    {
     "name": "stderr",
     "output_type": "stream",
     "text": [
      "\n",
      "79.6kiB [00:00, 1.57MiB/s]                 \u001b[A\n",
      " 38%|███▊      | 188/500 [14:27<02:33,  2.04it/s]"
     ]
    },
    {
     "name": "stdout",
     "output_type": "stream",
     "text": [
      "error\n"
     ]
    },
    {
     "name": "stderr",
     "output_type": "stream",
     "text": [
      "\n",
      "40.1kiB [00:00, 1.96MiB/s]                 \u001b[A\n",
      " 38%|███▊      | 189/500 [14:28<02:15,  2.29it/s]"
     ]
    },
    {
     "name": "stdout",
     "output_type": "stream",
     "text": [
      "error\n"
     ]
    },
    {
     "name": "stderr",
     "output_type": "stream",
     "text": [
      "\n",
      "74.8kiB [00:00, 1.83MiB/s]                 \u001b[A\n",
      " 38%|███▊      | 190/500 [14:28<02:38,  1.95it/s]"
     ]
    },
    {
     "name": "stdout",
     "output_type": "stream",
     "text": [
      "error\n"
     ]
    },
    {
     "name": "stderr",
     "output_type": "stream",
     "text": [
      "\n",
      "50.9kiB [00:00, 1.79MiB/s]                 \u001b[A\n",
      " 38%|███▊      | 191/500 [14:29<02:20,  2.19it/s]"
     ]
    },
    {
     "name": "stdout",
     "output_type": "stream",
     "text": [
      "error\n"
     ]
    },
    {
     "name": "stderr",
     "output_type": "stream",
     "text": [
      "\n",
      "51.5kiB [00:00, 1.68MiB/s]                 \u001b[A\n",
      " 38%|███▊      | 192/500 [14:29<02:03,  2.49it/s]"
     ]
    },
    {
     "name": "stdout",
     "output_type": "stream",
     "text": [
      "error\n"
     ]
    },
    {
     "name": "stderr",
     "output_type": "stream",
     "text": [
      "\n",
      "56.3kiB [00:00, 1.98MiB/s]                 \u001b[A\n",
      " 39%|███▊      | 193/500 [14:29<02:06,  2.42it/s]"
     ]
    },
    {
     "name": "stdout",
     "output_type": "stream",
     "text": [
      "error\n"
     ]
    },
    {
     "name": "stderr",
     "output_type": "stream",
     "text": [
      "\n",
      "51.9kiB [00:00, 1.70MiB/s]                 \u001b[A\n",
      " 39%|███▉      | 194/500 [14:30<01:56,  2.64it/s]"
     ]
    },
    {
     "name": "stdout",
     "output_type": "stream",
     "text": [
      "error\n"
     ]
    },
    {
     "name": "stderr",
     "output_type": "stream",
     "text": [
      "\n",
      "77.6kiB [00:00, 1.45MiB/s]                 \u001b[A\n",
      " 39%|███▉      | 195/500 [14:30<02:19,  2.19it/s]"
     ]
    },
    {
     "name": "stdout",
     "output_type": "stream",
     "text": [
      "error\n"
     ]
    },
    {
     "name": "stderr",
     "output_type": "stream",
     "text": [
      "\n",
      "30.8kiB [00:00, 3.05MiB/s]                 \u001b[A\n",
      " 39%|███▉      | 196/500 [14:31<02:23,  2.12it/s]"
     ]
    },
    {
     "name": "stdout",
     "output_type": "stream",
     "text": [
      "error\n"
     ]
    },
    {
     "name": "stderr",
     "output_type": "stream",
     "text": [
      "\n",
      "35.0kiB [00:00, 4.37MiB/s]                 \u001b[A\n",
      " 39%|███▉      | 197/500 [14:31<02:09,  2.35it/s]"
     ]
    },
    {
     "name": "stdout",
     "output_type": "stream",
     "text": [
      "error\n"
     ]
    },
    {
     "name": "stderr",
     "output_type": "stream",
     "text": [
      "\n",
      "117kiB [00:00, 1.54MiB/s]                  \u001b[A\n",
      " 40%|███▉      | 198/500 [14:32<02:22,  2.11it/s]"
     ]
    },
    {
     "name": "stdout",
     "output_type": "stream",
     "text": [
      "error\n"
     ]
    },
    {
     "name": "stderr",
     "output_type": "stream",
     "text": [
      "\n",
      "43.4kiB [00:00, 1.39MiB/s]                 \u001b[A\n",
      " 40%|███▉      | 199/500 [14:32<02:21,  2.13it/s]"
     ]
    },
    {
     "name": "stdout",
     "output_type": "stream",
     "text": [
      "error\n"
     ]
    },
    {
     "name": "stderr",
     "output_type": "stream",
     "text": [
      "\n",
      "92.0kiB [00:00, 1.34MiB/s]                 \u001b[A\n",
      " 40%|████      | 200/500 [14:33<02:16,  2.20it/s]"
     ]
    },
    {
     "name": "stdout",
     "output_type": "stream",
     "text": [
      "error\n"
     ]
    },
    {
     "name": "stderr",
     "output_type": "stream",
     "text": [
      "\n",
      "109kiB [00:00, 1.58MiB/s]                  \u001b[A\n",
      " 40%|████      | 201/500 [14:33<02:06,  2.36it/s]"
     ]
    },
    {
     "name": "stdout",
     "output_type": "stream",
     "text": [
      "error\n"
     ]
    },
    {
     "name": "stderr",
     "output_type": "stream",
     "text": [
      "\n",
      "88.3kiB [00:00, 1.40MiB/s]                 \u001b[A\n",
      " 40%|████      | 202/500 [14:33<01:42,  2.91it/s]"
     ]
    },
    {
     "name": "stdout",
     "output_type": "stream",
     "text": [
      "error\n"
     ]
    },
    {
     "name": "stderr",
     "output_type": "stream",
     "text": [
      "\n",
      "27.6kiB [00:00, ?iB/s]                     \u001b[A\n",
      " 41%|████      | 203/500 [14:33<01:37,  3.04it/s]"
     ]
    },
    {
     "name": "stdout",
     "output_type": "stream",
     "text": [
      "error\n"
     ]
    },
    {
     "name": "stderr",
     "output_type": "stream",
     "text": [
      "\n",
      "78.5kiB [00:00, 1.47MiB/s]                 \u001b[A\n",
      " 41%|████      | 204/500 [14:34<01:38,  3.02it/s]"
     ]
    },
    {
     "name": "stdout",
     "output_type": "stream",
     "text": [
      "error\n"
     ]
    },
    {
     "name": "stderr",
     "output_type": "stream",
     "text": [
      "\n",
      "70.9kiB [00:00, 1.32MiB/s]                 \u001b[A\n",
      " 41%|████      | 205/500 [14:34<01:36,  3.06it/s]"
     ]
    },
    {
     "name": "stdout",
     "output_type": "stream",
     "text": [
      "error\n"
     ]
    },
    {
     "name": "stderr",
     "output_type": "stream",
     "text": [
      "\n",
      "28.1kiB [00:00, ?iB/s]                     \u001b[A\n",
      " 41%|████      | 206/500 [14:34<01:38,  2.98it/s]"
     ]
    },
    {
     "name": "stdout",
     "output_type": "stream",
     "text": [
      "error\n"
     ]
    },
    {
     "name": "stderr",
     "output_type": "stream",
     "text": [
      "\n",
      "87.8kiB [00:00, 1.66MiB/s]                 \u001b[A\n",
      " 41%|████▏     | 207/500 [14:35<01:39,  2.95it/s]"
     ]
    },
    {
     "name": "stdout",
     "output_type": "stream",
     "text": [
      "error\n"
     ]
    },
    {
     "name": "stderr",
     "output_type": "stream",
     "text": [
      "\n",
      "89.5kiB [00:00, 1.43MiB/s]                 \u001b[A\n",
      " 42%|████▏     | 208/500 [14:35<01:38,  2.97it/s]"
     ]
    },
    {
     "name": "stdout",
     "output_type": "stream",
     "text": [
      "error\n"
     ]
    },
    {
     "name": "stderr",
     "output_type": "stream",
     "text": [
      "\n",
      "76.1kiB [00:00, 2.37MiB/s]                 \u001b[A\n",
      " 42%|████▏     | 209/500 [14:36<01:52,  2.58it/s]"
     ]
    },
    {
     "name": "stdout",
     "output_type": "stream",
     "text": [
      "error\n"
     ]
    },
    {
     "name": "stderr",
     "output_type": "stream",
     "text": [
      "\n",
      "64.8kiB [00:00, 4.15MiB/s]                 \u001b[A\n",
      " 42%|████▏     | 210/500 [14:36<01:50,  2.63it/s]"
     ]
    },
    {
     "name": "stdout",
     "output_type": "stream",
     "text": [
      "error\n"
     ]
    },
    {
     "name": "stderr",
     "output_type": "stream",
     "text": [
      "\n",
      "29.0kiB [00:00, ?iB/s]                     \u001b[A\n",
      " 42%|████▏     | 211/500 [14:36<01:53,  2.56it/s]"
     ]
    },
    {
     "name": "stdout",
     "output_type": "stream",
     "text": [
      "error\n"
     ]
    },
    {
     "name": "stderr",
     "output_type": "stream",
     "text": [
      "\n",
      "47.0kiB [00:00, 3.00MiB/s]                 \u001b[A\n",
      " 42%|████▏     | 212/500 [14:37<01:38,  2.92it/s]"
     ]
    },
    {
     "name": "stdout",
     "output_type": "stream",
     "text": [
      "error\n"
     ]
    },
    {
     "name": "stderr",
     "output_type": "stream",
     "text": [
      "\n",
      "27.9kiB [00:00, ?iB/s]                     \u001b[A\n",
      " 43%|████▎     | 213/500 [14:37<01:46,  2.68it/s]"
     ]
    },
    {
     "name": "stdout",
     "output_type": "stream",
     "text": [
      "error\n"
     ]
    },
    {
     "name": "stderr",
     "output_type": "stream",
     "text": [
      "\n",
      "53.4kiB [00:00, 3.43MiB/s]                 \u001b[A\n",
      " 43%|████▎     | 214/500 [14:37<01:42,  2.79it/s]"
     ]
    },
    {
     "name": "stdout",
     "output_type": "stream",
     "text": [
      "error\n"
     ]
    },
    {
     "name": "stderr",
     "output_type": "stream",
     "text": [
      "\n",
      "35.5kiB [00:00, ?iB/s]                     \u001b[A\n",
      " 43%|████▎     | 215/500 [14:38<01:31,  3.10it/s]"
     ]
    },
    {
     "name": "stdout",
     "output_type": "stream",
     "text": [
      "error\n"
     ]
    },
    {
     "name": "stderr",
     "output_type": "stream",
     "text": [
      "\n",
      "41.6kiB [00:00, 2.61MiB/s]                 \u001b[A\n",
      " 43%|████▎     | 216/500 [14:38<01:26,  3.28it/s]"
     ]
    },
    {
     "name": "stdout",
     "output_type": "stream",
     "text": [
      "error\n"
     ]
    },
    {
     "name": "stderr",
     "output_type": "stream",
     "text": [
      "\n",
      "42.8kiB [00:00, 2.72MiB/s]                 \u001b[A\n",
      " 43%|████▎     | 217/500 [14:38<01:23,  3.38it/s]"
     ]
    },
    {
     "name": "stdout",
     "output_type": "stream",
     "text": [
      "error\n"
     ]
    },
    {
     "name": "stderr",
     "output_type": "stream",
     "text": [
      "\n",
      "46.5kiB [00:00, 2.97MiB/s]                 \u001b[A\n",
      " 44%|████▎     | 218/500 [14:38<01:20,  3.49it/s]"
     ]
    },
    {
     "name": "stdout",
     "output_type": "stream",
     "text": [
      "error\n"
     ]
    },
    {
     "name": "stderr",
     "output_type": "stream",
     "text": [
      "\n",
      "48.5kiB [00:00, 3.04MiB/s]                 \u001b[A\n",
      " 44%|████▍     | 219/500 [14:39<01:17,  3.64it/s]"
     ]
    },
    {
     "name": "stdout",
     "output_type": "stream",
     "text": [
      "error\n"
     ]
    },
    {
     "name": "stderr",
     "output_type": "stream",
     "text": [
      "\n",
      "45.1kiB [00:00, 2.88MiB/s]                 \u001b[A\n",
      " 44%|████▍     | 220/500 [14:39<01:16,  3.66it/s]"
     ]
    },
    {
     "name": "stdout",
     "output_type": "stream",
     "text": [
      "error\n"
     ]
    },
    {
     "name": "stderr",
     "output_type": "stream",
     "text": [
      "\n",
      "16.7kiB [00:00, ?iB/s]                     \u001b[A\n",
      " 44%|████▍     | 221/500 [14:39<01:17,  3.59it/s]"
     ]
    },
    {
     "name": "stdout",
     "output_type": "stream",
     "text": [
      "error\n"
     ]
    },
    {
     "name": "stderr",
     "output_type": "stream",
     "text": [
      "\n",
      "66.6kiB [00:00, 1.41MiB/s]                 \u001b[A\n",
      " 44%|████▍     | 222/500 [14:40<01:24,  3.28it/s]"
     ]
    },
    {
     "name": "stdout",
     "output_type": "stream",
     "text": [
      "error\n"
     ]
    },
    {
     "name": "stderr",
     "output_type": "stream",
     "text": [
      "\n",
      "66.4kiB [00:00, 4.26MiB/s]                 \u001b[A\n",
      " 45%|████▍     | 223/500 [14:40<01:32,  3.00it/s]"
     ]
    },
    {
     "name": "stdout",
     "output_type": "stream",
     "text": [
      "error\n"
     ]
    },
    {
     "name": "stderr",
     "output_type": "stream",
     "text": [
      "\n",
      "43.2kiB [00:00, 1.93MiB/s]                 \u001b[A\n",
      " 45%|████▍     | 224/500 [14:40<01:14,  3.73it/s]"
     ]
    },
    {
     "name": "stdout",
     "output_type": "stream",
     "text": [
      "error\n"
     ]
    },
    {
     "name": "stderr",
     "output_type": "stream",
     "text": [
      "\n",
      "40.2kiB [00:00, 2.47MiB/s]                 \u001b[A\n",
      " 45%|████▌     | 225/500 [14:41<01:21,  3.37it/s]"
     ]
    },
    {
     "name": "stdout",
     "output_type": "stream",
     "text": [
      "error\n"
     ]
    },
    {
     "name": "stderr",
     "output_type": "stream",
     "text": [
      "\n",
      "  0%|          | 0.00/1.00 [00:00<?, ?iB/s]\u001b[A\n",
      "68.2kiB [00:00, 680kiB/s]                  \u001b[A\n",
      " 45%|████▌     | 226/500 [14:41<01:20,  3.41it/s]"
     ]
    },
    {
     "name": "stdout",
     "output_type": "stream",
     "text": [
      "error\n"
     ]
    },
    {
     "name": "stderr",
     "output_type": "stream",
     "text": [
      "\n",
      "45.4kiB [00:00, 2.91MiB/s]                 \u001b[A\n"
     ]
    },
    {
     "name": "stdout",
     "output_type": "stream",
     "text": [
      "error\n"
     ]
    },
    {
     "name": "stderr",
     "output_type": "stream",
     "text": [
      " 45%|████▌     | 227/500 [14:41<01:12,  3.76it/s]\n",
      "18.2kiB [00:00, ?iB/s]                     \u001b[A\n",
      " 46%|████▌     | 228/500 [14:41<01:19,  3.42it/s]"
     ]
    },
    {
     "name": "stdout",
     "output_type": "stream",
     "text": [
      "error\n"
     ]
    },
    {
     "name": "stderr",
     "output_type": "stream",
     "text": [
      "\n",
      "27.9kiB [00:00, ?iB/s]                     \u001b[A\n",
      " 46%|████▌     | 229/500 [14:42<01:26,  3.12it/s]"
     ]
    },
    {
     "name": "stdout",
     "output_type": "stream",
     "text": [
      "error\n"
     ]
    },
    {
     "name": "stderr",
     "output_type": "stream",
     "text": [
      "\n",
      "45.9kiB [00:00, 1.47MiB/s]                 \u001b[A\n",
      " 46%|████▌     | 230/500 [14:42<01:36,  2.80it/s]"
     ]
    },
    {
     "name": "stdout",
     "output_type": "stream",
     "text": [
      "error\n"
     ]
    },
    {
     "name": "stderr",
     "output_type": "stream",
     "text": [
      "\n",
      "72.1kiB [00:00, 2.27MiB/s]                 \u001b[A\n",
      " 46%|████▌     | 231/500 [14:43<01:36,  2.78it/s]"
     ]
    },
    {
     "name": "stdout",
     "output_type": "stream",
     "text": [
      "error\n"
     ]
    },
    {
     "name": "stderr",
     "output_type": "stream",
     "text": [
      "\n",
      "80.7kiB [00:00, 1.72MiB/s]                 \u001b[A\n",
      " 46%|████▋     | 232/500 [14:43<01:35,  2.81it/s]"
     ]
    },
    {
     "name": "stdout",
     "output_type": "stream",
     "text": [
      "error\n"
     ]
    },
    {
     "name": "stderr",
     "output_type": "stream",
     "text": [
      "\n",
      "18.7kiB [00:00, ?iB/s]                     \u001b[A\n",
      " 47%|████▋     | 233/500 [14:43<01:40,  2.66it/s]"
     ]
    },
    {
     "name": "stdout",
     "output_type": "stream",
     "text": [
      "error\n"
     ]
    },
    {
     "name": "stderr",
     "output_type": "stream",
     "text": [
      "\n",
      "112kiB [00:00, 2.08MiB/s]                  \u001b[A\n",
      " 47%|████▋     | 234/500 [14:44<01:34,  2.82it/s]"
     ]
    },
    {
     "name": "stdout",
     "output_type": "stream",
     "text": [
      "error\n"
     ]
    },
    {
     "name": "stderr",
     "output_type": "stream",
     "text": [
      "\n",
      "28.0kiB [00:00, ?iB/s]                     \u001b[A\n",
      " 47%|████▋     | 235/500 [14:44<01:38,  2.68it/s]"
     ]
    },
    {
     "name": "stdout",
     "output_type": "stream",
     "text": [
      "error\n"
     ]
    },
    {
     "name": "stderr",
     "output_type": "stream",
     "text": [
      "\n",
      "70.6kiB [00:00, 1.47MiB/s]                 \u001b[A\n",
      " 47%|████▋     | 236/500 [14:44<01:32,  2.84it/s]"
     ]
    },
    {
     "name": "stdout",
     "output_type": "stream",
     "text": [
      "error\n"
     ]
    },
    {
     "name": "stderr",
     "output_type": "stream",
     "text": [
      "\n",
      "63.2kiB [00:00, 1.68MiB/s]                 \u001b[A\n",
      " 47%|████▋     | 237/500 [14:45<01:31,  2.88it/s]"
     ]
    },
    {
     "name": "stdout",
     "output_type": "stream",
     "text": [
      "error\n"
     ]
    },
    {
     "name": "stderr",
     "output_type": "stream",
     "text": [
      "\n",
      "41.3kiB [00:00, 1.87MiB/s]                 \u001b[A\n",
      " 48%|████▊     | 238/500 [14:45<01:28,  2.96it/s]"
     ]
    },
    {
     "name": "stdout",
     "output_type": "stream",
     "text": [
      "error\n"
     ]
    },
    {
     "name": "stderr",
     "output_type": "stream",
     "text": [
      "\n",
      "  0%|          | 0.00/1.00 [00:00<?, ?iB/s]\u001b[A\n",
      "112kiB [00:00, 781kiB/s]                   \u001b[A\n",
      " 48%|████▊     | 239/500 [14:46<01:53,  2.29it/s]"
     ]
    },
    {
     "name": "stdout",
     "output_type": "stream",
     "text": [
      "error\n"
     ]
    },
    {
     "name": "stderr",
     "output_type": "stream",
     "text": [
      "\n",
      "51.8kiB [00:00, 3.32MiB/s]                 \u001b[A\n",
      " 48%|████▊     | 240/500 [14:46<01:52,  2.30it/s]"
     ]
    },
    {
     "name": "stdout",
     "output_type": "stream",
     "text": [
      "error\n"
     ]
    },
    {
     "name": "stderr",
     "output_type": "stream",
     "text": [
      "\n",
      "67.2kiB [00:00, 1.43MiB/s]                 \u001b[A\n",
      " 48%|████▊     | 241/500 [14:47<01:49,  2.36it/s]"
     ]
    },
    {
     "name": "stdout",
     "output_type": "stream",
     "text": [
      "error\n"
     ]
    },
    {
     "name": "stderr",
     "output_type": "stream",
     "text": [
      "\n",
      "85.0kiB [00:00, 1.80MiB/s]                 \u001b[A\n",
      " 48%|████▊     | 242/500 [14:47<01:41,  2.54it/s]"
     ]
    },
    {
     "name": "stdout",
     "output_type": "stream",
     "text": [
      "error\n"
     ]
    },
    {
     "name": "stderr",
     "output_type": "stream",
     "text": [
      "\n",
      "55.8kiB [00:00, 1.75MiB/s]                 \u001b[A\n",
      " 49%|████▊     | 243/500 [14:47<01:19,  3.23it/s]"
     ]
    },
    {
     "name": "stdout",
     "output_type": "stream",
     "text": [
      "error\n"
     ]
    },
    {
     "name": "stderr",
     "output_type": "stream",
     "text": [
      "\n",
      "86.8kiB [00:00, 1.63MiB/s]                 \u001b[A\n",
      " 49%|████▉     | 244/500 [14:47<01:26,  2.96it/s]"
     ]
    },
    {
     "name": "stdout",
     "output_type": "stream",
     "text": [
      "error\n"
     ]
    },
    {
     "name": "stderr",
     "output_type": "stream",
     "text": [
      "\n",
      "60.5kiB [00:00, 3.83MiB/s]                 \u001b[A\n",
      " 49%|████▉     | 245/500 [14:48<01:22,  3.11it/s]"
     ]
    },
    {
     "name": "stdout",
     "output_type": "stream",
     "text": [
      "error\n"
     ]
    },
    {
     "name": "stderr",
     "output_type": "stream",
     "text": [
      "\n",
      "62.4kiB [00:00, 3.88MiB/s]                 \u001b[A\n",
      " 49%|████▉     | 246/500 [14:48<01:24,  2.99it/s]"
     ]
    },
    {
     "name": "stdout",
     "output_type": "stream",
     "text": [
      "error\n"
     ]
    },
    {
     "name": "stderr",
     "output_type": "stream",
     "text": [
      "\n",
      "47.6kiB [00:00, 1.52MiB/s]                 \u001b[A\n",
      " 49%|████▉     | 247/500 [14:48<01:34,  2.69it/s]"
     ]
    },
    {
     "name": "stdout",
     "output_type": "stream",
     "text": [
      "error\n"
     ]
    },
    {
     "name": "stderr",
     "output_type": "stream",
     "text": [
      "\n",
      "63.2kiB [00:00, 2.01MiB/s]                 \u001b[A\n",
      " 50%|████▉     | 248/500 [14:49<01:26,  2.90it/s]"
     ]
    },
    {
     "name": "stdout",
     "output_type": "stream",
     "text": [
      "error\n"
     ]
    },
    {
     "name": "stderr",
     "output_type": "stream",
     "text": [
      "\n",
      "50.5kiB [00:00, 1.81MiB/s]                 \u001b[A\n",
      " 50%|████▉     | 249/500 [14:49<01:25,  2.93it/s]"
     ]
    },
    {
     "name": "stdout",
     "output_type": "stream",
     "text": [
      "error\n"
     ]
    },
    {
     "name": "stderr",
     "output_type": "stream",
     "text": [
      "\n",
      "59.0kiB [00:00, 1.92MiB/s]                 \u001b[A\n",
      " 50%|█████     | 250/500 [14:49<01:31,  2.74it/s]"
     ]
    },
    {
     "name": "stdout",
     "output_type": "stream",
     "text": [
      "error\n"
     ]
    },
    {
     "name": "stderr",
     "output_type": "stream",
     "text": [
      "\n",
      "114kiB [00:00, 1.66MiB/s]                  \u001b[A\n",
      " 50%|█████     | 251/500 [14:50<01:32,  2.69it/s]"
     ]
    },
    {
     "name": "stdout",
     "output_type": "stream",
     "text": [
      "error\n"
     ]
    },
    {
     "name": "stderr",
     "output_type": "stream",
     "text": [
      "\n",
      "50.8kiB [00:00, 1.61MiB/s]                 \u001b[A\n"
     ]
    },
    {
     "name": "stdout",
     "output_type": "stream",
     "text": [
      "error\n"
     ]
    },
    {
     "name": "stderr",
     "output_type": "stream",
     "text": [
      " 50%|█████     | 252/500 [14:50<01:23,  2.97it/s]\n",
      "120kiB [00:00, 1.49MiB/s]                  \u001b[A\n",
      " 51%|█████     | 253/500 [14:50<01:13,  3.36it/s]"
     ]
    },
    {
     "name": "stdout",
     "output_type": "stream",
     "text": [
      "error\n"
     ]
    },
    {
     "name": "stderr",
     "output_type": "stream",
     "text": [
      "\n",
      "105kiB [00:00, 1.98MiB/s]                  \u001b[A\n",
      " 51%|█████     | 254/500 [14:51<01:06,  3.72it/s]"
     ]
    },
    {
     "name": "stdout",
     "output_type": "stream",
     "text": [
      "error\n"
     ]
    },
    {
     "name": "stderr",
     "output_type": "stream",
     "text": [
      "\n",
      "  0%|          | 0.00/1.00 [00:00<?, ?iB/s]\u001b[A\n",
      "184kiB [00:00, 1.58MiB/s]                  \u001b[A\n",
      " 51%|█████     | 255/500 [14:51<01:17,  3.17it/s]"
     ]
    },
    {
     "name": "stdout",
     "output_type": "stream",
     "text": [
      "error\n"
     ]
    },
    {
     "name": "stderr",
     "output_type": "stream",
     "text": [
      "\n",
      "46.8kiB [00:00, 3.00MiB/s]                 \u001b[A\n",
      " 51%|█████     | 256/500 [14:52<01:37,  2.49it/s]"
     ]
    },
    {
     "name": "stdout",
     "output_type": "stream",
     "text": [
      "error\n"
     ]
    },
    {
     "name": "stderr",
     "output_type": "stream",
     "text": [
      "\n",
      "107kiB [00:00, 1.54MiB/s]                  \u001b[A\n",
      " 51%|█████▏    | 257/500 [14:52<01:34,  2.56it/s]"
     ]
    },
    {
     "name": "stdout",
     "output_type": "stream",
     "text": [
      "error\n"
     ]
    },
    {
     "name": "stderr",
     "output_type": "stream",
     "text": [
      "\n",
      "57.3kiB [00:00, 1.51MiB/s]                 \u001b[A\n",
      " 52%|█████▏    | 258/500 [14:52<01:24,  2.86it/s]"
     ]
    },
    {
     "name": "stdout",
     "output_type": "stream",
     "text": [
      "error\n"
     ]
    },
    {
     "name": "stderr",
     "output_type": "stream",
     "text": [
      "\n",
      "49.0kiB [00:00, 3.15MiB/s]                 \u001b[A\n",
      " 52%|█████▏    | 259/500 [14:53<01:22,  2.91it/s]"
     ]
    },
    {
     "name": "stdout",
     "output_type": "stream",
     "text": [
      "error\n"
     ]
    },
    {
     "name": "stderr",
     "output_type": "stream",
     "text": [
      "\n",
      "82.5kiB [00:00, 1.32MiB/s]                 \u001b[A\n",
      " 52%|█████▏    | 260/500 [14:53<01:22,  2.90it/s]"
     ]
    },
    {
     "name": "stdout",
     "output_type": "stream",
     "text": [
      "error\n"
     ]
    },
    {
     "name": "stderr",
     "output_type": "stream",
     "text": [
      "\n",
      "53.3kiB [00:00, 2.46MiB/s]                 \u001b[A\n",
      " 52%|█████▏    | 261/500 [14:53<01:28,  2.71it/s]"
     ]
    },
    {
     "name": "stdout",
     "output_type": "stream",
     "text": [
      "error\n"
     ]
    },
    {
     "name": "stderr",
     "output_type": "stream",
     "text": [
      "\n",
      "48.7kiB [00:00, 2.16MiB/s]                 \u001b[A\n",
      " 52%|█████▏    | 262/500 [14:54<01:24,  2.83it/s]"
     ]
    },
    {
     "name": "stdout",
     "output_type": "stream",
     "text": [
      "error\n"
     ]
    },
    {
     "name": "stderr",
     "output_type": "stream",
     "text": [
      "\n",
      "100kiB [00:00, 1.18MiB/s]                  \u001b[A\n",
      " 53%|█████▎    | 263/500 [14:54<01:21,  2.92it/s]"
     ]
    },
    {
     "name": "stdout",
     "output_type": "stream",
     "text": [
      "error\n"
     ]
    },
    {
     "name": "stderr",
     "output_type": "stream",
     "text": [
      "\n",
      "102kiB [00:00, 1.20MiB/s]                  \u001b[A\n",
      " 53%|█████▎    | 264/500 [14:54<01:20,  2.95it/s]"
     ]
    },
    {
     "name": "stdout",
     "output_type": "stream",
     "text": [
      "error\n"
     ]
    },
    {
     "name": "stderr",
     "output_type": "stream",
     "text": [
      "\n",
      "17.2kiB [00:00, ?iB/s]                     \u001b[A\n",
      " 53%|█████▎    | 265/500 [14:54<01:12,  3.24it/s]"
     ]
    },
    {
     "name": "stdout",
     "output_type": "stream",
     "text": [
      "error\n"
     ]
    },
    {
     "name": "stderr",
     "output_type": "stream",
     "text": [
      "\n",
      "36.5kiB [00:00, ?iB/s]                     \u001b[A\n",
      " 53%|█████▎    | 266/500 [14:55<01:17,  3.01it/s]"
     ]
    },
    {
     "name": "stdout",
     "output_type": "stream",
     "text": [
      "error\n"
     ]
    },
    {
     "name": "stderr",
     "output_type": "stream",
     "text": [
      "\n",
      "51.7kiB [00:00, 2.49MiB/s]                 \u001b[A\n",
      " 53%|█████▎    | 267/500 [14:55<01:23,  2.80it/s]"
     ]
    },
    {
     "name": "stdout",
     "output_type": "stream",
     "text": [
      "error\n"
     ]
    },
    {
     "name": "stderr",
     "output_type": "stream",
     "text": [
      "\n",
      "59.1kiB [00:00, 1.89MiB/s]                 \u001b[A\n",
      " 54%|█████▎    | 268/500 [14:56<01:17,  2.98it/s]"
     ]
    },
    {
     "name": "stdout",
     "output_type": "stream",
     "text": [
      "error\n"
     ]
    },
    {
     "name": "stderr",
     "output_type": "stream",
     "text": [
      "\n",
      "57.2kiB [00:00, 1.81MiB/s]                 \u001b[A\n",
      " 54%|█████▍    | 269/500 [14:56<01:19,  2.90it/s]"
     ]
    },
    {
     "name": "stdout",
     "output_type": "stream",
     "text": [
      "error\n"
     ]
    },
    {
     "name": "stderr",
     "output_type": "stream",
     "text": [
      "\n",
      "94.3kiB [00:00, 1.35MiB/s]                 \u001b[A\n",
      " 54%|█████▍    | 270/500 [14:56<01:21,  2.84it/s]"
     ]
    },
    {
     "name": "stdout",
     "output_type": "stream",
     "text": [
      "error\n"
     ]
    },
    {
     "name": "stderr",
     "output_type": "stream",
     "text": [
      "\n",
      "60.9kiB [00:00, 1.88MiB/s]                 \u001b[A\n",
      " 54%|█████▍    | 271/500 [14:57<01:19,  2.88it/s]"
     ]
    },
    {
     "name": "stdout",
     "output_type": "stream",
     "text": [
      "error\n"
     ]
    },
    {
     "name": "stderr",
     "output_type": "stream",
     "text": [
      "\n",
      "32.8kiB [00:00, ?iB/s]                     \u001b[A\n",
      " 54%|█████▍    | 272/500 [14:57<01:10,  3.25it/s]"
     ]
    },
    {
     "name": "stdout",
     "output_type": "stream",
     "text": [
      "error\n"
     ]
    },
    {
     "name": "stderr",
     "output_type": "stream",
     "text": [
      "\n",
      "82.0kiB [00:00, 1.74MiB/s]                 \u001b[A\n",
      " 55%|█████▍    | 273/500 [14:57<01:08,  3.33it/s]"
     ]
    },
    {
     "name": "stdout",
     "output_type": "stream",
     "text": [
      "error\n"
     ]
    },
    {
     "name": "stderr",
     "output_type": "stream",
     "text": [
      "\n",
      "31.7kiB [00:00, 2.04MiB/s]                 \u001b[A\n",
      " 55%|█████▍    | 274/500 [14:58<01:21,  2.77it/s]"
     ]
    },
    {
     "name": "stdout",
     "output_type": "stream",
     "text": [
      "error\n"
     ]
    },
    {
     "name": "stderr",
     "output_type": "stream",
     "text": [
      "\n",
      "26.3kiB [00:00, ?iB/s]                     \u001b[A\n",
      " 55%|█████▌    | 275/500 [14:58<01:20,  2.78it/s]"
     ]
    },
    {
     "name": "stdout",
     "output_type": "stream",
     "text": [
      "error\n"
     ]
    },
    {
     "name": "stderr",
     "output_type": "stream",
     "text": [
      "\n",
      "34.3kiB [00:00, ?iB/s]                     \u001b[A\n",
      " 55%|█████▌    | 276/500 [14:58<01:19,  2.81it/s]"
     ]
    },
    {
     "name": "stdout",
     "output_type": "stream",
     "text": [
      "error\n"
     ]
    },
    {
     "name": "stderr",
     "output_type": "stream",
     "text": [
      "\n",
      "26.4kiB [00:00, ?iB/s]                     \u001b[A\n",
      " 55%|█████▌    | 277/500 [14:59<01:14,  2.99it/s]"
     ]
    },
    {
     "name": "stdout",
     "output_type": "stream",
     "text": [
      "error\n"
     ]
    },
    {
     "name": "stderr",
     "output_type": "stream",
     "text": [
      "\n",
      "52.9kiB [00:00, 3.31MiB/s]                 \u001b[A\n",
      " 56%|█████▌    | 278/500 [14:59<01:10,  3.15it/s]"
     ]
    },
    {
     "name": "stdout",
     "output_type": "stream",
     "text": [
      "error\n"
     ]
    },
    {
     "name": "stderr",
     "output_type": "stream",
     "text": [
      "\n",
      "49.5kiB [00:00, 3.17MiB/s]                 \u001b[A\n",
      " 56%|█████▌    | 279/500 [14:59<01:10,  3.13it/s]"
     ]
    },
    {
     "name": "stdout",
     "output_type": "stream",
     "text": [
      "error\n"
     ]
    },
    {
     "name": "stderr",
     "output_type": "stream",
     "text": [
      "\n",
      "115kiB [00:00, 1.83MiB/s]                  \u001b[A\n",
      " 56%|█████▌    | 280/500 [15:00<01:15,  2.92it/s]"
     ]
    },
    {
     "name": "stdout",
     "output_type": "stream",
     "text": [
      "error\n"
     ]
    },
    {
     "name": "stderr",
     "output_type": "stream",
     "text": [
      "\n",
      "110kiB [00:00, 2.05MiB/s]                  \u001b[A\n",
      " 56%|█████▌    | 281/500 [15:00<01:26,  2.52it/s]"
     ]
    },
    {
     "name": "stdout",
     "output_type": "stream",
     "text": [
      "error\n"
     ]
    },
    {
     "name": "stderr",
     "output_type": "stream",
     "text": [
      "\n",
      "40.9kiB [00:00, 1.88MiB/s]                 \u001b[A\n",
      " 56%|█████▋    | 282/500 [15:01<01:28,  2.45it/s]"
     ]
    },
    {
     "name": "stdout",
     "output_type": "stream",
     "text": [
      "error\n"
     ]
    },
    {
     "name": "stderr",
     "output_type": "stream",
     "text": [
      "\n",
      "87.4kiB [00:00, 1.63MiB/s]                 \u001b[A\n",
      " 57%|█████▋    | 283/500 [15:01<01:23,  2.61it/s]"
     ]
    },
    {
     "name": "stdout",
     "output_type": "stream",
     "text": [
      "error\n"
     ]
    },
    {
     "name": "stderr",
     "output_type": "stream",
     "text": [
      "\n",
      "56.0kiB [00:00, 1.81MiB/s]                 \u001b[A\n",
      " 57%|█████▋    | 284/500 [15:01<01:28,  2.44it/s]"
     ]
    },
    {
     "name": "stdout",
     "output_type": "stream",
     "text": [
      "error\n"
     ]
    },
    {
     "name": "stderr",
     "output_type": "stream",
     "text": [
      "\n",
      "49.2kiB [00:00, 7.55MiB/s]                 \u001b[A\n",
      " 57%|█████▋    | 285/500 [15:02<01:18,  2.73it/s]"
     ]
    },
    {
     "name": "stdout",
     "output_type": "stream",
     "text": [
      "error\n"
     ]
    },
    {
     "name": "stderr",
     "output_type": "stream",
     "text": [
      "\n",
      "101kiB [00:00, 1.59MiB/s]                  \u001b[A\n",
      " 57%|█████▋    | 286/500 [15:02<01:25,  2.50it/s]"
     ]
    },
    {
     "name": "stdout",
     "output_type": "stream",
     "text": [
      "error\n"
     ]
    },
    {
     "name": "stderr",
     "output_type": "stream",
     "text": [
      "\n",
      "20.7kiB [00:00, ?iB/s]                     \u001b[A\n",
      " 57%|█████▋    | 287/500 [15:03<01:23,  2.54it/s]"
     ]
    },
    {
     "name": "stdout",
     "output_type": "stream",
     "text": [
      "error\n"
     ]
    },
    {
     "name": "stderr",
     "output_type": "stream",
     "text": [
      "\n",
      "45.0kiB [00:00, ?iB/s]                     \u001b[A\n",
      " 58%|█████▊    | 288/500 [15:03<01:20,  2.63it/s]"
     ]
    },
    {
     "name": "stdout",
     "output_type": "stream",
     "text": [
      "error\n"
     ]
    },
    {
     "name": "stderr",
     "output_type": "stream",
     "text": [
      "\n",
      "117kiB [00:00, 1.39MiB/s]                  \u001b[A\n",
      " 58%|█████▊    | 289/500 [15:03<01:30,  2.32it/s]"
     ]
    },
    {
     "name": "stdout",
     "output_type": "stream",
     "text": [
      "error\n"
     ]
    },
    {
     "name": "stderr",
     "output_type": "stream",
     "text": [
      "\n",
      "20.0kiB [00:00, 1.28MiB/s]                 \u001b[A\n",
      " 58%|█████▊    | 290/500 [15:04<01:19,  2.64it/s]"
     ]
    },
    {
     "name": "stdout",
     "output_type": "stream",
     "text": [
      "error\n"
     ]
    },
    {
     "name": "stderr",
     "output_type": "stream",
     "text": [
      "\n",
      "61.8kiB [00:00, 1.95MiB/s]                 \u001b[A\n",
      " 58%|█████▊    | 291/500 [15:04<01:20,  2.59it/s]"
     ]
    },
    {
     "name": "stdout",
     "output_type": "stream",
     "text": [
      "error\n"
     ]
    },
    {
     "name": "stderr",
     "output_type": "stream",
     "text": [
      "\n",
      "61.4kiB [00:00, 3.93MiB/s]                 \u001b[A\n",
      " 58%|█████▊    | 292/500 [15:05<01:30,  2.30it/s]"
     ]
    },
    {
     "name": "stdout",
     "output_type": "stream",
     "text": [
      "error\n"
     ]
    },
    {
     "name": "stderr",
     "output_type": "stream",
     "text": [
      "\n",
      "46.5kiB [00:00, 2.97MiB/s]                 \u001b[A\n",
      " 59%|█████▊    | 293/500 [15:05<01:34,  2.18it/s]"
     ]
    },
    {
     "name": "stdout",
     "output_type": "stream",
     "text": [
      "error\n"
     ]
    },
    {
     "name": "stderr",
     "output_type": "stream",
     "text": [
      "\n",
      "37.0kiB [00:00, ?iB/s]                     \u001b[A\n",
      " 59%|█████▉    | 294/500 [15:06<01:39,  2.06it/s]"
     ]
    },
    {
     "name": "stdout",
     "output_type": "stream",
     "text": [
      "error\n"
     ]
    },
    {
     "name": "stderr",
     "output_type": "stream",
     "text": [
      "\n",
      "32.1kiB [00:00, 2.05MiB/s]                 \u001b[A\n",
      " 59%|█████▉    | 295/500 [15:06<01:25,  2.39it/s]"
     ]
    },
    {
     "name": "stdout",
     "output_type": "stream",
     "text": [
      "error\n"
     ]
    },
    {
     "name": "stderr",
     "output_type": "stream",
     "text": [
      "\n",
      "57.1kiB [00:00, 1.81MiB/s]                 \u001b[A\n",
      " 59%|█████▉    | 296/500 [15:06<01:29,  2.28it/s]"
     ]
    },
    {
     "name": "stdout",
     "output_type": "stream",
     "text": [
      "error\n"
     ]
    },
    {
     "name": "stderr",
     "output_type": "stream",
     "text": [
      "\n",
      "34.7kiB [00:00, 2.22MiB/s]                 \u001b[A\n",
      " 59%|█████▉    | 297/500 [15:07<01:25,  2.39it/s]"
     ]
    },
    {
     "name": "stdout",
     "output_type": "stream",
     "text": [
      "error\n"
     ]
    },
    {
     "name": "stderr",
     "output_type": "stream",
     "text": [
      "\n",
      "53.2kiB [00:00, ?iB/s]                     \u001b[A\n",
      " 60%|█████▉    | 298/500 [15:07<01:22,  2.44it/s]"
     ]
    },
    {
     "name": "stdout",
     "output_type": "stream",
     "text": [
      "error\n"
     ]
    },
    {
     "name": "stderr",
     "output_type": "stream",
     "text": [
      "\n",
      "82.3kiB [00:00, 1.53MiB/s]                 \u001b[A\n",
      " 60%|█████▉    | 299/500 [15:08<01:28,  2.26it/s]"
     ]
    },
    {
     "name": "stdout",
     "output_type": "stream",
     "text": [
      "error\n"
     ]
    },
    {
     "name": "stderr",
     "output_type": "stream",
     "text": [
      "\n",
      "59.3kiB [00:00, 1.90MiB/s]                 \u001b[A\n",
      " 60%|██████    | 300/500 [15:08<01:20,  2.48it/s]"
     ]
    },
    {
     "name": "stdout",
     "output_type": "stream",
     "text": [
      "error\n"
     ]
    },
    {
     "name": "stderr",
     "output_type": "stream",
     "text": [
      "\n",
      "66.1kiB [00:00, 1.93MiB/s]                 \u001b[A\n",
      " 60%|██████    | 301/500 [15:08<01:14,  2.69it/s]"
     ]
    },
    {
     "name": "stdout",
     "output_type": "stream",
     "text": [
      "error\n"
     ]
    },
    {
     "name": "stderr",
     "output_type": "stream",
     "text": [
      "\n",
      "91.2kiB [00:00, 1.75MiB/s]                 \u001b[A\n",
      " 60%|██████    | 302/500 [15:09<01:25,  2.33it/s]"
     ]
    },
    {
     "name": "stdout",
     "output_type": "stream",
     "text": [
      "error\n"
     ]
    },
    {
     "name": "stderr",
     "output_type": "stream",
     "text": [
      "\n",
      "50.7kiB [00:00, 1.68MiB/s]                 \u001b[A\n",
      " 61%|██████    | 303/500 [15:09<01:07,  2.90it/s]"
     ]
    },
    {
     "name": "stdout",
     "output_type": "stream",
     "text": [
      "error\n"
     ]
    },
    {
     "name": "stderr",
     "output_type": "stream",
     "text": [
      "\n",
      "46.8kiB [00:00, 3.00MiB/s]                 \u001b[A\n",
      " 61%|██████    | 304/500 [15:09<01:04,  3.05it/s]"
     ]
    },
    {
     "name": "stdout",
     "output_type": "stream",
     "text": [
      "error\n"
     ]
    },
    {
     "name": "stderr",
     "output_type": "stream",
     "text": [
      "\n",
      "34.5kiB [00:00, ?iB/s]                     \u001b[A\n",
      " 61%|██████    | 305/500 [15:10<01:09,  2.80it/s]"
     ]
    },
    {
     "name": "stdout",
     "output_type": "stream",
     "text": [
      "error\n"
     ]
    },
    {
     "name": "stderr",
     "output_type": "stream",
     "text": [
      "\n",
      "98.3kiB [00:00, 3.01MiB/s]                 \u001b[A\n",
      " 61%|██████    | 306/500 [15:10<01:10,  2.74it/s]"
     ]
    },
    {
     "name": "stdout",
     "output_type": "stream",
     "text": [
      "error\n"
     ]
    },
    {
     "name": "stderr",
     "output_type": "stream",
     "text": [
      "\n",
      "38.3kiB [00:00, 2.45MiB/s]                 \u001b[A\n",
      " 61%|██████▏   | 307/500 [15:10<01:10,  2.75it/s]"
     ]
    },
    {
     "name": "stdout",
     "output_type": "stream",
     "text": [
      "error\n"
     ]
    },
    {
     "name": "stderr",
     "output_type": "stream",
     "text": [
      "\n",
      "35.6kiB [00:00, ?iB/s]                     \u001b[A\n",
      " 62%|██████▏   | 308/500 [15:11<01:10,  2.72it/s]"
     ]
    },
    {
     "name": "stdout",
     "output_type": "stream",
     "text": [
      "error\n"
     ]
    },
    {
     "name": "stderr",
     "output_type": "stream",
     "text": [
      "\n",
      "70.3kiB [00:00, 1.69MiB/s]                 \u001b[A\n",
      " 62%|██████▏   | 309/500 [15:11<01:10,  2.71it/s]"
     ]
    },
    {
     "name": "stdout",
     "output_type": "stream",
     "text": [
      "error\n"
     ]
    },
    {
     "name": "stderr",
     "output_type": "stream",
     "text": [
      "\n",
      "50.8kiB [00:00, 1.62MiB/s]                 \u001b[A\n",
      " 62%|██████▏   | 310/500 [15:12<01:11,  2.67it/s]"
     ]
    },
    {
     "name": "stdout",
     "output_type": "stream",
     "text": [
      "error\n"
     ]
    },
    {
     "name": "stderr",
     "output_type": "stream",
     "text": [
      "\n",
      "43.9kiB [00:00, 1.99MiB/s]                 \u001b[A\n",
      " 62%|██████▏   | 311/500 [15:12<01:09,  2.72it/s]"
     ]
    },
    {
     "name": "stdout",
     "output_type": "stream",
     "text": [
      "error\n"
     ]
    },
    {
     "name": "stderr",
     "output_type": "stream",
     "text": [
      "\n",
      "37.4kiB [00:00, ?iB/s]                     \u001b[A\n",
      " 62%|██████▏   | 312/500 [15:12<01:06,  2.83it/s]"
     ]
    },
    {
     "name": "stdout",
     "output_type": "stream",
     "text": [
      "error\n"
     ]
    },
    {
     "name": "stderr",
     "output_type": "stream",
     "text": [
      "\n",
      "66.6kiB [00:00, 1.76MiB/s]                 \u001b[A\n",
      " 63%|██████▎   | 313/500 [15:13<01:13,  2.55it/s]"
     ]
    },
    {
     "name": "stdout",
     "output_type": "stream",
     "text": [
      "error\n"
     ]
    },
    {
     "name": "stderr",
     "output_type": "stream",
     "text": [
      "\n",
      "72.9kiB [00:00, 1.91MiB/s]                 \u001b[A\n",
      " 63%|██████▎   | 314/500 [15:13<01:13,  2.53it/s]"
     ]
    },
    {
     "name": "stdout",
     "output_type": "stream",
     "text": [
      "error\n"
     ]
    },
    {
     "name": "stderr",
     "output_type": "stream",
     "text": [
      "\n",
      "40.0kiB [00:00, 1.29MiB/s]                 \u001b[A\n",
      " 63%|██████▎   | 315/500 [15:14<01:10,  2.63it/s]"
     ]
    },
    {
     "name": "stdout",
     "output_type": "stream",
     "text": [
      "error\n"
     ]
    },
    {
     "name": "stderr",
     "output_type": "stream",
     "text": [
      "\n",
      "28.6kiB [00:00, ?iB/s]                     \u001b[A\n",
      " 63%|██████▎   | 316/500 [15:14<01:08,  2.70it/s]"
     ]
    },
    {
     "name": "stdout",
     "output_type": "stream",
     "text": [
      "error\n"
     ]
    },
    {
     "name": "stderr",
     "output_type": "stream",
     "text": [
      "\n",
      "21.9kiB [00:00, ?iB/s]                     \u001b[A\n",
      " 63%|██████▎   | 317/500 [15:14<01:01,  2.96it/s]"
     ]
    },
    {
     "name": "stdout",
     "output_type": "stream",
     "text": [
      "error\n"
     ]
    },
    {
     "name": "stderr",
     "output_type": "stream",
     "text": [
      "\n",
      "65.3kiB [00:00, 1.39MiB/s]                 \u001b[A\n",
      " 64%|██████▎   | 318/500 [15:14<01:00,  2.99it/s]"
     ]
    },
    {
     "name": "stdout",
     "output_type": "stream",
     "text": [
      "error\n"
     ]
    },
    {
     "name": "stderr",
     "output_type": "stream",
     "text": [
      "\n",
      "64.1kiB [00:00, 2.14MiB/s]                 \u001b[A\n",
      " 64%|██████▍   | 319/500 [15:15<01:01,  2.94it/s]"
     ]
    },
    {
     "name": "stdout",
     "output_type": "stream",
     "text": [
      "error\n"
     ]
    },
    {
     "name": "stderr",
     "output_type": "stream",
     "text": [
      "\n",
      "95.5kiB [00:00, 1.65MiB/s]                 \u001b[A\n",
      " 64%|██████▍   | 320/500 [15:15<00:57,  3.13it/s]"
     ]
    },
    {
     "name": "stdout",
     "output_type": "stream",
     "text": [
      "error\n"
     ]
    },
    {
     "name": "stderr",
     "output_type": "stream",
     "text": [
      "\n",
      "56.2kiB [00:00, 4.40MiB/s]                 \u001b[A\n",
      " 64%|██████▍   | 321/500 [15:16<01:17,  2.31it/s]"
     ]
    },
    {
     "name": "stdout",
     "output_type": "stream",
     "text": [
      "error\n"
     ]
    },
    {
     "name": "stderr",
     "output_type": "stream",
     "text": [
      "\n",
      "23.0kiB [00:00, ?iB/s]                     \u001b[A\n",
      " 64%|██████▍   | 322/500 [15:16<01:25,  2.08it/s]"
     ]
    },
    {
     "name": "stdout",
     "output_type": "stream",
     "text": [
      "error\n"
     ]
    },
    {
     "name": "stderr",
     "output_type": "stream",
     "text": [
      "\n",
      "13.2kiB [00:00, ?iB/s]                     \u001b[A\n",
      " 65%|██████▍   | 323/500 [15:17<01:16,  2.33it/s]"
     ]
    },
    {
     "name": "stdout",
     "output_type": "stream",
     "text": [
      "error\n"
     ]
    },
    {
     "name": "stderr",
     "output_type": "stream",
     "text": [
      "\n",
      "13.2kiB [00:00, ?iB/s]                     \u001b[A\n",
      " 65%|██████▍   | 324/500 [15:17<01:03,  2.77it/s]"
     ]
    },
    {
     "name": "stdout",
     "output_type": "stream",
     "text": [
      "error\n"
     ]
    },
    {
     "name": "stderr",
     "output_type": "stream",
     "text": [
      "\n",
      "68.5kiB [00:00, 1.30MiB/s]                 \u001b[A\n",
      " 65%|██████▌   | 325/500 [15:17<01:07,  2.59it/s]"
     ]
    },
    {
     "name": "stdout",
     "output_type": "stream",
     "text": [
      "error\n"
     ]
    },
    {
     "name": "stderr",
     "output_type": "stream",
     "text": [
      "\n",
      "50.4kiB [00:00, 1.66MiB/s]                 \u001b[A\n",
      " 65%|██████▌   | 326/500 [15:18<01:20,  2.17it/s]"
     ]
    },
    {
     "name": "stdout",
     "output_type": "stream",
     "text": [
      "error\n"
     ]
    },
    {
     "name": "stderr",
     "output_type": "stream",
     "text": [
      "\n",
      "54.3kiB [00:00, 1.80MiB/s]                 \u001b[A\n",
      " 65%|██████▌   | 327/500 [15:18<01:14,  2.34it/s]"
     ]
    },
    {
     "name": "stdout",
     "output_type": "stream",
     "text": [
      "error\n"
     ]
    },
    {
     "name": "stderr",
     "output_type": "stream",
     "text": [
      "\n",
      "55.6kiB [00:00, 1.85MiB/s]                 \u001b[A\n",
      " 66%|██████▌   | 328/500 [15:19<01:16,  2.25it/s]"
     ]
    },
    {
     "name": "stdout",
     "output_type": "stream",
     "text": [
      "error\n"
     ]
    },
    {
     "name": "stderr",
     "output_type": "stream",
     "text": [
      "\n",
      "  0%|          | 0.00/1.00 [00:00<?, ?iB/s]\u001b[A\n",
      "190kiB [00:00, 1.71MiB/s]                  \u001b[A\n",
      " 66%|██████▌   | 329/500 [15:20<01:29,  1.92it/s]"
     ]
    },
    {
     "name": "stdout",
     "output_type": "stream",
     "text": [
      "error\n"
     ]
    },
    {
     "name": "stderr",
     "output_type": "stream",
     "text": [
      "\n",
      "24.2kiB [00:00, 2.41MiB/s]                 \u001b[A\n",
      " 66%|██████▌   | 330/500 [15:20<01:16,  2.23it/s]"
     ]
    },
    {
     "name": "stdout",
     "output_type": "stream",
     "text": [
      "error\n"
     ]
    },
    {
     "name": "stderr",
     "output_type": "stream",
     "text": [
      "\n",
      "62.4kiB [00:00, 1.93MiB/s]                 \u001b[A\n",
      " 66%|██████▌   | 331/500 [15:20<01:24,  1.99it/s]"
     ]
    },
    {
     "name": "stdout",
     "output_type": "stream",
     "text": [
      "error\n"
     ]
    },
    {
     "name": "stderr",
     "output_type": "stream",
     "text": [
      "\n",
      "30.3kiB [00:00, ?iB/s]                     \u001b[A\n",
      " 66%|██████▋   | 332/500 [15:21<01:39,  1.68it/s]"
     ]
    },
    {
     "name": "stdout",
     "output_type": "stream",
     "text": [
      "error\n"
     ]
    },
    {
     "name": "stderr",
     "output_type": "stream",
     "text": [
      "\n",
      "57.0kiB [00:00, 1.76MiB/s]                 \u001b[A\n",
      " 67%|██████▋   | 333/500 [15:22<01:27,  1.91it/s]"
     ]
    },
    {
     "name": "stdout",
     "output_type": "stream",
     "text": [
      "error\n"
     ]
    },
    {
     "name": "stderr",
     "output_type": "stream",
     "text": [
      "\n",
      "36.2kiB [00:00, 2.32MiB/s]                 \u001b[A\n",
      " 67%|██████▋   | 334/500 [15:22<01:24,  1.97it/s]"
     ]
    },
    {
     "name": "stdout",
     "output_type": "stream",
     "text": [
      "error\n"
     ]
    },
    {
     "name": "stderr",
     "output_type": "stream",
     "text": [
      "\n",
      "38.6kiB [00:00, 3.18MiB/s]                 \u001b[A\n",
      " 67%|██████▋   | 335/500 [15:22<01:13,  2.24it/s]"
     ]
    },
    {
     "name": "stdout",
     "output_type": "stream",
     "text": [
      "error\n"
     ]
    },
    {
     "name": "stderr",
     "output_type": "stream",
     "text": [
      "\n",
      "45.8kiB [00:00, 1.62MiB/s]                 \u001b[A\n",
      " 67%|██████▋   | 336/500 [15:23<01:18,  2.09it/s]"
     ]
    },
    {
     "name": "stdout",
     "output_type": "stream",
     "text": [
      "error\n"
     ]
    },
    {
     "name": "stderr",
     "output_type": "stream",
     "text": [
      "\n",
      "  0%|          | 0.00/1.00 [00:00<?, ?iB/s]\u001b[A\n",
      "318kiB [00:00, 1.57MiB/s]                  \u001b[A\n",
      " 67%|██████▋   | 337/500 [15:24<01:33,  1.75it/s]"
     ]
    },
    {
     "name": "stdout",
     "output_type": "stream",
     "text": [
      "error\n"
     ]
    },
    {
     "name": "stderr",
     "output_type": "stream",
     "text": [
      "\n",
      "76.9kiB [00:00, 2.45MiB/s]                 \u001b[A\n",
      " 68%|██████▊   | 338/500 [15:24<01:36,  1.69it/s]"
     ]
    },
    {
     "name": "stdout",
     "output_type": "stream",
     "text": [
      "error\n"
     ]
    },
    {
     "name": "stderr",
     "output_type": "stream",
     "text": [
      "\n",
      "35.3kiB [00:00, ?iB/s]                     \u001b[A\n",
      " 68%|██████▊   | 339/500 [15:25<01:37,  1.66it/s]"
     ]
    },
    {
     "name": "stdout",
     "output_type": "stream",
     "text": [
      "error\n"
     ]
    },
    {
     "name": "stderr",
     "output_type": "stream",
     "text": [
      "\n",
      "59.3kiB [00:00, 3.80MiB/s]                 \u001b[A\n",
      " 68%|██████▊   | 340/500 [15:26<01:45,  1.51it/s]"
     ]
    },
    {
     "name": "stdout",
     "output_type": "stream",
     "text": [
      "error\n"
     ]
    },
    {
     "name": "stderr",
     "output_type": "stream",
     "text": [
      "\n",
      "38.0kiB [00:00, ?iB/s]                     \u001b[A\n",
      " 68%|██████▊   | 341/500 [15:27<02:21,  1.12it/s]"
     ]
    },
    {
     "name": "stdout",
     "output_type": "stream",
     "text": [
      "error\n"
     ]
    },
    {
     "name": "stderr",
     "output_type": "stream",
     "text": [
      "\n",
      "39.5kiB [00:00, 6.59MiB/s]                 \u001b[A\n",
      " 68%|██████▊   | 342/500 [15:27<01:52,  1.41it/s]"
     ]
    },
    {
     "name": "stdout",
     "output_type": "stream",
     "text": [
      "error\n"
     ]
    },
    {
     "name": "stderr",
     "output_type": "stream",
     "text": [
      "\n",
      "64.0kiB [00:00, 4.05MiB/s]                 \u001b[A\n",
      " 69%|██████▊   | 343/500 [15:28<01:54,  1.38it/s]"
     ]
    },
    {
     "name": "stdout",
     "output_type": "stream",
     "text": [
      "error\n"
     ]
    },
    {
     "name": "stderr",
     "output_type": "stream",
     "text": [
      "\n",
      "97.3kiB [00:00, 2.08MiB/s]                 \u001b[A\n",
      " 69%|██████▉   | 344/500 [15:29<01:56,  1.34it/s]"
     ]
    },
    {
     "name": "stdout",
     "output_type": "stream",
     "text": [
      "error\n"
     ]
    },
    {
     "name": "stderr",
     "output_type": "stream",
     "text": [
      "\n",
      "37.8kiB [00:00, 7.58MiB/s]                 \u001b[A\n",
      " 69%|██████▉   | 345/500 [15:29<01:33,  1.66it/s]"
     ]
    },
    {
     "name": "stdout",
     "output_type": "stream",
     "text": [
      "error\n"
     ]
    },
    {
     "name": "stderr",
     "output_type": "stream",
     "text": [
      "\n",
      "32.4kiB [00:00, 9.36MiB/s]                 \u001b[A\n",
      " 69%|██████▉   | 346/500 [15:31<02:07,  1.20it/s]"
     ]
    },
    {
     "name": "stdout",
     "output_type": "stream",
     "text": [
      "error\n"
     ]
    },
    {
     "name": "stderr",
     "output_type": "stream",
     "text": [
      "\n",
      "45.9kiB [00:00, ?iB/s]                     \u001b[A\n",
      " 69%|██████▉   | 347/500 [15:32<02:45,  1.08s/it]"
     ]
    },
    {
     "name": "stdout",
     "output_type": "stream",
     "text": [
      "error\n"
     ]
    },
    {
     "name": "stderr",
     "output_type": "stream",
     "text": [
      "\n",
      "43.0kiB [00:00, 10.8MiB/s]                 \u001b[A\n",
      " 70%|██████▉   | 348/500 [15:33<02:16,  1.11it/s]"
     ]
    },
    {
     "name": "stdout",
     "output_type": "stream",
     "text": [
      "error\n"
     ]
    },
    {
     "name": "stderr",
     "output_type": "stream",
     "text": [
      "\n",
      "139kiB [00:00, 2.65MiB/s]                  \u001b[A\n",
      " 70%|██████▉   | 349/500 [15:34<02:24,  1.05it/s]"
     ]
    },
    {
     "name": "stdout",
     "output_type": "stream",
     "text": [
      "error\n"
     ]
    },
    {
     "name": "stderr",
     "output_type": "stream",
     "text": [
      "\n",
      "61.9kiB [00:00, 10.3MiB/s]                 \u001b[A\n",
      " 70%|███████   | 350/500 [15:35<02:31,  1.01s/it]"
     ]
    },
    {
     "name": "stdout",
     "output_type": "stream",
     "text": [
      "error\n"
     ]
    },
    {
     "name": "stderr",
     "output_type": "stream",
     "text": [
      "\n",
      "51.3kiB [00:00, 4.78MiB/s]                 \u001b[A\n",
      " 70%|███████   | 351/500 [15:37<02:54,  1.17s/it]"
     ]
    },
    {
     "name": "stdout",
     "output_type": "stream",
     "text": [
      "error\n"
     ]
    },
    {
     "name": "stderr",
     "output_type": "stream",
     "text": [
      "\n",
      "46.4kiB [00:00, 7.04MiB/s]                 \u001b[A\n",
      " 70%|███████   | 352/500 [15:37<02:18,  1.07it/s]"
     ]
    },
    {
     "name": "stdout",
     "output_type": "stream",
     "text": [
      "error\n"
     ]
    },
    {
     "name": "stderr",
     "output_type": "stream",
     "text": [
      "\n",
      "52.2kiB [00:00, 2.02MiB/s]                 \u001b[A\n",
      " 71%|███████   | 353/500 [15:37<01:50,  1.33it/s]"
     ]
    },
    {
     "name": "stdout",
     "output_type": "stream",
     "text": [
      "error\n"
     ]
    },
    {
     "name": "stderr",
     "output_type": "stream",
     "text": [
      "\n",
      "18.0kiB [00:00, 8.99MiB/s]                 \u001b[A\n",
      " 71%|███████   | 354/500 [15:38<01:50,  1.32it/s]"
     ]
    },
    {
     "name": "stdout",
     "output_type": "stream",
     "text": [
      "error\n"
     ]
    },
    {
     "name": "stderr",
     "output_type": "stream",
     "text": [
      "\n",
      "17.6kiB [00:00, 8.79MiB/s]                 \u001b[A\n",
      " 71%|███████   | 355/500 [15:38<01:32,  1.58it/s]"
     ]
    },
    {
     "name": "stdout",
     "output_type": "stream",
     "text": [
      "error\n"
     ]
    },
    {
     "name": "stderr",
     "output_type": "stream",
     "text": [
      "\n",
      "49.8kiB [00:00, 10.0MiB/s]                 \u001b[A\n",
      " 71%|███████   | 356/500 [15:39<01:40,  1.44it/s]"
     ]
    },
    {
     "name": "stdout",
     "output_type": "stream",
     "text": [
      "error\n"
     ]
    },
    {
     "name": "stderr",
     "output_type": "stream",
     "text": [
      "\n",
      "68.5kiB [00:00, 2.55MiB/s]                 \u001b[A\n",
      " 71%|███████▏  | 357/500 [15:40<01:41,  1.41it/s]"
     ]
    },
    {
     "name": "stdout",
     "output_type": "stream",
     "text": [
      "error\n"
     ]
    },
    {
     "name": "stderr",
     "output_type": "stream",
     "text": [
      "\n",
      "25.8kiB [00:00, 12.9MiB/s]                 \u001b[A\n",
      " 72%|███████▏  | 358/500 [15:41<01:50,  1.28it/s]"
     ]
    },
    {
     "name": "stdout",
     "output_type": "stream",
     "text": [
      "error\n"
     ]
    },
    {
     "name": "stderr",
     "output_type": "stream",
     "text": [
      "\n",
      "135kiB [00:00, 2.25MiB/s]                  \u001b[A\n",
      " 72%|███████▏  | 359/500 [15:42<01:58,  1.19it/s]"
     ]
    },
    {
     "name": "stdout",
     "output_type": "stream",
     "text": [
      "error\n"
     ]
    },
    {
     "name": "stderr",
     "output_type": "stream",
     "text": [
      "\n",
      "17.1kiB [00:00, 8.57MiB/s]                 \u001b[A\n",
      " 72%|███████▏  | 360/500 [15:42<01:41,  1.38it/s]"
     ]
    },
    {
     "name": "stdout",
     "output_type": "stream",
     "text": [
      "error\n"
     ]
    },
    {
     "name": "stderr",
     "output_type": "stream",
     "text": [
      "\n",
      "55.2kiB [00:00, 1.62MiB/s]                 \u001b[A\n",
      " 72%|███████▏  | 361/500 [15:43<01:27,  1.58it/s]"
     ]
    },
    {
     "name": "stdout",
     "output_type": "stream",
     "text": [
      "error\n"
     ]
    },
    {
     "name": "stderr",
     "output_type": "stream",
     "text": [
      "\n",
      "28.2kiB [00:00, ?iB/s]                     \u001b[A\n",
      " 72%|███████▏  | 362/500 [15:43<01:12,  1.90it/s]"
     ]
    },
    {
     "name": "stdout",
     "output_type": "stream",
     "text": [
      "error\n"
     ]
    },
    {
     "name": "stderr",
     "output_type": "stream",
     "text": [
      "\n",
      "35.2kiB [00:00, 1.67MiB/s]                 \u001b[A\n",
      " 73%|███████▎  | 363/500 [15:43<00:59,  2.32it/s]"
     ]
    },
    {
     "name": "stdout",
     "output_type": "stream",
     "text": [
      "error\n"
     ]
    },
    {
     "name": "stderr",
     "output_type": "stream",
     "text": [
      "\n",
      "81.0kiB [00:00, 2.99MiB/s]                 \u001b[A\n",
      " 73%|███████▎  | 364/500 [15:44<00:54,  2.48it/s]"
     ]
    },
    {
     "name": "stdout",
     "output_type": "stream",
     "text": [
      "error\n"
     ]
    },
    {
     "name": "stderr",
     "output_type": "stream",
     "text": [
      "\n",
      "61.9kiB [00:00, 1.55MiB/s]                 \u001b[A\n",
      " 73%|███████▎  | 365/500 [15:44<00:48,  2.77it/s]"
     ]
    },
    {
     "name": "stdout",
     "output_type": "stream",
     "text": [
      "error\n"
     ]
    },
    {
     "name": "stderr",
     "output_type": "stream",
     "text": [
      "\n",
      "37.1kiB [00:00, ?iB/s]                     \u001b[A\n",
      " 73%|███████▎  | 366/500 [15:44<00:43,  3.07it/s]"
     ]
    },
    {
     "name": "stdout",
     "output_type": "stream",
     "text": [
      "error\n"
     ]
    },
    {
     "name": "stderr",
     "output_type": "stream",
     "text": [
      "\n",
      "19.5kiB [00:00, ?iB/s]                     \u001b[A\n",
      " 73%|███████▎  | 367/500 [15:45<00:58,  2.28it/s]"
     ]
    },
    {
     "name": "stdout",
     "output_type": "stream",
     "text": [
      "error\n"
     ]
    },
    {
     "name": "stderr",
     "output_type": "stream",
     "text": [
      "\n",
      "69.1kiB [00:00, 4.43MiB/s]                 \u001b[A\n",
      " 74%|███████▎  | 368/500 [15:45<00:54,  2.43it/s]"
     ]
    },
    {
     "name": "stdout",
     "output_type": "stream",
     "text": [
      "error\n"
     ]
    },
    {
     "name": "stderr",
     "output_type": "stream",
     "text": [
      "\n",
      "35.2kiB [00:00, 2.25MiB/s]                 \u001b[A\n",
      " 74%|███████▍  | 369/500 [15:46<00:52,  2.48it/s]"
     ]
    },
    {
     "name": "stdout",
     "output_type": "stream",
     "text": [
      "error\n"
     ]
    },
    {
     "name": "stderr",
     "output_type": "stream",
     "text": [
      "\n",
      "45.1kiB [00:00, 2.89MiB/s]                 \u001b[A\n",
      " 74%|███████▍  | 370/500 [15:46<00:46,  2.78it/s]"
     ]
    },
    {
     "name": "stdout",
     "output_type": "stream",
     "text": [
      "error\n"
     ]
    },
    {
     "name": "stderr",
     "output_type": "stream",
     "text": [
      "\n",
      "42.3kiB [00:00, ?iB/s]                     \u001b[A\n",
      " 74%|███████▍  | 371/500 [15:46<00:47,  2.69it/s]"
     ]
    },
    {
     "name": "stdout",
     "output_type": "stream",
     "text": [
      "error\n"
     ]
    },
    {
     "name": "stderr",
     "output_type": "stream",
     "text": [
      "\n",
      "97.2kiB [00:00, 1.66MiB/s]                 \u001b[A\n",
      " 74%|███████▍  | 372/500 [15:47<00:44,  2.85it/s]"
     ]
    },
    {
     "name": "stdout",
     "output_type": "stream",
     "text": [
      "error\n"
     ]
    },
    {
     "name": "stderr",
     "output_type": "stream",
     "text": [
      "\n",
      "56.0kiB [00:00, 1.53MiB/s]                 \u001b[A\n",
      " 75%|███████▍  | 373/500 [15:47<00:45,  2.81it/s]"
     ]
    },
    {
     "name": "stdout",
     "output_type": "stream",
     "text": [
      "error\n"
     ]
    },
    {
     "name": "stderr",
     "output_type": "stream",
     "text": [
      "\n",
      "26.4kiB [00:00, ?iB/s]                     \u001b[A\n",
      " 75%|███████▍  | 374/500 [15:47<00:52,  2.40it/s]"
     ]
    },
    {
     "name": "stdout",
     "output_type": "stream",
     "text": [
      "error\n"
     ]
    },
    {
     "name": "stderr",
     "output_type": "stream",
     "text": [
      "\n",
      "39.6kiB [00:00, ?iB/s]                     \u001b[A\n",
      " 75%|███████▌  | 375/500 [15:48<00:50,  2.48it/s]"
     ]
    },
    {
     "name": "stdout",
     "output_type": "stream",
     "text": [
      "error\n"
     ]
    },
    {
     "name": "stderr",
     "output_type": "stream",
     "text": [
      "\n",
      "24.1kiB [00:00, ?iB/s]                     \u001b[A\n",
      " 75%|███████▌  | 376/500 [15:48<00:51,  2.39it/s]"
     ]
    },
    {
     "name": "stdout",
     "output_type": "stream",
     "text": [
      "error\n"
     ]
    },
    {
     "name": "stderr",
     "output_type": "stream",
     "text": [
      "\n",
      "36.9kiB [00:00, 3.66MiB/s]                 \u001b[A\n",
      " 75%|███████▌  | 377/500 [15:49<00:46,  2.62it/s]"
     ]
    },
    {
     "name": "stdout",
     "output_type": "stream",
     "text": [
      "error\n"
     ]
    },
    {
     "name": "stderr",
     "output_type": "stream",
     "text": [
      "\n",
      "45.7kiB [00:00, 2.53MiB/s]                 \u001b[A\n",
      " 76%|███████▌  | 378/500 [15:49<00:41,  2.92it/s]"
     ]
    },
    {
     "name": "stdout",
     "output_type": "stream",
     "text": [
      "error\n"
     ]
    },
    {
     "name": "stderr",
     "output_type": "stream",
     "text": [
      "\n",
      "57.4kiB [00:00, 3.17MiB/s]                 \u001b[A\n",
      " 76%|███████▌  | 379/500 [15:49<00:42,  2.87it/s]"
     ]
    },
    {
     "name": "stdout",
     "output_type": "stream",
     "text": [
      "error\n"
     ]
    },
    {
     "name": "stderr",
     "output_type": "stream",
     "text": [
      "\n",
      "47.4kiB [00:00, 2.32MiB/s]                 \u001b[A\n",
      " 76%|███████▌  | 380/500 [15:49<00:36,  3.24it/s]"
     ]
    },
    {
     "name": "stdout",
     "output_type": "stream",
     "text": [
      "error\n"
     ]
    },
    {
     "name": "stderr",
     "output_type": "stream",
     "text": [
      "\n",
      "40.6kiB [00:00, 4.05MiB/s]                 \u001b[A\n",
      " 76%|███████▌  | 381/500 [15:50<00:43,  2.75it/s]"
     ]
    },
    {
     "name": "stdout",
     "output_type": "stream",
     "text": [
      "error\n"
     ]
    },
    {
     "name": "stderr",
     "output_type": "stream",
     "text": [
      "\n",
      "52.5kiB [00:00, 2.60MiB/s]                 \u001b[A\n",
      " 76%|███████▋  | 382/500 [15:51<00:54,  2.18it/s]"
     ]
    },
    {
     "name": "stdout",
     "output_type": "stream",
     "text": [
      "error\n"
     ]
    },
    {
     "name": "stderr",
     "output_type": "stream",
     "text": [
      "\n",
      "32.9kiB [00:00, 4.10MiB/s]                 \u001b[A\n",
      " 77%|███████▋  | 383/500 [15:51<00:55,  2.10it/s]"
     ]
    },
    {
     "name": "stdout",
     "output_type": "stream",
     "text": [
      "error\n"
     ]
    },
    {
     "name": "stderr",
     "output_type": "stream",
     "text": [
      "\n",
      "51.0kiB [00:00, 2.50MiB/s]                 \u001b[A\n",
      " 77%|███████▋  | 384/500 [15:52<00:59,  1.94it/s]"
     ]
    },
    {
     "name": "stdout",
     "output_type": "stream",
     "text": [
      "error\n"
     ]
    },
    {
     "name": "stderr",
     "output_type": "stream",
     "text": [
      "\n",
      "80.3kiB [00:00, 2.66MiB/s]                 \u001b[A\n",
      " 77%|███████▋  | 385/500 [15:52<01:06,  1.74it/s]"
     ]
    },
    {
     "name": "stdout",
     "output_type": "stream",
     "text": [
      "error\n"
     ]
    },
    {
     "name": "stderr",
     "output_type": "stream",
     "text": [
      "\n",
      "99.4kiB [00:00, 2.31MiB/s]                 \u001b[A\n",
      " 77%|███████▋  | 386/500 [15:53<00:58,  1.96it/s]"
     ]
    },
    {
     "name": "stdout",
     "output_type": "stream",
     "text": [
      "error\n"
     ]
    },
    {
     "name": "stderr",
     "output_type": "stream",
     "text": [
      "\n",
      "44.6kiB [00:00, 4.41MiB/s]                 \u001b[A\n",
      " 77%|███████▋  | 387/500 [15:53<00:56,  2.01it/s]"
     ]
    },
    {
     "name": "stdout",
     "output_type": "stream",
     "text": [
      "error\n"
     ]
    },
    {
     "name": "stderr",
     "output_type": "stream",
     "text": [
      "\n",
      "24.0kiB [00:00, 2.37MiB/s]                 \u001b[A\n",
      " 78%|███████▊  | 388/500 [15:54<00:51,  2.16it/s]"
     ]
    },
    {
     "name": "stdout",
     "output_type": "stream",
     "text": [
      "error\n"
     ]
    },
    {
     "name": "stderr",
     "output_type": "stream",
     "text": [
      "\n",
      "40.7kiB [00:00, 20.1MiB/s]                 \u001b[A\n",
      " 78%|███████▊  | 389/500 [15:54<00:45,  2.46it/s]"
     ]
    },
    {
     "name": "stdout",
     "output_type": "stream",
     "text": [
      "error\n"
     ]
    },
    {
     "name": "stderr",
     "output_type": "stream",
     "text": [
      "\n",
      "36.6kiB [00:00, 1.81MiB/s]                 \u001b[A\n",
      " 78%|███████▊  | 390/500 [15:54<00:44,  2.45it/s]"
     ]
    },
    {
     "name": "stdout",
     "output_type": "stream",
     "text": [
      "error\n"
     ]
    },
    {
     "name": "stderr",
     "output_type": "stream",
     "text": [
      "\n",
      "  0%|          | 0.00/1.00 [00:00<?, ?iB/s]\u001b[A\n",
      "218kiB [00:00, 1.96MiB/s]                  \u001b[A\n",
      " 78%|███████▊  | 391/500 [15:55<00:54,  1.99it/s]"
     ]
    },
    {
     "name": "stdout",
     "output_type": "stream",
     "text": [
      "error\n"
     ]
    },
    {
     "name": "stderr",
     "output_type": "stream",
     "text": [
      "\n",
      "36.7kiB [00:00, 3.64MiB/s]                 \u001b[A\n",
      " 78%|███████▊  | 392/500 [15:56<00:54,  2.00it/s]"
     ]
    },
    {
     "name": "stdout",
     "output_type": "stream",
     "text": [
      "error\n"
     ]
    },
    {
     "name": "stderr",
     "output_type": "stream",
     "text": [
      "\n",
      "48.5kiB [00:00, 3.97MiB/s]                 \u001b[A\n",
      " 79%|███████▊  | 393/500 [15:56<00:50,  2.10it/s]"
     ]
    },
    {
     "name": "stdout",
     "output_type": "stream",
     "text": [
      "error\n"
     ]
    },
    {
     "name": "stderr",
     "output_type": "stream",
     "text": [
      "\n",
      "31.5kiB [00:00, 15.5MiB/s]                 \u001b[A\n",
      " 79%|███████▉  | 394/500 [15:56<00:52,  2.02it/s]"
     ]
    },
    {
     "name": "stdout",
     "output_type": "stream",
     "text": [
      "error\n"
     ]
    },
    {
     "name": "stderr",
     "output_type": "stream",
     "text": [
      "\n",
      "67.1kiB [00:00, 733kiB/s]                  \u001b[A\n",
      " 79%|███████▉  | 395/500 [15:57<00:55,  1.89it/s]"
     ]
    },
    {
     "name": "stdout",
     "output_type": "stream",
     "text": [
      "error\n"
     ]
    },
    {
     "name": "stderr",
     "output_type": "stream",
     "text": [
      "\n",
      "45.2kiB [00:00, 4.48MiB/s]                 \u001b[A\n",
      " 79%|███████▉  | 396/500 [15:58<00:53,  1.96it/s]"
     ]
    },
    {
     "name": "stdout",
     "output_type": "stream",
     "text": [
      "error\n"
     ]
    },
    {
     "name": "stderr",
     "output_type": "stream",
     "text": [
      "\n",
      "36.7kiB [00:00, ?iB/s]                     \u001b[A\n",
      " 79%|███████▉  | 397/500 [15:58<00:52,  1.98it/s]"
     ]
    },
    {
     "name": "stdout",
     "output_type": "stream",
     "text": [
      "error\n"
     ]
    },
    {
     "name": "stderr",
     "output_type": "stream",
     "text": [
      "\n",
      "38.8kiB [00:00, 4.83MiB/s]                 \u001b[A\n",
      " 80%|███████▉  | 398/500 [15:59<00:53,  1.92it/s]"
     ]
    },
    {
     "name": "stdout",
     "output_type": "stream",
     "text": [
      "error\n"
     ]
    },
    {
     "name": "stderr",
     "output_type": "stream",
     "text": [
      "\n",
      "12.2kiB [00:00, 6.03MiB/s]                 \u001b[A\n",
      " 80%|███████▉  | 399/500 [15:59<00:46,  2.17it/s]"
     ]
    },
    {
     "name": "stdout",
     "output_type": "stream",
     "text": [
      "error\n"
     ]
    },
    {
     "name": "stderr",
     "output_type": "stream",
     "text": [
      "\n",
      "74.4kiB [00:00, 2.31MiB/s]                 \u001b[A\n",
      " 80%|████████  | 400/500 [16:00<00:51,  1.94it/s]"
     ]
    },
    {
     "name": "stdout",
     "output_type": "stream",
     "text": [
      "error\n"
     ]
    },
    {
     "name": "stderr",
     "output_type": "stream",
     "text": [
      "\n",
      "61.6kiB [00:00, 2.17MiB/s]                 \u001b[A\n",
      " 80%|████████  | 401/500 [16:00<00:50,  1.96it/s]"
     ]
    },
    {
     "name": "stdout",
     "output_type": "stream",
     "text": [
      "error\n"
     ]
    },
    {
     "name": "stderr",
     "output_type": "stream",
     "text": [
      "\n",
      "88.0kiB [00:00, 2.16MiB/s]                 \u001b[A\n",
      " 80%|████████  | 402/500 [16:01<00:53,  1.82it/s]"
     ]
    },
    {
     "name": "stdout",
     "output_type": "stream",
     "text": [
      "error\n"
     ]
    },
    {
     "name": "stderr",
     "output_type": "stream",
     "text": [
      "\n",
      "29.1kiB [00:00, ?iB/s]                     \u001b[A\n",
      " 81%|████████  | 403/500 [16:01<00:46,  2.10it/s]"
     ]
    },
    {
     "name": "stdout",
     "output_type": "stream",
     "text": [
      "error\n"
     ]
    },
    {
     "name": "stderr",
     "output_type": "stream",
     "text": [
      "\n",
      "70.0kiB [00:00, 2.30MiB/s]                 \u001b[A\n",
      " 81%|████████  | 404/500 [16:02<00:51,  1.87it/s]"
     ]
    },
    {
     "name": "stdout",
     "output_type": "stream",
     "text": [
      "error\n"
     ]
    },
    {
     "name": "stderr",
     "output_type": "stream",
     "text": [
      "\n",
      "23.4kiB [00:00, ?iB/s]                     \u001b[A\n",
      " 81%|████████  | 405/500 [16:02<00:47,  1.98it/s]"
     ]
    },
    {
     "name": "stdout",
     "output_type": "stream",
     "text": [
      "error\n"
     ]
    },
    {
     "name": "stderr",
     "output_type": "stream",
     "text": [
      "\n",
      "51.3kiB [00:00, 5.01MiB/s]                 \u001b[A\n",
      " 81%|████████  | 406/500 [16:03<00:51,  1.81it/s]"
     ]
    },
    {
     "name": "stdout",
     "output_type": "stream",
     "text": [
      "error\n"
     ]
    },
    {
     "name": "stderr",
     "output_type": "stream",
     "text": [
      "\n",
      "23.0kiB [00:00, ?iB/s]                     \u001b[A\n",
      " 81%|████████▏ | 407/500 [16:03<00:45,  2.03it/s]"
     ]
    },
    {
     "name": "stdout",
     "output_type": "stream",
     "text": [
      "error\n"
     ]
    },
    {
     "name": "stderr",
     "output_type": "stream",
     "text": [
      "\n",
      "72.6kiB [00:00, 1.42MiB/s]                 \u001b[A\n",
      " 82%|████████▏ | 408/500 [16:04<00:48,  1.89it/s]"
     ]
    },
    {
     "name": "stdout",
     "output_type": "stream",
     "text": [
      "error\n"
     ]
    },
    {
     "name": "stderr",
     "output_type": "stream",
     "text": [
      "\n",
      "81.6kiB [00:00, 1.39MiB/s]                 \u001b[A\n",
      " 82%|████████▏ | 409/500 [16:04<00:47,  1.93it/s]"
     ]
    },
    {
     "name": "stdout",
     "output_type": "stream",
     "text": [
      "error\n"
     ]
    },
    {
     "name": "stderr",
     "output_type": "stream",
     "text": [
      "\n",
      "77.3kiB [00:00, 1.53MiB/s]                 \u001b[A\n",
      " 82%|████████▏ | 410/500 [16:05<00:50,  1.79it/s]"
     ]
    },
    {
     "name": "stdout",
     "output_type": "stream",
     "text": [
      "error\n"
     ]
    },
    {
     "name": "stderr",
     "output_type": "stream",
     "text": [
      "\n",
      "112kiB [00:00, 1.63MiB/s]                  \u001b[A\n",
      " 82%|████████▏ | 411/500 [16:06<00:52,  1.69it/s]"
     ]
    },
    {
     "name": "stdout",
     "output_type": "stream",
     "text": [
      "error\n"
     ]
    },
    {
     "name": "stderr",
     "output_type": "stream",
     "text": [
      "\n",
      "65.2kiB [00:00, 2.15MiB/s]                 \u001b[A\n",
      " 82%|████████▏ | 412/500 [16:06<00:53,  1.65it/s]"
     ]
    },
    {
     "name": "stdout",
     "output_type": "stream",
     "text": [
      "error\n"
     ]
    },
    {
     "name": "stderr",
     "output_type": "stream",
     "text": [
      "\n",
      "72.9kiB [00:00, 2.39MiB/s]                 \u001b[A\n",
      " 83%|████████▎ | 413/500 [16:06<00:44,  1.95it/s]"
     ]
    },
    {
     "name": "stdout",
     "output_type": "stream",
     "text": [
      "error\n"
     ]
    },
    {
     "name": "stderr",
     "output_type": "stream",
     "text": [
      "\n",
      "46.7kiB [00:00, 4.62MiB/s]                 \u001b[A\n",
      " 83%|████████▎ | 414/500 [16:07<00:46,  1.86it/s]"
     ]
    },
    {
     "name": "stdout",
     "output_type": "stream",
     "text": [
      "error\n"
     ]
    },
    {
     "name": "stderr",
     "output_type": "stream",
     "text": [
      "\n",
      "66.8kiB [00:00, 2.20MiB/s]                 \u001b[A\n",
      " 83%|████████▎ | 415/500 [16:08<00:46,  1.84it/s]"
     ]
    },
    {
     "name": "stdout",
     "output_type": "stream",
     "text": [
      "error\n"
     ]
    },
    {
     "name": "stderr",
     "output_type": "stream",
     "text": [
      "\n",
      "55.0kiB [00:00, 2.70MiB/s]                 \u001b[A\n",
      " 83%|████████▎ | 416/500 [16:08<00:45,  1.83it/s]"
     ]
    },
    {
     "name": "stdout",
     "output_type": "stream",
     "text": [
      "error\n"
     ]
    },
    {
     "name": "stderr",
     "output_type": "stream",
     "text": [
      "\n",
      "67.9kiB [00:00, 3.73MiB/s]                 \u001b[A\n",
      " 83%|████████▎ | 417/500 [16:09<00:47,  1.75it/s]"
     ]
    },
    {
     "name": "stdout",
     "output_type": "stream",
     "text": [
      "error\n"
     ]
    },
    {
     "name": "stderr",
     "output_type": "stream",
     "text": [
      "\n",
      "56.2kiB [00:00, 1.99MiB/s]                 \u001b[A\n",
      " 84%|████████▎ | 418/500 [16:09<00:46,  1.75it/s]"
     ]
    },
    {
     "name": "stdout",
     "output_type": "stream",
     "text": [
      "error\n"
     ]
    },
    {
     "name": "stderr",
     "output_type": "stream",
     "text": [
      "\n",
      "103kiB [00:00, 2.01MiB/s]                  \u001b[A\n",
      " 84%|████████▍ | 419/500 [16:10<00:49,  1.64it/s]"
     ]
    },
    {
     "name": "stdout",
     "output_type": "stream",
     "text": [
      "error\n"
     ]
    },
    {
     "name": "stderr",
     "output_type": "stream",
     "text": [
      "\n",
      "39.7kiB [00:00, 3.89MiB/s]                 \u001b[A\n",
      " 84%|████████▍ | 420/500 [16:11<00:45,  1.74it/s]"
     ]
    },
    {
     "name": "stdout",
     "output_type": "stream",
     "text": [
      "error\n"
     ]
    },
    {
     "name": "stderr",
     "output_type": "stream",
     "text": [
      "\n",
      "23.8kiB [00:00, 11.8MiB/s]                 \u001b[A\n",
      " 84%|████████▍ | 421/500 [16:11<00:42,  1.86it/s]"
     ]
    },
    {
     "name": "stdout",
     "output_type": "stream",
     "text": [
      "error\n"
     ]
    },
    {
     "name": "stderr",
     "output_type": "stream",
     "text": [
      "\n",
      "52.0kiB [00:00, 1.84MiB/s]                 \u001b[A\n",
      " 84%|████████▍ | 422/500 [16:12<00:44,  1.75it/s]"
     ]
    },
    {
     "name": "stdout",
     "output_type": "stream",
     "text": [
      "error\n"
     ]
    },
    {
     "name": "stderr",
     "output_type": "stream",
     "text": [
      "\n",
      "60.8kiB [00:00, 3.00MiB/s]                 \u001b[A\n",
      " 85%|████████▍ | 423/500 [16:12<00:46,  1.64it/s]"
     ]
    },
    {
     "name": "stdout",
     "output_type": "stream",
     "text": [
      "error\n"
     ]
    },
    {
     "name": "stderr",
     "output_type": "stream",
     "text": [
      "\n",
      "68.8kiB [00:00, 1.70MiB/s]                 \u001b[A\n",
      " 85%|████████▍ | 424/500 [16:13<00:46,  1.64it/s]"
     ]
    },
    {
     "name": "stdout",
     "output_type": "stream",
     "text": [
      "error\n"
     ]
    },
    {
     "name": "stderr",
     "output_type": "stream",
     "text": [
      "\n",
      "72.7kiB [00:00, 2.23MiB/s]                 \u001b[A\n",
      " 85%|████████▌ | 425/500 [16:14<00:47,  1.56it/s]"
     ]
    },
    {
     "name": "stdout",
     "output_type": "stream",
     "text": [
      "error\n"
     ]
    },
    {
     "name": "stderr",
     "output_type": "stream",
     "text": [
      "\n",
      "67.7kiB [00:00, 2.23MiB/s]                 \u001b[A\n",
      " 85%|████████▌ | 426/500 [16:14<00:48,  1.52it/s]"
     ]
    },
    {
     "name": "stdout",
     "output_type": "stream",
     "text": [
      "error\n"
     ]
    },
    {
     "name": "stderr",
     "output_type": "stream",
     "text": [
      "\n",
      "65.5kiB [00:00, 2.37MiB/s]                 \u001b[A\n",
      " 85%|████████▌ | 427/500 [16:15<00:46,  1.59it/s]"
     ]
    },
    {
     "name": "stdout",
     "output_type": "stream",
     "text": [
      "error\n"
     ]
    },
    {
     "name": "stderr",
     "output_type": "stream",
     "text": [
      "\n",
      "27.1kiB [00:00, 13.3MiB/s]                 \u001b[A\n",
      " 86%|████████▌ | 428/500 [16:15<00:37,  1.94it/s]"
     ]
    },
    {
     "name": "stdout",
     "output_type": "stream",
     "text": [
      "error\n"
     ]
    },
    {
     "name": "stderr",
     "output_type": "stream",
     "text": [
      "\n",
      "78.8kiB [00:00, 2.04MiB/s]                 \u001b[A\n",
      " 86%|████████▌ | 429/500 [16:16<00:31,  2.23it/s]"
     ]
    },
    {
     "name": "stdout",
     "output_type": "stream",
     "text": [
      "error\n"
     ]
    },
    {
     "name": "stderr",
     "output_type": "stream",
     "text": [
      "\n",
      "26.2kiB [00:00, 12.7MiB/s]                 \u001b[A\n",
      " 86%|████████▌ | 430/500 [16:16<00:26,  2.60it/s]"
     ]
    },
    {
     "name": "stdout",
     "output_type": "stream",
     "text": [
      "error\n"
     ]
    },
    {
     "name": "stderr",
     "output_type": "stream",
     "text": [
      "\n",
      "42.0kiB [00:00, 2.31MiB/s]                 \u001b[A\n",
      " 86%|████████▌ | 431/500 [16:16<00:27,  2.50it/s]"
     ]
    },
    {
     "name": "stdout",
     "output_type": "stream",
     "text": [
      "error\n"
     ]
    },
    {
     "name": "stderr",
     "output_type": "stream",
     "text": [
      "\n",
      "46.2kiB [00:00, 4.51MiB/s]                 \u001b[A\n",
      " 86%|████████▋ | 432/500 [16:17<00:30,  2.19it/s]"
     ]
    },
    {
     "name": "stdout",
     "output_type": "stream",
     "text": [
      "error\n"
     ]
    },
    {
     "name": "stderr",
     "output_type": "stream",
     "text": [
      "\n",
      "64.7kiB [00:00, 1.33MiB/s]                 \u001b[A\n",
      " 87%|████████▋ | 433/500 [16:17<00:33,  2.00it/s]"
     ]
    },
    {
     "name": "stdout",
     "output_type": "stream",
     "text": [
      "error\n"
     ]
    },
    {
     "name": "stderr",
     "output_type": "stream",
     "text": [
      "\n",
      "66.7kiB [00:00, 2.18MiB/s]                 \u001b[A\n",
      " 87%|████████▋ | 434/500 [16:18<00:34,  1.94it/s]"
     ]
    },
    {
     "name": "stdout",
     "output_type": "stream",
     "text": [
      "error\n"
     ]
    },
    {
     "name": "stderr",
     "output_type": "stream",
     "text": [
      "\n",
      "52.8kiB [00:00, ?iB/s]                     \u001b[A\n",
      " 87%|████████▋ | 435/500 [16:18<00:32,  2.02it/s]"
     ]
    },
    {
     "name": "stdout",
     "output_type": "stream",
     "text": [
      "error\n"
     ]
    },
    {
     "name": "stderr",
     "output_type": "stream",
     "text": [
      "\n",
      "58.5kiB [00:00, 3.74MiB/s]                 \u001b[A\n",
      " 87%|████████▋ | 436/500 [16:19<00:34,  1.88it/s]"
     ]
    },
    {
     "name": "stdout",
     "output_type": "stream",
     "text": [
      "error\n"
     ]
    },
    {
     "name": "stderr",
     "output_type": "stream",
     "text": [
      "\n",
      "63.3kiB [00:00, 1.57MiB/s]                 \u001b[A\n",
      " 87%|████████▋ | 437/500 [16:20<00:40,  1.55it/s]"
     ]
    },
    {
     "name": "stdout",
     "output_type": "stream",
     "text": [
      "error\n"
     ]
    },
    {
     "name": "stderr",
     "output_type": "stream",
     "text": [
      "\n",
      "95.2kiB [00:00, 1.89MiB/s]                 \u001b[A\n",
      " 88%|████████▊ | 438/500 [16:21<00:39,  1.57it/s]"
     ]
    },
    {
     "name": "stdout",
     "output_type": "stream",
     "text": [
      "error\n"
     ]
    },
    {
     "name": "stderr",
     "output_type": "stream",
     "text": [
      "\n",
      "75.7kiB [00:00, 2.48MiB/s]                 \u001b[A\n",
      " 88%|████████▊ | 439/500 [16:21<00:38,  1.60it/s]"
     ]
    },
    {
     "name": "stdout",
     "output_type": "stream",
     "text": [
      "error\n"
     ]
    },
    {
     "name": "stderr",
     "output_type": "stream",
     "text": [
      "\n",
      "69.1kiB [00:00, 2.27MiB/s]                 \u001b[A\n",
      " 88%|████████▊ | 440/500 [16:22<00:35,  1.68it/s]"
     ]
    },
    {
     "name": "stdout",
     "output_type": "stream",
     "text": [
      "error\n"
     ]
    },
    {
     "name": "stderr",
     "output_type": "stream",
     "text": [
      "\n",
      "39.9kiB [00:00, 1.96MiB/s]                 \u001b[A\n",
      " 88%|████████▊ | 441/500 [16:22<00:34,  1.71it/s]"
     ]
    },
    {
     "name": "stdout",
     "output_type": "stream",
     "text": [
      "error\n"
     ]
    },
    {
     "name": "stderr",
     "output_type": "stream",
     "text": [
      "\n",
      "35.4kiB [00:00, ?iB/s]                     \u001b[A\n",
      " 88%|████████▊ | 442/500 [16:23<00:34,  1.66it/s]"
     ]
    },
    {
     "name": "stdout",
     "output_type": "stream",
     "text": [
      "error\n"
     ]
    },
    {
     "name": "stderr",
     "output_type": "stream",
     "text": [
      "\n",
      "52.7kiB [00:00, 3.39MiB/s]                 \u001b[A\n",
      " 89%|████████▊ | 443/500 [16:23<00:32,  1.75it/s]"
     ]
    },
    {
     "name": "stdout",
     "output_type": "stream",
     "text": [
      "error\n"
     ]
    },
    {
     "name": "stderr",
     "output_type": "stream",
     "text": [
      "\n",
      "108kiB [00:00, 3.42MiB/s]                  \u001b[A\n",
      " 89%|████████▉ | 444/500 [16:24<00:28,  1.98it/s]"
     ]
    },
    {
     "name": "stdout",
     "output_type": "stream",
     "text": [
      "error\n"
     ]
    },
    {
     "name": "stderr",
     "output_type": "stream",
     "text": [
      "\n",
      "62.8kiB [00:00, 1.71MiB/s]                 \u001b[A\n",
      " 89%|████████▉ | 445/500 [16:24<00:28,  1.95it/s]"
     ]
    },
    {
     "name": "stdout",
     "output_type": "stream",
     "text": [
      "error\n"
     ]
    },
    {
     "name": "stderr",
     "output_type": "stream",
     "text": [
      "\n",
      "25.1kiB [00:00, ?iB/s]                     \u001b[A\n",
      " 89%|████████▉ | 446/500 [16:25<00:26,  2.06it/s]"
     ]
    },
    {
     "name": "stdout",
     "output_type": "stream",
     "text": [
      "error\n"
     ]
    },
    {
     "name": "stderr",
     "output_type": "stream",
     "text": [
      "\n",
      "66.2kiB [00:00, 5.46MiB/s]                 \u001b[A\n",
      " 89%|████████▉ | 447/500 [16:25<00:27,  1.94it/s]"
     ]
    },
    {
     "name": "stdout",
     "output_type": "stream",
     "text": [
      "error\n"
     ]
    },
    {
     "name": "stderr",
     "output_type": "stream",
     "text": [
      "\n",
      "79.6kiB [00:00, 5.09MiB/s]                 \u001b[A\n",
      " 90%|████████▉ | 448/500 [16:26<00:25,  2.06it/s]"
     ]
    },
    {
     "name": "stdout",
     "output_type": "stream",
     "text": [
      "error\n"
     ]
    },
    {
     "name": "stderr",
     "output_type": "stream",
     "text": [
      "\n",
      "39.6kiB [00:00, 2.54MiB/s]                 \u001b[A\n",
      " 90%|████████▉ | 449/500 [16:26<00:22,  2.28it/s]"
     ]
    },
    {
     "name": "stdout",
     "output_type": "stream",
     "text": [
      "error\n"
     ]
    },
    {
     "name": "stderr",
     "output_type": "stream",
     "text": [
      "\n",
      "45.4kiB [00:00, 1.41MiB/s]                 \u001b[A\n",
      " 90%|█████████ | 450/500 [16:26<00:20,  2.41it/s]"
     ]
    },
    {
     "name": "stdout",
     "output_type": "stream",
     "text": [
      "error\n"
     ]
    },
    {
     "name": "stderr",
     "output_type": "stream",
     "text": [
      "\n",
      "60.3kiB [00:00, 1.90MiB/s]                 \u001b[A\n",
      " 90%|█████████ | 451/500 [16:27<00:22,  2.16it/s]"
     ]
    },
    {
     "name": "stdout",
     "output_type": "stream",
     "text": [
      "error\n"
     ]
    },
    {
     "name": "stderr",
     "output_type": "stream",
     "text": [
      "\n",
      "66.4kiB [00:00, 2.11MiB/s]                 \u001b[A\n",
      " 90%|█████████ | 452/500 [16:27<00:22,  2.09it/s]"
     ]
    },
    {
     "name": "stdout",
     "output_type": "stream",
     "text": [
      "error\n"
     ]
    },
    {
     "name": "stderr",
     "output_type": "stream",
     "text": [
      "\n",
      "108kiB [00:00, 1.27MiB/s]                  \u001b[A\n",
      " 91%|█████████ | 453/500 [16:28<00:24,  1.89it/s]"
     ]
    },
    {
     "name": "stdout",
     "output_type": "stream",
     "text": [
      "error\n"
     ]
    },
    {
     "name": "stderr",
     "output_type": "stream",
     "text": [
      "\n",
      "27.1kiB [00:00, ?iB/s]                     \u001b[A\n",
      " 91%|█████████ | 454/500 [16:29<00:24,  1.91it/s]"
     ]
    },
    {
     "name": "stdout",
     "output_type": "stream",
     "text": [
      "error\n"
     ]
    },
    {
     "name": "stderr",
     "output_type": "stream",
     "text": [
      "\n",
      "45.7kiB [00:00, 2.93MiB/s]                 \u001b[A\n",
      " 91%|█████████ | 455/500 [16:30<00:29,  1.53it/s]"
     ]
    },
    {
     "name": "stdout",
     "output_type": "stream",
     "text": [
      "error\n"
     ]
    },
    {
     "name": "stderr",
     "output_type": "stream",
     "text": [
      "\n",
      "97.2kiB [00:00, 2.06MiB/s]                 \u001b[A\n",
      " 91%|█████████ | 456/500 [16:30<00:24,  1.78it/s]"
     ]
    },
    {
     "name": "stdout",
     "output_type": "stream",
     "text": [
      "error\n"
     ]
    },
    {
     "name": "stderr",
     "output_type": "stream",
     "text": [
      "\n",
      "57.0kiB [00:00, 908kiB/s]                  \u001b[A\n",
      " 91%|█████████▏| 457/500 [16:30<00:23,  1.80it/s]"
     ]
    },
    {
     "name": "stdout",
     "output_type": "stream",
     "text": [
      "error\n"
     ]
    },
    {
     "name": "stderr",
     "output_type": "stream",
     "text": [
      "\n",
      "51.8kiB [00:00, 6.43MiB/s]                 \u001b[A\n",
      " 92%|█████████▏| 458/500 [16:31<00:22,  1.86it/s]"
     ]
    },
    {
     "name": "stdout",
     "output_type": "stream",
     "text": [
      "error\n"
     ]
    },
    {
     "name": "stderr",
     "output_type": "stream",
     "text": [
      "\n",
      "88.0kiB [00:00, 2.33MiB/s]                 \u001b[A\n",
      " 92%|█████████▏| 459/500 [16:32<00:23,  1.72it/s]"
     ]
    },
    {
     "name": "stdout",
     "output_type": "stream",
     "text": [
      "error\n"
     ]
    },
    {
     "name": "stderr",
     "output_type": "stream",
     "text": [
      "\n",
      "31.1kiB [00:00, ?iB/s]                     \u001b[A\n",
      " 92%|█████████▏| 460/500 [16:32<00:22,  1.80it/s]"
     ]
    },
    {
     "name": "stdout",
     "output_type": "stream",
     "text": [
      "error\n"
     ]
    },
    {
     "name": "stderr",
     "output_type": "stream",
     "text": [
      "\n",
      "54.5kiB [00:00, 2.70MiB/s]                 \u001b[A\n",
      " 92%|█████████▏| 461/500 [16:32<00:19,  2.03it/s]"
     ]
    },
    {
     "name": "stdout",
     "output_type": "stream",
     "text": [
      "error\n"
     ]
    },
    {
     "name": "stderr",
     "output_type": "stream",
     "text": [
      "\n",
      "24.0kiB [00:00, ?iB/s]                     \u001b[A\n",
      " 92%|█████████▏| 462/500 [16:33<00:16,  2.34it/s]"
     ]
    },
    {
     "name": "stdout",
     "output_type": "stream",
     "text": [
      "error\n"
     ]
    },
    {
     "name": "stderr",
     "output_type": "stream",
     "text": [
      "\n",
      "73.0kiB [00:00, 2.33MiB/s]                 \u001b[A\n",
      " 93%|█████████▎| 463/500 [16:33<00:17,  2.17it/s]"
     ]
    },
    {
     "name": "stdout",
     "output_type": "stream",
     "text": [
      "error\n"
     ]
    },
    {
     "name": "stderr",
     "output_type": "stream",
     "text": [
      "\n",
      "67.2kiB [00:00, 3.04MiB/s]                 \u001b[A\n",
      " 93%|█████████▎| 464/500 [16:34<00:15,  2.29it/s]"
     ]
    },
    {
     "name": "stdout",
     "output_type": "stream",
     "text": [
      "error\n"
     ]
    },
    {
     "name": "stderr",
     "output_type": "stream",
     "text": [
      "\n",
      "29.6kiB [00:00, ?iB/s]                     \u001b[A\n",
      " 93%|█████████▎| 465/500 [16:34<00:16,  2.16it/s]"
     ]
    },
    {
     "name": "stdout",
     "output_type": "stream",
     "text": [
      "error\n"
     ]
    },
    {
     "name": "stderr",
     "output_type": "stream",
     "text": [
      "\n",
      "85.2kiB [00:00, 2.87MiB/s]                 \u001b[A\n",
      " 93%|█████████▎| 466/500 [16:35<00:17,  1.98it/s]"
     ]
    },
    {
     "name": "stdout",
     "output_type": "stream",
     "text": [
      "error\n"
     ]
    },
    {
     "name": "stderr",
     "output_type": "stream",
     "text": [
      "\n",
      "  0%|          | 0.00/1.00 [00:00<?, ?iB/s]\u001b[A\n",
      "218kiB [00:00, 1.43MiB/s]                  \u001b[A\n",
      " 93%|█████████▎| 467/500 [16:35<00:16,  1.95it/s]"
     ]
    },
    {
     "name": "stdout",
     "output_type": "stream",
     "text": [
      "error\n"
     ]
    },
    {
     "name": "stderr",
     "output_type": "stream",
     "text": [
      "\n",
      "18.7kiB [00:00, ?iB/s]                     \u001b[A\n",
      " 94%|█████████▎| 468/500 [16:36<00:14,  2.23it/s]"
     ]
    },
    {
     "name": "stdout",
     "output_type": "stream",
     "text": [
      "error\n"
     ]
    },
    {
     "name": "stderr",
     "output_type": "stream",
     "text": [
      "\n",
      "37.0kiB [00:00, 3.64MiB/s]                 \u001b[A\n",
      " 94%|█████████▍| 469/500 [16:36<00:12,  2.55it/s]"
     ]
    },
    {
     "name": "stdout",
     "output_type": "stream",
     "text": [
      "error\n"
     ]
    },
    {
     "name": "stderr",
     "output_type": "stream",
     "text": [
      "\n",
      "78.5kiB [00:00, 2.04MiB/s]                 \u001b[A\n",
      " 94%|█████████▍| 470/500 [16:37<00:14,  2.03it/s]"
     ]
    },
    {
     "name": "stdout",
     "output_type": "stream",
     "text": [
      "error\n"
     ]
    },
    {
     "name": "stderr",
     "output_type": "stream",
     "text": [
      "\n",
      "55.8kiB [00:00, 5.54MiB/s]                 \u001b[A\n",
      " 94%|█████████▍| 471/500 [16:37<00:14,  2.07it/s]"
     ]
    },
    {
     "name": "stdout",
     "output_type": "stream",
     "text": [
      "error\n"
     ]
    },
    {
     "name": "stderr",
     "output_type": "stream",
     "text": [
      "\n",
      "69.2kiB [00:00, 1.42MiB/s]                 \u001b[A\n",
      " 94%|█████████▍| 472/500 [16:38<00:14,  1.97it/s]"
     ]
    },
    {
     "name": "stdout",
     "output_type": "stream",
     "text": [
      "error\n"
     ]
    },
    {
     "name": "stderr",
     "output_type": "stream",
     "text": [
      "\n",
      "69.9kiB [00:00, 1.73MiB/s]                 \u001b[A\n",
      " 95%|█████████▍| 473/500 [16:38<00:14,  1.88it/s]"
     ]
    },
    {
     "name": "stdout",
     "output_type": "stream",
     "text": [
      "error\n"
     ]
    },
    {
     "name": "stderr",
     "output_type": "stream",
     "text": [
      "\n",
      "38.0kiB [00:00, ?iB/s]                     \u001b[A\n",
      " 95%|█████████▍| 474/500 [16:39<00:12,  2.15it/s]"
     ]
    },
    {
     "name": "stdout",
     "output_type": "stream",
     "text": [
      "error\n"
     ]
    },
    {
     "name": "stderr",
     "output_type": "stream",
     "text": [
      "\n",
      "130kiB [00:00, 1.88MiB/s]                  \u001b[A\n",
      " 95%|█████████▌| 475/500 [16:39<00:12,  1.94it/s]"
     ]
    },
    {
     "name": "stdout",
     "output_type": "stream",
     "text": [
      "error\n"
     ]
    },
    {
     "name": "stderr",
     "output_type": "stream",
     "text": [
      "\n",
      "39.7kiB [00:00, 4.92MiB/s]                 \u001b[A\n",
      " 95%|█████████▌| 476/500 [16:40<00:12,  1.88it/s]"
     ]
    },
    {
     "name": "stdout",
     "output_type": "stream",
     "text": [
      "error\n"
     ]
    },
    {
     "name": "stderr",
     "output_type": "stream",
     "text": [
      "\n",
      "24.5kiB [00:00, ?iB/s]                     \u001b[A\n",
      " 95%|█████████▌| 477/500 [16:40<00:10,  2.14it/s]"
     ]
    },
    {
     "name": "stdout",
     "output_type": "stream",
     "text": [
      "error\n"
     ]
    },
    {
     "name": "stderr",
     "output_type": "stream",
     "text": [
      "\n",
      "48.1kiB [00:00, ?iB/s]                     \u001b[A\n",
      " 96%|█████████▌| 478/500 [16:40<00:09,  2.40it/s]"
     ]
    },
    {
     "name": "stdout",
     "output_type": "stream",
     "text": [
      "error\n"
     ]
    },
    {
     "name": "stderr",
     "output_type": "stream",
     "text": [
      "\n",
      "71.6kiB [00:00, 2.28MiB/s]                 \u001b[A\n",
      " 96%|█████████▌| 479/500 [16:41<00:09,  2.23it/s]"
     ]
    },
    {
     "name": "stdout",
     "output_type": "stream",
     "text": [
      "error\n"
     ]
    },
    {
     "name": "stderr",
     "output_type": "stream",
     "text": [
      "\n",
      "66.0kiB [00:00, 2.10MiB/s]                 \u001b[A\n",
      " 96%|█████████▌| 480/500 [16:41<00:08,  2.46it/s]"
     ]
    },
    {
     "name": "stdout",
     "output_type": "stream",
     "text": [
      "error\n"
     ]
    },
    {
     "name": "stderr",
     "output_type": "stream",
     "text": [
      "\n",
      "151kiB [00:00, 2.18MiB/s]                  \u001b[A\n",
      " 96%|█████████▌| 481/500 [16:42<00:09,  2.11it/s]"
     ]
    },
    {
     "name": "stdout",
     "output_type": "stream",
     "text": [
      "error\n"
     ]
    },
    {
     "name": "stderr",
     "output_type": "stream",
     "text": [
      "\n",
      "114kiB [00:00, 2.14MiB/s]                  \u001b[A\n",
      " 96%|█████████▋| 482/500 [16:42<00:09,  1.91it/s]"
     ]
    },
    {
     "name": "stdout",
     "output_type": "stream",
     "text": [
      "error\n"
     ]
    },
    {
     "name": "stderr",
     "output_type": "stream",
     "text": [
      "\n",
      "39.1kiB [00:00, ?iB/s]                     \u001b[A\n",
      " 97%|█████████▋| 483/500 [16:43<00:08,  1.96it/s]"
     ]
    },
    {
     "name": "stdout",
     "output_type": "stream",
     "text": [
      "error\n"
     ]
    },
    {
     "name": "stderr",
     "output_type": "stream",
     "text": [
      "\n",
      "46.4kiB [00:00, 7.12MiB/s]                 \u001b[A\n",
      " 97%|█████████▋| 484/500 [16:43<00:07,  2.11it/s]"
     ]
    },
    {
     "name": "stdout",
     "output_type": "stream",
     "text": [
      "error\n"
     ]
    },
    {
     "name": "stderr",
     "output_type": "stream",
     "text": [
      "\n",
      "31.5kiB [00:00, ?iB/s]                     \u001b[A\n",
      " 97%|█████████▋| 485/500 [16:44<00:07,  2.12it/s]"
     ]
    },
    {
     "name": "stdout",
     "output_type": "stream",
     "text": [
      "error\n"
     ]
    },
    {
     "name": "stderr",
     "output_type": "stream",
     "text": [
      "\n",
      "37.6kiB [00:00, 2.41MiB/s]                 \u001b[A\n",
      " 97%|█████████▋| 486/500 [16:44<00:06,  2.03it/s]"
     ]
    },
    {
     "name": "stdout",
     "output_type": "stream",
     "text": [
      "error\n"
     ]
    },
    {
     "name": "stderr",
     "output_type": "stream",
     "text": [
      "\n",
      "33.1kiB [00:00, 9.08MiB/s]                 \u001b[A\n",
      " 97%|█████████▋| 487/500 [16:46<00:09,  1.41it/s]"
     ]
    },
    {
     "name": "stdout",
     "output_type": "stream",
     "text": [
      "error\n"
     ]
    },
    {
     "name": "stderr",
     "output_type": "stream",
     "text": [
      "\n",
      "66.9kiB [00:00, 2.15MiB/s]                 \u001b[A\n",
      " 98%|█████████▊| 488/500 [16:46<00:09,  1.30it/s]"
     ]
    },
    {
     "name": "stdout",
     "output_type": "stream",
     "text": [
      "error\n"
     ]
    },
    {
     "name": "stderr",
     "output_type": "stream",
     "text": [
      "\n",
      "50.0kiB [00:00, 4.74MiB/s]                 \u001b[A\n",
      " 98%|█████████▊| 489/500 [16:47<00:07,  1.56it/s]"
     ]
    },
    {
     "name": "stdout",
     "output_type": "stream",
     "text": [
      "error\n"
     ]
    },
    {
     "name": "stderr",
     "output_type": "stream",
     "text": [
      "\n",
      "51.2kiB [00:00, 3.28MiB/s]                 \u001b[A\n",
      " 98%|█████████▊| 490/500 [16:48<00:06,  1.46it/s]"
     ]
    },
    {
     "name": "stdout",
     "output_type": "stream",
     "text": [
      "error\n"
     ]
    },
    {
     "name": "stderr",
     "output_type": "stream",
     "text": [
      "\n",
      "36.8kiB [00:00, 2.35MiB/s]                 \u001b[A\n",
      " 98%|█████████▊| 491/500 [16:48<00:05,  1.54it/s]"
     ]
    },
    {
     "name": "stdout",
     "output_type": "stream",
     "text": [
      "error\n"
     ]
    },
    {
     "name": "stderr",
     "output_type": "stream",
     "text": [
      "\n",
      "38.1kiB [00:00, ?iB/s]                     \u001b[A\n",
      " 98%|█████████▊| 492/500 [16:49<00:04,  1.62it/s]"
     ]
    },
    {
     "name": "stdout",
     "output_type": "stream",
     "text": [
      "error\n"
     ]
    },
    {
     "name": "stderr",
     "output_type": "stream",
     "text": [
      "\n",
      "54.3kiB [00:00, 3.51MiB/s]                 \u001b[A\n",
      " 99%|█████████▊| 493/500 [16:49<00:04,  1.71it/s]"
     ]
    },
    {
     "name": "stdout",
     "output_type": "stream",
     "text": [
      "error\n"
     ]
    },
    {
     "name": "stderr",
     "output_type": "stream",
     "text": [
      "\n",
      "33.7kiB [00:00, 1.45MiB/s]                 \u001b[A\n",
      " 99%|█████████▉| 494/500 [16:50<00:03,  1.84it/s]"
     ]
    },
    {
     "name": "stdout",
     "output_type": "stream",
     "text": [
      "error\n"
     ]
    },
    {
     "name": "stderr",
     "output_type": "stream",
     "text": [
      "\n",
      "38.9kiB [00:00, 4.74MiB/s]                 \u001b[A\n",
      " 99%|█████████▉| 495/500 [16:50<00:02,  1.94it/s]"
     ]
    },
    {
     "name": "stdout",
     "output_type": "stream",
     "text": [
      "error\n"
     ]
    },
    {
     "name": "stderr",
     "output_type": "stream",
     "text": [
      "\n",
      "95.0kiB [00:00, 1.82MiB/s]                 \u001b[A\n",
      " 99%|█████████▉| 496/500 [16:51<00:01,  2.04it/s]"
     ]
    },
    {
     "name": "stdout",
     "output_type": "stream",
     "text": [
      "error\n"
     ]
    },
    {
     "name": "stderr",
     "output_type": "stream",
     "text": [
      "\n",
      "18.1kiB [00:00, ?iB/s]                     \u001b[A\n",
      " 99%|█████████▉| 497/500 [16:51<00:01,  2.41it/s]"
     ]
    },
    {
     "name": "stdout",
     "output_type": "stream",
     "text": [
      "error\n"
     ]
    },
    {
     "name": "stderr",
     "output_type": "stream",
     "text": [
      "\n",
      "33.7kiB [00:00, 1.80MiB/s]                 \u001b[A\n",
      "100%|█████████▉| 498/500 [16:51<00:00,  2.37it/s]"
     ]
    },
    {
     "name": "stdout",
     "output_type": "stream",
     "text": [
      "error\n"
     ]
    },
    {
     "name": "stderr",
     "output_type": "stream",
     "text": [
      "\n",
      "100kiB [00:00, 1.42MiB/s]                  \u001b[A\n",
      "100%|█████████▉| 499/500 [16:52<00:00,  2.04it/s]"
     ]
    },
    {
     "name": "stdout",
     "output_type": "stream",
     "text": [
      "error\n"
     ]
    },
    {
     "name": "stderr",
     "output_type": "stream",
     "text": [
      "\n",
      "105kiB [00:00, 1.73MiB/s]                  \u001b[A\n",
      "100%|██████████| 500/500 [16:52<00:00,  2.03s/it]"
     ]
    },
    {
     "name": "stdout",
     "output_type": "stream",
     "text": [
      "error\n"
     ]
    },
    {
     "name": "stderr",
     "output_type": "stream",
     "text": [
      "\n"
     ]
    }
   ],
   "source": [
    "from tqdm import tqdm\n",
    "for i in tqdm(range(500)):\n",
    "    try:\n",
    "        processRow(data,i+2000)\n",
    "    except:\n",
    "        print('error')\n",
    "        os.remove(\"tmp.jpg\")"
   ]
  },
  {
   "cell_type": "code",
   "execution_count": 8,
   "id": "c20ae10f-8718-4040-b6e0-f3060fd1171e",
   "metadata": {},
   "outputs": [],
   "source": [
    "data.to_excel('outReadNB3.xlsx')"
   ]
  },
  {
   "cell_type": "markdown",
   "id": "88f91348-e93e-4f3a-9643-94d33f6eaaf4",
   "metadata": {},
   "source": [
    "# Script tri"
   ]
  },
  {
   "cell_type": "code",
   "execution_count": 6,
   "id": "75b3a512-0ab6-4ede-9cc8-0706ef0ffaf5",
   "metadata": {},
   "outputs": [],
   "source": [
    "    from IPython.display import Image\n",
    "    from IPython.core.display import HTML "
   ]
  },
  {
   "cell_type": "code",
   "execution_count": 18,
   "id": "886d3ca9-e8d4-41d5-af4e-fadde066e180",
   "metadata": {},
   "outputs": [
    {
     "data": {
      "text/html": [
       "<img src=\"https://one.nbstatic.fr/uploaded/20080710/29716/00167_EXPRESS-HEYM-9-3-X-74-S-B11-4-4X20-Conv-5-cm-a-100M.jpg\"/>"
      ],
      "text/plain": [
       "<IPython.core.display.Image object>"
      ]
     },
     "metadata": {},
     "output_type": "display_data"
    },
    {
     "name": "stdin",
     "output_type": "stream",
     "text": [
      " \n"
     ]
    },
    {
     "data": {
      "text/html": [
       "<img src=\"https://one.nbstatic.fr/uploaded/20080710/29716/00168_EXPRESS-HEYM-9-3-X-74-S-B11-4-4X20-Conv-5-cm-a-100M.jpg\"/>"
      ],
      "text/plain": [
       "<IPython.core.display.Image object>"
      ]
     },
     "metadata": {},
     "output_type": "display_data"
    },
    {
     "name": "stdin",
     "output_type": "stream",
     "text": [
      " \n"
     ]
    },
    {
     "data": {
      "text/html": [
       "<img src=\"https://one.nbstatic.fr/uploaded/20080710/29716/00169_EXPRESS-HEYM-9-3-X-74-S-B11-4-4X20-Conv-5-cm-a-100M.jpg\"/>"
      ],
      "text/plain": [
       "<IPython.core.display.Image object>"
      ]
     },
     "metadata": {},
     "output_type": "display_data"
    },
    {
     "name": "stdin",
     "output_type": "stream",
     "text": [
      " \n"
     ]
    },
    {
     "data": {
      "text/html": [
       "<img src=\"https://one.nbstatic.fr/uploaded/20080710/29716/00170_EXPRESS-HEYM-9-3-X-74-S-B11-4-4X20-Conv-5-cm-a-100M.jpg\"/>"
      ],
      "text/plain": [
       "<IPython.core.display.Image object>"
      ]
     },
     "metadata": {},
     "output_type": "display_data"
    },
    {
     "name": "stdin",
     "output_type": "stream",
     "text": [
      " \n"
     ]
    },
    {
     "data": {
      "text/html": [
       "<img src=\"https://one.nbstatic.fr/uploaded/20080710/29716/00171_EXPRESS-HEYM-9-3-X-74-S-B11-4-4X20-Conv-5-cm-a-100M.jpg\"/>"
      ],
      "text/plain": [
       "<IPython.core.display.Image object>"
      ]
     },
     "metadata": {},
     "output_type": "display_data"
    },
    {
     "name": "stdin",
     "output_type": "stream",
     "text": [
      " \n"
     ]
    },
    {
     "data": {
      "text/html": [
       "<img src=\"https://one.nbstatic.fr/uploaded/20080710/29716/00172_EXPRESS-HEYM-9-3-X-74-S-B11-4-4X20-Conv-5-cm-a-100M.jpg\"/>"
      ],
      "text/plain": [
       "<IPython.core.display.Image object>"
      ]
     },
     "metadata": {},
     "output_type": "display_data"
    },
    {
     "name": "stdin",
     "output_type": "stream",
     "text": [
      " \n"
     ]
    },
    {
     "data": {
      "text/html": [
       "<img src=\"https://one.nbstatic.fr/uploaded/20080710/29716/00173_EXPRESS-HEYM-9-3-X-74-S-B11-4-4X20-Conv-5-cm-a-100M.jpg\"/>"
      ],
      "text/plain": [
       "<IPython.core.display.Image object>"
      ]
     },
     "metadata": {},
     "output_type": "display_data"
    },
    {
     "name": "stdin",
     "output_type": "stream",
     "text": [
      " y\n"
     ]
    },
    {
     "data": {
      "text/html": [
       "<img src=\"https://one.nbstatic.fr/uploaded/20080710/29716/00174_EXPRESS-HEYM-9-3-X-74-S-B11-4-4X20-Conv-5-cm-a-100M.jpg\"/>"
      ],
      "text/plain": [
       "<IPython.core.display.Image object>"
      ]
     },
     "metadata": {},
     "output_type": "display_data"
    },
    {
     "name": "stdin",
     "output_type": "stream",
     "text": [
      " \n"
     ]
    },
    {
     "data": {
      "text/html": [
       "<img src=\"https://one.nbstatic.fr/uploaded/20080710/29716/00175_EXPRESS-HEYM-9-3-X-74-S-B11-4-4X20-Conv-5-cm-a-100M.jpg\"/>"
      ],
      "text/plain": [
       "<IPython.core.display.Image object>"
      ]
     },
     "metadata": {},
     "output_type": "display_data"
    },
    {
     "name": "stdin",
     "output_type": "stream",
     "text": [
      " \n"
     ]
    },
    {
     "data": {
      "text/html": [
       "<img src=\"https://one.nbstatic.fr/uploaded/20080710/29716/00176_EXPRESS-HEYM-9-3-X-74-S-B11-4-4X20-Conv-5-cm-a-100M.jpg\"/>"
      ],
      "text/plain": [
       "<IPython.core.display.Image object>"
      ]
     },
     "metadata": {},
     "output_type": "display_data"
    },
    {
     "name": "stdin",
     "output_type": "stream",
     "text": [
      " \n"
     ]
    },
    {
     "data": {
      "text/html": [
       "<img src=\"https://one.nbstatic.fr/uploaded/20081120/55644/00019_CARABINE-CALIBRE-243-WINCHESTER-SUR-BASE-MAUSER-98-.jpg\"/>"
      ],
      "text/plain": [
       "<IPython.core.display.Image object>"
      ]
     },
     "metadata": {},
     "output_type": "display_data"
    },
    {
     "name": "stdin",
     "output_type": "stream",
     "text": [
      " \n"
     ]
    },
    {
     "data": {
      "text/html": [
       "<img src=\"https://one.nbstatic.fr/uploaded/20081120/55644/00020_CARABINE-CALIBRE-243-WINCHESTER-SUR-BASE-MAUSER-98-.JPG\"/>"
      ],
      "text/plain": [
       "<IPython.core.display.Image object>"
      ]
     },
     "metadata": {},
     "output_type": "display_data"
    },
    {
     "name": "stdin",
     "output_type": "stream",
     "text": [
      " y\n"
     ]
    },
    {
     "data": {
      "text/html": [
       "<img src=\"https://one.nbstatic.fr/uploaded/20081120/55644/00021_CARABINE-CALIBRE-243-WINCHESTER-SUR-BASE-MAUSER-98-.JPG\"/>"
      ],
      "text/plain": [
       "<IPython.core.display.Image object>"
      ]
     },
     "metadata": {},
     "output_type": "display_data"
    },
    {
     "name": "stdin",
     "output_type": "stream",
     "text": [
      " \n"
     ]
    },
    {
     "data": {
      "text/html": [
       "<img src=\"https://one.nbstatic.fr/uploaded/20081120/55644/00022_CARABINE-CALIBRE-243-WINCHESTER-SUR-BASE-MAUSER-98-.JPG\"/>"
      ],
      "text/plain": [
       "<IPython.core.display.Image object>"
      ]
     },
     "metadata": {},
     "output_type": "display_data"
    },
    {
     "name": "stdin",
     "output_type": "stream",
     "text": [
      " stop\n"
     ]
    }
   ],
   "source": [
    "a=''\n",
    "for i in range(10):\n",
    "    for key in data:\n",
    "        img=data[key][i]\n",
    "        if img !='':\n",
    "            display(Image(url= img))\n",
    "            a=input()\n",
    "            if a=='y':\n",
    "                pass\n",
    "            elif a=='stop':\n",
    "                break\n",
    "            else:\n",
    "                data[key][i]=''\n",
    "        else:\n",
    "            pass\n",
    "    if a=='stop':\n",
    "        data.to_excel('datalabelized.xlsx')\n",
    "        break\n",
    "    else:\n",
    "        pass"
   ]
  },
  {
   "cell_type": "code",
   "execution_count": 14,
   "id": "ae471b69-9422-4a12-a1e2-73c10cac93cb",
   "metadata": {},
   "outputs": [
    {
     "data": {
      "text/html": [
       "<div>\n",
       "<style scoped>\n",
       "    .dataframe tbody tr th:only-of-type {\n",
       "        vertical-align: middle;\n",
       "    }\n",
       "\n",
       "    .dataframe tbody tr th {\n",
       "        vertical-align: top;\n",
       "    }\n",
       "\n",
       "    .dataframe thead th {\n",
       "        text-align: right;\n",
       "    }\n",
       "</style>\n",
       "<table border=\"1\" class=\"dataframe\">\n",
       "  <thead>\n",
       "    <tr style=\"text-align: right;\">\n",
       "      <th></th>\n",
       "      <th>file1</th>\n",
       "      <th>file2</th>\n",
       "      <th>file3</th>\n",
       "      <th>file4</th>\n",
       "      <th>file5</th>\n",
       "      <th>file6</th>\n",
       "      <th>file7</th>\n",
       "      <th>file8</th>\n",
       "      <th>file9</th>\n",
       "      <th>file10</th>\n",
       "      <th>...</th>\n",
       "      <th>file3text</th>\n",
       "      <th>file4text</th>\n",
       "      <th>file5text</th>\n",
       "      <th>file6text</th>\n",
       "      <th>file7text</th>\n",
       "      <th>file8text</th>\n",
       "      <th>file9text</th>\n",
       "      <th>file10text</th>\n",
       "      <th>file11text</th>\n",
       "      <th>file12text</th>\n",
       "    </tr>\n",
       "    <tr>\n",
       "      <th>rga_ref</th>\n",
       "      <th></th>\n",
       "      <th></th>\n",
       "      <th></th>\n",
       "      <th></th>\n",
       "      <th></th>\n",
       "      <th></th>\n",
       "      <th></th>\n",
       "      <th></th>\n",
       "      <th></th>\n",
       "      <th></th>\n",
       "      <th></th>\n",
       "      <th></th>\n",
       "      <th></th>\n",
       "      <th></th>\n",
       "      <th></th>\n",
       "      <th></th>\n",
       "      <th></th>\n",
       "      <th></th>\n",
       "      <th></th>\n",
       "      <th></th>\n",
       "      <th></th>\n",
       "    </tr>\n",
       "  </thead>\n",
       "  <tbody>\n",
       "    <tr>\n",
       "      <th>AN067</th>\n",
       "      <td></td>\n",
       "      <td></td>\n",
       "      <td></td>\n",
       "      <td></td>\n",
       "      <td></td>\n",
       "      <td></td>\n",
       "      <td></td>\n",
       "      <td></td>\n",
       "      <td></td>\n",
       "      <td></td>\n",
       "      <td>...</td>\n",
       "      <td></td>\n",
       "      <td></td>\n",
       "      <td></td>\n",
       "      <td></td>\n",
       "      <td></td>\n",
       "      <td></td>\n",
       "      <td></td>\n",
       "      <td></td>\n",
       "      <td></td>\n",
       "      <td></td>\n",
       "    </tr>\n",
       "    <tr>\n",
       "      <th>AG230</th>\n",
       "      <td>https://one.nbstatic.fr/uploaded/20080710/2971...</td>\n",
       "      <td>https://one.nbstatic.fr/uploaded/20080710/2971...</td>\n",
       "      <td>https://one.nbstatic.fr/uploaded/20080710/2971...</td>\n",
       "      <td>https://one.nbstatic.fr/uploaded/20080710/2971...</td>\n",
       "      <td>https://one.nbstatic.fr/uploaded/20080710/2971...</td>\n",
       "      <td>https://one.nbstatic.fr/uploaded/20080710/2971...</td>\n",
       "      <td>https://one.nbstatic.fr/uploaded/20080710/2971...</td>\n",
       "      <td>https://one.nbstatic.fr/uploaded/20080710/2971...</td>\n",
       "      <td>https://one.nbstatic.fr/uploaded/20080710/2971...</td>\n",
       "      <td>https://one.nbstatic.fr/uploaded/20080710/2971...</td>\n",
       "      <td>...</td>\n",
       "      <td></td>\n",
       "      <td></td>\n",
       "      <td></td>\n",
       "      <td></td>\n",
       "      <td></td>\n",
       "      <td></td>\n",
       "      <td></td>\n",
       "      <td></td>\n",
       "      <td></td>\n",
       "      <td></td>\n",
       "    </tr>\n",
       "    <tr>\n",
       "      <th>BS024</th>\n",
       "      <td>https://one.nbstatic.fr/uploaded/20081120/5564...</td>\n",
       "      <td>https://one.nbstatic.fr/uploaded/20081120/5564...</td>\n",
       "      <td>https://one.nbstatic.fr/uploaded/20081120/5564...</td>\n",
       "      <td>https://one.nbstatic.fr/uploaded/20081120/5564...</td>\n",
       "      <td>https://one.nbstatic.fr/uploaded/20081120/5564...</td>\n",
       "      <td>https://one.nbstatic.fr/uploaded/20081120/5564...</td>\n",
       "      <td>https://one.nbstatic.fr/uploaded/20081120/5564...</td>\n",
       "      <td>https://one.nbstatic.fr/uploaded/20081120/5564...</td>\n",
       "      <td>https://one.nbstatic.fr/uploaded/20081120/5564...</td>\n",
       "      <td>https://one.nbstatic.fr/uploaded/20081120/5564...</td>\n",
       "      <td>...</td>\n",
       "      <td></td>\n",
       "      <td></td>\n",
       "      <td></td>\n",
       "      <td></td>\n",
       "      <td></td>\n",
       "      <td></td>\n",
       "      <td></td>\n",
       "      <td></td>\n",
       "      <td></td>\n",
       "      <td></td>\n",
       "    </tr>\n",
       "    <tr>\n",
       "      <th>AU494</th>\n",
       "      <td>https://one.nbstatic.fr/uploaded/20090104/6800...</td>\n",
       "      <td>https://one.nbstatic.fr/uploaded/20090104/6800...</td>\n",
       "      <td>https://one.nbstatic.fr/uploaded/20090104/6800...</td>\n",
       "      <td>https://one.nbstatic.fr/uploaded/20090104/6800...</td>\n",
       "      <td>https://one.nbstatic.fr/uploaded/20090104/6800...</td>\n",
       "      <td>https://one.nbstatic.fr/uploaded/20090104/6800...</td>\n",
       "      <td>https://one.nbstatic.fr/uploaded/20090104/6800...</td>\n",
       "      <td></td>\n",
       "      <td></td>\n",
       "      <td></td>\n",
       "      <td>...</td>\n",
       "      <td></td>\n",
       "      <td></td>\n",
       "      <td></td>\n",
       "      <td></td>\n",
       "      <td></td>\n",
       "      <td></td>\n",
       "      <td></td>\n",
       "      <td></td>\n",
       "      <td></td>\n",
       "      <td></td>\n",
       "    </tr>\n",
       "    <tr>\n",
       "      <th>BS505</th>\n",
       "      <td>https://one.nbstatic.fr/uploaded/20090709/1424...</td>\n",
       "      <td>https://one.nbstatic.fr/uploaded/20090709/1424...</td>\n",
       "      <td>https://one.nbstatic.fr/uploaded/20090709/1424...</td>\n",
       "      <td>https://one.nbstatic.fr/uploaded/20090709/1424...</td>\n",
       "      <td>https://one.nbstatic.fr/uploaded/20090709/1424...</td>\n",
       "      <td>https://one.nbstatic.fr/uploaded/20090709/1424...</td>\n",
       "      <td>https://one.nbstatic.fr/uploaded/20090709/1424...</td>\n",
       "      <td>https://one.nbstatic.fr/uploaded/20090709/1424...</td>\n",
       "      <td>https://one.nbstatic.fr/uploaded/20090709/1424...</td>\n",
       "      <td>https://one.nbstatic.fr/uploaded/20090709/1424...</td>\n",
       "      <td>...</td>\n",
       "      <td></td>\n",
       "      <td></td>\n",
       "      <td></td>\n",
       "      <td></td>\n",
       "      <td></td>\n",
       "      <td></td>\n",
       "      <td></td>\n",
       "      <td></td>\n",
       "      <td></td>\n",
       "      <td></td>\n",
       "    </tr>\n",
       "    <tr>\n",
       "      <th>...</th>\n",
       "      <td>...</td>\n",
       "      <td>...</td>\n",
       "      <td>...</td>\n",
       "      <td>...</td>\n",
       "      <td>...</td>\n",
       "      <td>...</td>\n",
       "      <td>...</td>\n",
       "      <td>...</td>\n",
       "      <td>...</td>\n",
       "      <td>...</td>\n",
       "      <td>...</td>\n",
       "      <td>...</td>\n",
       "      <td>...</td>\n",
       "      <td>...</td>\n",
       "      <td>...</td>\n",
       "      <td>...</td>\n",
       "      <td>...</td>\n",
       "      <td>...</td>\n",
       "      <td>...</td>\n",
       "      <td>...</td>\n",
       "      <td>...</td>\n",
       "    </tr>\n",
       "    <tr>\n",
       "      <th>AN939</th>\n",
       "      <td>https://one.nbstatic.fr/uploaded/20231225/1130...</td>\n",
       "      <td>https://one.nbstatic.fr/uploaded/20231225/1130...</td>\n",
       "      <td>https://one.nbstatic.fr/uploaded/20231225/1130...</td>\n",
       "      <td>https://one.nbstatic.fr/uploaded/20231225/1130...</td>\n",
       "      <td>https://one.nbstatic.fr/uploaded/20231225/1130...</td>\n",
       "      <td>https://one.nbstatic.fr/uploaded/20231225/1130...</td>\n",
       "      <td>https://one.nbstatic.fr/uploaded/20231225/1130...</td>\n",
       "      <td>https://one.nbstatic.fr/uploaded/20231225/1130...</td>\n",
       "      <td>https://one.nbstatic.fr/uploaded/20231225/1130...</td>\n",
       "      <td>https://one.nbstatic.fr/uploaded/20231225/1130...</td>\n",
       "      <td>...</td>\n",
       "      <td></td>\n",
       "      <td></td>\n",
       "      <td></td>\n",
       "      <td></td>\n",
       "      <td></td>\n",
       "      <td></td>\n",
       "      <td></td>\n",
       "      <td></td>\n",
       "      <td></td>\n",
       "      <td></td>\n",
       "    </tr>\n",
       "    <tr>\n",
       "      <th>AZ087</th>\n",
       "      <td>https://one.nbstatic.fr/uploaded/20240119/1139...</td>\n",
       "      <td>https://one.nbstatic.fr/uploaded/20240119/1139...</td>\n",
       "      <td>https://one.nbstatic.fr/uploaded/20240119/1139...</td>\n",
       "      <td>https://one.nbstatic.fr/uploaded/20240119/1139...</td>\n",
       "      <td>https://one.nbstatic.fr/uploaded/20240119/1139...</td>\n",
       "      <td>https://one.nbstatic.fr/uploaded/20240119/1139...</td>\n",
       "      <td>https://one.nbstatic.fr/uploaded/20240119/1139...</td>\n",
       "      <td>https://one.nbstatic.fr/uploaded/20240119/1139...</td>\n",
       "      <td>https://one.nbstatic.fr/uploaded/20240119/1139...</td>\n",
       "      <td>https://one.nbstatic.fr/uploaded/20240119/1139...</td>\n",
       "      <td>...</td>\n",
       "      <td></td>\n",
       "      <td></td>\n",
       "      <td></td>\n",
       "      <td></td>\n",
       "      <td></td>\n",
       "      <td></td>\n",
       "      <td></td>\n",
       "      <td></td>\n",
       "      <td></td>\n",
       "      <td></td>\n",
       "    </tr>\n",
       "    <tr>\n",
       "      <th>AT500</th>\n",
       "      <td>https://one.nbstatic.fr/uploaded/20240123/1140...</td>\n",
       "      <td>https://one.nbstatic.fr/uploaded/20240123/1140...</td>\n",
       "      <td>https://one.nbstatic.fr/uploaded/20240123/1140...</td>\n",
       "      <td>https://one.nbstatic.fr/uploaded/20240123/1140...</td>\n",
       "      <td>https://one.nbstatic.fr/uploaded/20240123/1140...</td>\n",
       "      <td>https://one.nbstatic.fr/uploaded/20240123/1140...</td>\n",
       "      <td>https://one.nbstatic.fr/uploaded/20240123/1140...</td>\n",
       "      <td>https://one.nbstatic.fr/uploaded/20240123/1140...</td>\n",
       "      <td></td>\n",
       "      <td></td>\n",
       "      <td>...</td>\n",
       "      <td></td>\n",
       "      <td></td>\n",
       "      <td></td>\n",
       "      <td></td>\n",
       "      <td></td>\n",
       "      <td></td>\n",
       "      <td></td>\n",
       "      <td></td>\n",
       "      <td></td>\n",
       "      <td></td>\n",
       "    </tr>\n",
       "    <tr>\n",
       "      <th>AH303</th>\n",
       "      <td>https://one.nbstatic.fr/uploaded/20240123/1140...</td>\n",
       "      <td>https://one.nbstatic.fr/uploaded/20240123/1140...</td>\n",
       "      <td>https://one.nbstatic.fr/uploaded/20240123/1140...</td>\n",
       "      <td>https://one.nbstatic.fr/uploaded/20240123/1140...</td>\n",
       "      <td>https://one.nbstatic.fr/uploaded/20240123/1140...</td>\n",
       "      <td></td>\n",
       "      <td></td>\n",
       "      <td></td>\n",
       "      <td></td>\n",
       "      <td></td>\n",
       "      <td>...</td>\n",
       "      <td></td>\n",
       "      <td></td>\n",
       "      <td></td>\n",
       "      <td></td>\n",
       "      <td></td>\n",
       "      <td></td>\n",
       "      <td></td>\n",
       "      <td></td>\n",
       "      <td></td>\n",
       "      <td></td>\n",
       "    </tr>\n",
       "    <tr>\n",
       "      <th>AU494</th>\n",
       "      <td>https://one.nbstatic.fr/uploaded/20230910/1090...</td>\n",
       "      <td>https://one.nbstatic.fr/uploaded/20230910/1090...</td>\n",
       "      <td>https://one.nbstatic.fr/uploaded/20230910/1090...</td>\n",
       "      <td>https://one.nbstatic.fr/uploaded/20230910/1090...</td>\n",
       "      <td>https://one.nbstatic.fr/uploaded/20230910/1090...</td>\n",
       "      <td>https://one.nbstatic.fr/uploaded/20230910/1090...</td>\n",
       "      <td>https://one.nbstatic.fr/uploaded/20230910/1090...</td>\n",
       "      <td>https://one.nbstatic.fr/uploaded/20230910/1090...</td>\n",
       "      <td>https://one.nbstatic.fr/uploaded/20230910/1090...</td>\n",
       "      <td>https://one.nbstatic.fr/uploaded/20230910/1090...</td>\n",
       "      <td>...</td>\n",
       "      <td></td>\n",
       "      <td></td>\n",
       "      <td></td>\n",
       "      <td></td>\n",
       "      <td></td>\n",
       "      <td></td>\n",
       "      <td></td>\n",
       "      <td></td>\n",
       "      <td></td>\n",
       "      <td></td>\n",
       "    </tr>\n",
       "  </tbody>\n",
       "</table>\n",
       "<p>92627 rows × 24 columns</p>\n",
       "</div>"
      ],
      "text/plain": [
       "                                                     file1  \\\n",
       "rga_ref                                                      \n",
       "AN067                                                        \n",
       "AG230    https://one.nbstatic.fr/uploaded/20080710/2971...   \n",
       "BS024    https://one.nbstatic.fr/uploaded/20081120/5564...   \n",
       "AU494    https://one.nbstatic.fr/uploaded/20090104/6800...   \n",
       "BS505    https://one.nbstatic.fr/uploaded/20090709/1424...   \n",
       "...                                                    ...   \n",
       "AN939    https://one.nbstatic.fr/uploaded/20231225/1130...   \n",
       "AZ087    https://one.nbstatic.fr/uploaded/20240119/1139...   \n",
       "AT500    https://one.nbstatic.fr/uploaded/20240123/1140...   \n",
       "AH303    https://one.nbstatic.fr/uploaded/20240123/1140...   \n",
       "AU494    https://one.nbstatic.fr/uploaded/20230910/1090...   \n",
       "\n",
       "                                                     file2  \\\n",
       "rga_ref                                                      \n",
       "AN067                                                        \n",
       "AG230    https://one.nbstatic.fr/uploaded/20080710/2971...   \n",
       "BS024    https://one.nbstatic.fr/uploaded/20081120/5564...   \n",
       "AU494    https://one.nbstatic.fr/uploaded/20090104/6800...   \n",
       "BS505    https://one.nbstatic.fr/uploaded/20090709/1424...   \n",
       "...                                                    ...   \n",
       "AN939    https://one.nbstatic.fr/uploaded/20231225/1130...   \n",
       "AZ087    https://one.nbstatic.fr/uploaded/20240119/1139...   \n",
       "AT500    https://one.nbstatic.fr/uploaded/20240123/1140...   \n",
       "AH303    https://one.nbstatic.fr/uploaded/20240123/1140...   \n",
       "AU494    https://one.nbstatic.fr/uploaded/20230910/1090...   \n",
       "\n",
       "                                                     file3  \\\n",
       "rga_ref                                                      \n",
       "AN067                                                        \n",
       "AG230    https://one.nbstatic.fr/uploaded/20080710/2971...   \n",
       "BS024    https://one.nbstatic.fr/uploaded/20081120/5564...   \n",
       "AU494    https://one.nbstatic.fr/uploaded/20090104/6800...   \n",
       "BS505    https://one.nbstatic.fr/uploaded/20090709/1424...   \n",
       "...                                                    ...   \n",
       "AN939    https://one.nbstatic.fr/uploaded/20231225/1130...   \n",
       "AZ087    https://one.nbstatic.fr/uploaded/20240119/1139...   \n",
       "AT500    https://one.nbstatic.fr/uploaded/20240123/1140...   \n",
       "AH303    https://one.nbstatic.fr/uploaded/20240123/1140...   \n",
       "AU494    https://one.nbstatic.fr/uploaded/20230910/1090...   \n",
       "\n",
       "                                                     file4  \\\n",
       "rga_ref                                                      \n",
       "AN067                                                        \n",
       "AG230    https://one.nbstatic.fr/uploaded/20080710/2971...   \n",
       "BS024    https://one.nbstatic.fr/uploaded/20081120/5564...   \n",
       "AU494    https://one.nbstatic.fr/uploaded/20090104/6800...   \n",
       "BS505    https://one.nbstatic.fr/uploaded/20090709/1424...   \n",
       "...                                                    ...   \n",
       "AN939    https://one.nbstatic.fr/uploaded/20231225/1130...   \n",
       "AZ087    https://one.nbstatic.fr/uploaded/20240119/1139...   \n",
       "AT500    https://one.nbstatic.fr/uploaded/20240123/1140...   \n",
       "AH303    https://one.nbstatic.fr/uploaded/20240123/1140...   \n",
       "AU494    https://one.nbstatic.fr/uploaded/20230910/1090...   \n",
       "\n",
       "                                                     file5  \\\n",
       "rga_ref                                                      \n",
       "AN067                                                        \n",
       "AG230    https://one.nbstatic.fr/uploaded/20080710/2971...   \n",
       "BS024    https://one.nbstatic.fr/uploaded/20081120/5564...   \n",
       "AU494    https://one.nbstatic.fr/uploaded/20090104/6800...   \n",
       "BS505    https://one.nbstatic.fr/uploaded/20090709/1424...   \n",
       "...                                                    ...   \n",
       "AN939    https://one.nbstatic.fr/uploaded/20231225/1130...   \n",
       "AZ087    https://one.nbstatic.fr/uploaded/20240119/1139...   \n",
       "AT500    https://one.nbstatic.fr/uploaded/20240123/1140...   \n",
       "AH303    https://one.nbstatic.fr/uploaded/20240123/1140...   \n",
       "AU494    https://one.nbstatic.fr/uploaded/20230910/1090...   \n",
       "\n",
       "                                                     file6  \\\n",
       "rga_ref                                                      \n",
       "AN067                                                        \n",
       "AG230    https://one.nbstatic.fr/uploaded/20080710/2971...   \n",
       "BS024    https://one.nbstatic.fr/uploaded/20081120/5564...   \n",
       "AU494    https://one.nbstatic.fr/uploaded/20090104/6800...   \n",
       "BS505    https://one.nbstatic.fr/uploaded/20090709/1424...   \n",
       "...                                                    ...   \n",
       "AN939    https://one.nbstatic.fr/uploaded/20231225/1130...   \n",
       "AZ087    https://one.nbstatic.fr/uploaded/20240119/1139...   \n",
       "AT500    https://one.nbstatic.fr/uploaded/20240123/1140...   \n",
       "AH303                                                        \n",
       "AU494    https://one.nbstatic.fr/uploaded/20230910/1090...   \n",
       "\n",
       "                                                     file7  \\\n",
       "rga_ref                                                      \n",
       "AN067                                                        \n",
       "AG230    https://one.nbstatic.fr/uploaded/20080710/2971...   \n",
       "BS024    https://one.nbstatic.fr/uploaded/20081120/5564...   \n",
       "AU494    https://one.nbstatic.fr/uploaded/20090104/6800...   \n",
       "BS505    https://one.nbstatic.fr/uploaded/20090709/1424...   \n",
       "...                                                    ...   \n",
       "AN939    https://one.nbstatic.fr/uploaded/20231225/1130...   \n",
       "AZ087    https://one.nbstatic.fr/uploaded/20240119/1139...   \n",
       "AT500    https://one.nbstatic.fr/uploaded/20240123/1140...   \n",
       "AH303                                                        \n",
       "AU494    https://one.nbstatic.fr/uploaded/20230910/1090...   \n",
       "\n",
       "                                                     file8  \\\n",
       "rga_ref                                                      \n",
       "AN067                                                        \n",
       "AG230    https://one.nbstatic.fr/uploaded/20080710/2971...   \n",
       "BS024    https://one.nbstatic.fr/uploaded/20081120/5564...   \n",
       "AU494                                                        \n",
       "BS505    https://one.nbstatic.fr/uploaded/20090709/1424...   \n",
       "...                                                    ...   \n",
       "AN939    https://one.nbstatic.fr/uploaded/20231225/1130...   \n",
       "AZ087    https://one.nbstatic.fr/uploaded/20240119/1139...   \n",
       "AT500    https://one.nbstatic.fr/uploaded/20240123/1140...   \n",
       "AH303                                                        \n",
       "AU494    https://one.nbstatic.fr/uploaded/20230910/1090...   \n",
       "\n",
       "                                                     file9  \\\n",
       "rga_ref                                                      \n",
       "AN067                                                        \n",
       "AG230    https://one.nbstatic.fr/uploaded/20080710/2971...   \n",
       "BS024    https://one.nbstatic.fr/uploaded/20081120/5564...   \n",
       "AU494                                                        \n",
       "BS505    https://one.nbstatic.fr/uploaded/20090709/1424...   \n",
       "...                                                    ...   \n",
       "AN939    https://one.nbstatic.fr/uploaded/20231225/1130...   \n",
       "AZ087    https://one.nbstatic.fr/uploaded/20240119/1139...   \n",
       "AT500                                                        \n",
       "AH303                                                        \n",
       "AU494    https://one.nbstatic.fr/uploaded/20230910/1090...   \n",
       "\n",
       "                                                    file10  ... file3text  \\\n",
       "rga_ref                                                     ...             \n",
       "AN067                                                       ...             \n",
       "AG230    https://one.nbstatic.fr/uploaded/20080710/2971...  ...             \n",
       "BS024    https://one.nbstatic.fr/uploaded/20081120/5564...  ...             \n",
       "AU494                                                       ...             \n",
       "BS505    https://one.nbstatic.fr/uploaded/20090709/1424...  ...             \n",
       "...                                                    ...  ...       ...   \n",
       "AN939    https://one.nbstatic.fr/uploaded/20231225/1130...  ...             \n",
       "AZ087    https://one.nbstatic.fr/uploaded/20240119/1139...  ...             \n",
       "AT500                                                       ...             \n",
       "AH303                                                       ...             \n",
       "AU494    https://one.nbstatic.fr/uploaded/20230910/1090...  ...             \n",
       "\n",
       "        file4text file5text file6text file7text file8text file9text  \\\n",
       "rga_ref                                                               \n",
       "AN067                                                                 \n",
       "AG230                                                                 \n",
       "BS024                                                                 \n",
       "AU494                                                                 \n",
       "BS505                                                                 \n",
       "...           ...       ...       ...       ...       ...       ...   \n",
       "AN939                                                                 \n",
       "AZ087                                                                 \n",
       "AT500                                                                 \n",
       "AH303                                                                 \n",
       "AU494                                                                 \n",
       "\n",
       "        file10text file11text file12text  \n",
       "rga_ref                                   \n",
       "AN067                                     \n",
       "AG230                                     \n",
       "BS024                                     \n",
       "AU494                                     \n",
       "BS505                                     \n",
       "...            ...        ...        ...  \n",
       "AN939                                     \n",
       "AZ087                                     \n",
       "AT500                                     \n",
       "AH303                                     \n",
       "AU494                                     \n",
       "\n",
       "[92627 rows x 24 columns]"
      ]
     },
     "execution_count": 14,
     "metadata": {},
     "output_type": "execute_result"
    }
   ],
   "source": [
    "data"
   ]
  }
 ],
 "metadata": {
  "kernelspec": {
   "display_name": "Python 3 (ipykernel)",
   "language": "python",
   "name": "python3"
  },
  "language_info": {
   "codemirror_mode": {
    "name": "ipython",
    "version": 3
   },
   "file_extension": ".py",
   "mimetype": "text/x-python",
   "name": "python",
   "nbconvert_exporter": "python",
   "pygments_lexer": "ipython3",
   "version": "3.12.5"
  }
 },
 "nbformat": 4,
 "nbformat_minor": 5
}

{
 "cells": [
  {
   "cell_type": "markdown",
   "id": "65062271",
   "metadata": {},
   "source": [
    "# GradCam\n",
    "This notebook aims at applying GradCam algorithm on images in order to understand better what parts of an image influences the classification network. \n",
    "GradCam is supposed, via the last activation layer of the classification network, to highlight the parts of the image which led the classifier to give a label X for this image.\n",
    "Source: [https://arxiv.org/pdf/1610.02391.pdf](https://arxiv.org/pdf/1610.02391.pdf)"
   ]
  },
  {
   "cell_type": "code",
   "execution_count": 1,
   "id": "775e6f53",
   "metadata": {},
   "outputs": [],
   "source": [
    "import os\n",
    "import glob\n",
    "import numpy as np\n",
    "import torch\n",
    "import torch.nn as nn\n",
    "import torchvision.models as Model\n",
    "from PIL import Image\n",
    "import matplotlib.pyplot as plt\n",
    "from torchvision import transforms\n",
    "from prepare_data import ConvertRgb, Rescale, RandomPad\n"
   ]
  },
  {
   "cell_type": "markdown",
   "id": "636f7d3b",
   "metadata": {},
   "source": [
    "# Chose model to use (type of Efficientnet, chose pth file)"
   ]
  },
  {
   "cell_type": "code",
   "execution_count": 34,
   "id": "7128f553",
   "metadata": {},
   "outputs": [],
   "source": [
    "EFFICIENTNETS = {\n",
    "    'B0': 224, 'B1': 240,\n",
    "    'B2': 288, 'B3': 300,\n",
    "    'B4': 380, 'B5': 456,\n",
    "    'B6': 528, 'B7': 600\n",
    "    }\n",
    "\n",
    "CLASSES = ['autre_epaule', 'autre_pistolet', 'epaule_a_levier_sous_garde',\n",
    "        'epaule_a_percussion_silex', 'epaule_a_pompe', 'epaule_a_un_coup', 'epaule_a_verrou',\n",
    "        'pistolet_a_percussion_silex', 'pistolet_semi_auto_moderne', 'revolver']\n",
    "\n",
    "MODEL_NAME = 'B5'\n",
    "MODEL_TORCH = Model.efficientnet_b5\n",
    "INPUT_SIZE = EFFICIENTNETS[MODEL_NAME]\n",
    "\n",
    "device = torch.device('cpu')"
   ]
  },
  {
   "cell_type": "code",
   "execution_count": null,
   "id": "4712e802",
   "metadata": {
    "scrolled": false
   },
   "outputs": [],
   "source": [
    "\n",
    "def build_model(model: Model) -> Model:\n",
    "    # Parameters of newly constructed modules have requires_grad=True by default\n",
    "    num_ftrs = model.classifier[1].in_features\n",
    "    # to try later : add batch normalization and dropout\n",
    "    model.classifier[1] = torch.nn.Linear(num_ftrs, len(CLASSES))\n",
    "    model = model.to(device)\n",
    "    return model\n",
    "\n",
    "\n",
    "trained_model = build_model(MODEL_TORCH())\n",
    "# Initialize model with the pretrained weights\n",
    "trained_model.load_state_dict(\n",
    "    torch.load('models/B5_2022-02-09_13/B5_2022-02-09_13.pth', map_location=device)['model_state_dict']\n",
    ")"
   ]
  },
  {
   "cell_type": "code",
   "execution_count": 95,
   "id": "d1416334",
   "metadata": {},
   "outputs": [],
   "source": [
    "%%capture\n",
    "class EfficientNet(nn.Module):\n",
    "    def __init__(self, model):\n",
    "        super(EfficientNet, self).__init__()\n",
    "        \n",
    "        # get the pretrained VGG19 network\n",
    "        self.net = model\n",
    "        \n",
    "        # disect the network to access its last convolutional layer\n",
    "        self.features_conv = self.net.features\n",
    "        \n",
    "        # get the last pool of the features stem\n",
    "        self.pool = self.net.avgpool\n",
    "        \n",
    "        # get the classifier of the vgg19\n",
    "        self.classifier = self.net.classifier\n",
    "        \n",
    "        # placeholder for the gradients\n",
    "        self.gradients = None\n",
    "    \n",
    "    # hook for the gradients of the activations\n",
    "    def activations_hook(self, grad):\n",
    "        self.gradients = grad\n",
    "        \n",
    "    def forward(self, x):\n",
    "        x = self.features_conv(x)\n",
    "        \n",
    "        # register the hook\n",
    "        h = x.register_hook(self.activations_hook)\n",
    "        \n",
    "        # apply the remaining pooling\n",
    "        x = self.pool(x)\n",
    "        x = x.view((1, -1))\n",
    "        x = self.classifier(x)\n",
    "        return x\n",
    "    \n",
    "    # method for the gradient extraction\n",
    "    def get_activations_gradient(self):\n",
    "        return self.gradients\n",
    "    \n",
    "    # method for the activation exctraction\n",
    "    def get_activations(self, x):\n",
    "        return self.features_conv(x)\n",
    "\n",
    "model = EfficientNet(trained_model)\n",
    "model.eval()"
   ]
  },
  {
   "cell_type": "code",
   "execution_count": 103,
   "id": "29e1f8f8",
   "metadata": {},
   "outputs": [],
   "source": [
    "def gradcam_heatmap(in_tensor, pred_index):\n",
    "    preds = model(in_tensor)\n",
    "    \n",
    "    if pred_index is None:\n",
    "        pred_index = preds.argmax(dim=1)\n",
    "    else:\n",
    "        assert pred_index < len(CLASSES)\n",
    "    print(f\"GradCam for class {CLASSES[pred_index]}, ranked {1+list(torch.argsort(preds, dim=1, descending=True)[0]).index(pred_index)}/{len(CLASSES)}\")\n",
    "        \n",
    "    # get the gradient of the output with respect to the parameters of the model\n",
    "    preds[:, 3].backward()\n",
    "\n",
    "    # pull the gradients out of the model\n",
    "    gradients = model.get_activations_gradient()\n",
    "\n",
    "    # pool the gradients across the channels\n",
    "    pooled_gradients = torch.mean(gradients, dim=[0, 2, 3])\n",
    "\n",
    "    # get the activations of the last convolutional layer\n",
    "    activations = model.get_activations(in_tensor).detach()\n",
    "\n",
    "    # weight the channels by corresponding gradients\n",
    "    for i in range(512):\n",
    "        activations[:, i, :, :] *= pooled_gradients[i]\n",
    "\n",
    "    # average the channels of the activations\n",
    "    heatmap = torch.mean(activations, dim=1).squeeze()\n",
    "\n",
    "    # relu on top of the heatmap\n",
    "    # expression (2) in https://arxiv.org/pdf/1610.02391.pdf\n",
    "    heatmap = np.maximum(heatmap, 0)\n",
    "\n",
    "    # normalize the heatmap\n",
    "    heatmap /= torch.max(heatmap)\n",
    "\n",
    "    return np.uint8(255 * heatmap.numpy())"
   ]
  },
  {
   "cell_type": "code",
   "execution_count": 104,
   "id": "c568ff6b",
   "metadata": {},
   "outputs": [],
   "source": [
    "mean = [0.485, 0.456, 0.406]\n",
    "std = [0.229, 0.224, 0.225]\n",
    "\n",
    "loader =  transforms.Compose([\n",
    "            ConvertRgb(),\n",
    "            Rescale(456),\n",
    "            RandomPad(456),\n",
    "            transforms.ToTensor(),\n",
    "            transforms.Normalize(mean= mean, std= std)\n",
    "        ])\n",
    "\n",
    "def load_efficientnet_image(path):\n",
    "    im = Image.open(path)\n",
    "    image = loader(im).float()\n",
    "    image = image.unsqueeze(0)\n",
    "    return image\n",
    "\n",
    "inv_normalize = transforms.Normalize(\n",
    "   mean= [-m/s for m, s in zip(mean, std)],\n",
    "   std= [1/s for s in std]\n",
    ")\n",
    "\n",
    "def get_image_from_efficientnet_tensor(in_tensor):\n",
    "    inv_tensor = inv_normalize(in_tensor)\n",
    "    img = inv_tensor.squeeze(0).permute(1,2,0)\n",
    "    return np.uint8(255 * img.numpy())"
   ]
  },
  {
   "cell_type": "markdown",
   "id": "d7dddabd",
   "metadata": {},
   "source": [
    "# Chose input image"
   ]
  },
  {
   "cell_type": "code",
   "execution_count": 175,
   "id": "b6b7304a",
   "metadata": {},
   "outputs": [
    {
     "data": {
      "text/plain": [
       "<matplotlib.image.AxesImage at 0x7f5819481c70>"
      ]
     },
     "execution_count": 175,
     "metadata": {},
     "output_type": "execute_result"
    },
    {
     "data": {
      "image/png": "[encoded data removed]",
      "text/plain": [
       "<Figure size 432x288 with 1 Axes>"
      ]
     },
     "metadata": {
      "needs_background": "light"
     },
     "output_type": "display_data"
    }
   ],
   "source": [
    "in_tensor = load_efficientnet_image('test/spas12.jpg')\n",
    "\n",
    "img = get_image_from_efficientnet_tensor(in_tensor)\n",
    "plt.imshow(img)"
   ]
  },
  {
   "cell_type": "markdown",
   "id": "bdf831a5",
   "metadata": {},
   "source": [
    "# Compute gradcam\n",
    "Paramètres:\n",
    "- tenseur d'entrée (image chargée dans la cell précédente)\n",
    "- index de la classe de l'on veut tester (entre 0 et 9). Si None, prendra l'index de la classe qui a le plus haut score de prédiction.\n",
    "\n",
    "La fonction GradCam écrit un message avec les infos suivantes:\n",
    "- rappel de la classe choisie pour tester\n",
    "- pour l'image passée en entrée, quel était le rang de cette classe parmi toutes les prédictions (1=classe la plus probable, 10=classe la moins probable)"
   ]
  },
  {
   "cell_type": "code",
   "execution_count": 176,
   "id": "0dc574e3",
   "metadata": {},
   "outputs": [
    {
     "name": "stdout",
     "output_type": "stream",
     "text": [
      "GradCam for class autre_pistolet, ranked 1/10\n"
     ]
    },
    {
     "data": {
      "text/plain": [
       "<matplotlib.image.AxesImage at 0x7f58193e8310>"
      ]
     },
     "execution_count": 176,
     "metadata": {},
     "output_type": "execute_result"
    },
    {
     "data": {
      "image/png": "[encoded data removed]",
      "text/plain": [
       "<Figure size 288x288 with 1 Axes>"
      ]
     },
     "metadata": {
      "needs_background": "light"
     },
     "output_type": "display_data"
    }
   ],
   "source": [
    "heatmap = gradcam_heatmap(in_tensor, None)\n",
    "# draw the heatmap\n",
    "plt.matshow(heatmap)"
   ]
  },
  {
   "cell_type": "code",
   "execution_count": 177,
   "id": "716d3e52",
   "metadata": {},
   "outputs": [
    {
     "data": {
      "image/png": "[encoded data removed]",
      "text/plain": [
       "<Figure size 432x288 with 1 Axes>"
      ]
     },
     "metadata": {
      "needs_background": "light"
     },
     "output_type": "display_data"
    }
   ],
   "source": [
    "def show_heatmap_on_image(heatmap, img):\n",
    "    import cv2\n",
    "    heatmap = cv2.resize(heatmap, (img.shape[1], img.shape[0]))\n",
    "    heatmap = cv2.applyColorMap(heatmap, cv2.COLORMAP_JET)[:,:,::-1] # cv2 is in BGR instead of RGB\n",
    "    superimposed_img = np.uint8(np.clip(heatmap * 0.4 + img, 0, 255))\n",
    "    plt.imshow(superimposed_img)\n",
    "\n",
    "show_heatmap_on_image(heatmap, img)"
   ]
  },
  {
   "cell_type": "code",
   "execution_count": null,
   "id": "41fec209",
   "metadata": {},
   "outputs": [],
   "source": []
  }
 ],
 "metadata": {
  "kernelspec": {
   "display_name": "Python 3 (ipykernel)",
   "language": "python",
   "name": "python3"
  },
  "language_info": {
   "codemirror_mode": {
    "name": "ipython",
    "version": 3
   },
   "file_extension": ".py",
   "mimetype": "text/x-python",
   "name": "python",
   "nbconvert_exporter": "python",
   "pygments_lexer": "ipython3",
   "version": "3.9.7"
  }
 },
 "nbformat": 4,
 "nbformat_minor": 5
}

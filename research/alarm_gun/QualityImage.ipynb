{
 "cells": [
  {
   "cell_type": "code",
   "execution_count": null,
   "id": "4bc3b7e8-846d-492f-8773-54b7d0751872",
   "metadata": {},
   "outputs": [],
   "source": [
    "import pyiqa\n",
    "import torch\n",
    "import os\n",
    "from PIL import Image\n",
    "import time\n",
    "import numpy as np\n"
   ]
  },
  {
   "cell_type": "markdown",
   "id": "ee9ef759-3fae-45c8-be25-0f7f8ea339fc",
   "metadata": {},
   "source": [
    "# Comparison of different metric"
   ]
  },
  {
   "cell_type": "code",
   "execution_count": null,
   "id": "a8e2d451-5ea4-409f-808a-1f809905f21a",
   "metadata": {},
   "outputs": [],
   "source": [
    "device = torch.device(\"cpu\")\n",
    "metricname=\"cnniqa\"\n",
    "metric = pyiqa.create_metric(metricname, device=device)\n",
    "\n",
    "imagesFlou=os.listdir(\"./flou\")\n",
    "imagesNet=os.listdir(\"./net\")\n",
    "flou=[]\n",
    "net=[]\n",
    "for image in imagesFlou:\n",
    "    img = Image.open(\"./flou/\"+image)\n",
    "    width, height = img.size\n",
    "    ratio = 640/width\n",
    "    newsize = (640, int(height*ratio))\n",
    "    im1 = img.resize(newsize)\n",
    "    a=time.time()\n",
    "    res=metric(im1)\n",
    "    print(time.time() -a)\n",
    "    flou.append(float(res))\n",
    "\n",
    "for image in imagesNet:\n",
    "    img = Image.open(\"./net/\"+image)\n",
    "    width, height = img.size\n",
    "    ratio = 640/width\n",
    "    newsize = (640, int(height*ratio))\n",
    "    im1 = img.resize(newsize)\n",
    "    a=time.time()\n",
    "    res=metric(im1)\n",
    "    print(time.time() -a)\n",
    "    net.append(float(res))\n",
    "\n",
    "print(np.mean(flou),np.mean(net))"
   ]
  },
  {
   "cell_type": "code",
   "execution_count": null,
   "id": "48db6dbd-ca01-4a95-b9db-f6c133310c79",
   "metadata": {},
   "outputs": [],
   "source": [
    "from matplotlib import pyplot\n",
    "\n",
    "x = net\n",
    "y = flou\n",
    "\n",
    "bins = np.linspace(0, 1,50)\n",
    "\n",
    "pyplot.hist(x, bins, alpha=0.5, label='good Photo')\n",
    "pyplot.hist(y, bins, alpha=0.5, label='bad Photo')\n",
    "pyplot.legend(loc='upper right')\n",
    "pyplot.title(metricname)\n",
    "pyplot.show()"
   ]
  },
  {
   "cell_type": "markdown",
   "id": "0c6c378c-9def-4d5e-82ad-18504113b797",
   "metadata": {},
   "source": [
    "# Observation of outliers"
   ]
  },
  {
   "cell_type": "code",
   "execution_count": null,
   "id": "5f99c16e-6a82-4358-b7b8-82947f0cfbfc",
   "metadata": {},
   "outputs": [],
   "source": [
    "device = torch.device(\"cpu\")\n",
    "metricname=\"cnniqa\"\n",
    "metric = pyiqa.create_metric(metricname, device=device)\n",
    "\n",
    "imagesFlou=os.listdir(\"./flou\")\n",
    "imagesNet=os.listdir(\"./net\")\n",
    "threshold=0.55\n",
    "for image in imagesFlou:\n",
    "    img = Image.open(\"./flou/\"+image)\n",
    "    width, height = img.size\n",
    "    ratio = 640/width\n",
    "    newsize = (640, int(height*ratio))\n",
    "    im1 = img.resize(newsize)\n",
    "    res=metric(im1)\n",
    "    if res>threshold:\n",
    "        print(\"False good image : \"+image + \" \" + str(res))\n",
    "\n",
    "for image in imagesNet:\n",
    "    img = Image.open(\"./net/\"+image)\n",
    "    width, height = img.size\n",
    "    ratio = 640/width\n",
    "    newsize = (640, int(height*ratio))\n",
    "    im1 = img.resize(newsize)\n",
    "    res=metric(im1)\n",
    "    if res<threshold:\n",
    "        print(\"False bad image : \"+image + \" \" + str(res))\n",
    "\n",
    "\n"
   ]
  },
  {
   "cell_type": "code",
   "execution_count": null,
   "id": "f57edc4b-463b-4ab0-8131-e64b0d23931a",
   "metadata": {},
   "outputs": [],
   "source": []
  },
  {
   "cell_type": "code",
   "execution_count": null,
   "id": "b3306e9f-8a0d-4646-ba66-1809d22c0010",
   "metadata": {},
   "outputs": [],
   "source": []
  }
 ],
 "metadata": {
  "kernelspec": {
   "display_name": "Python 3 (ipykernel)",
   "language": "python",
   "name": "python3"
  },
  "language_info": {
   "codemirror_mode": {
    "name": "ipython",
    "version": 3
   },
   "file_extension": ".py",
   "mimetype": "text/x-python",
   "name": "python",
   "nbconvert_exporter": "python",
   "pygments_lexer": "ipython3",
   "version": "3.10.14"
  }
 },
 "nbformat": 4,
 "nbformat_minor": 5
}
